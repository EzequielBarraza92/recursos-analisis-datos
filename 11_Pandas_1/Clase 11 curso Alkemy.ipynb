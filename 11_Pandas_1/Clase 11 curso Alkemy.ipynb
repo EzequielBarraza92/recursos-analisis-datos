{
 "cells": [
  {
   "cell_type": "markdown",
   "id": "bf5eb00c-f78b-4604-9e22-6de3c6547184",
   "metadata": {},
   "source": [
    "# Pandas"
   ]
  },
  {
   "cell_type": "markdown",
   "id": "9c72c832-5656-472d-9fd6-0e9a952d2e05",
   "metadata": {},
   "source": [
    "Pandas es una librería de Python especializada en el manejo y análisis de estructuras de datos, donde podemos encontrar dos tipos de estructuras:\n",
    "- Series: estructura de una dimensión.\n",
    "- DataFrame: estructura de dos dimensiones (tablas).\n",
    "\n",
    "Con pandas podemos leer y escribir fácilmente ficheros en formato CSV, Excel y bases de datos SQL."
   ]
  },
  {
   "cell_type": "markdown",
   "id": "0fa67b03-06ed-472b-936f-a729f606d46a",
   "metadata": {},
   "source": [
    "### Ejercicio 0"
   ]
  },
  {
   "cell_type": "markdown",
   "id": "4b43633d-492c-4cfd-a264-e86c2100848e",
   "metadata": {},
   "source": [
    "Instalación e importación\n",
    "\n",
    "- Terminal: pip install pandas === 2.2.2\n",
    "- Notebook: !pip install pandas == 2.2.2"
   ]
  },
  {
   "cell_type": "code",
   "execution_count": 1,
   "id": "3415d8f3-dc3c-415f-a4b7-294a116680e1",
   "metadata": {},
   "outputs": [],
   "source": [
    "import pandas as pd\n",
    "import numpy as np"
   ]
  },
  {
   "cell_type": "markdown",
   "id": "22e75966-8060-4c95-b96a-019f81b8ceea",
   "metadata": {},
   "source": [
    "## Series"
   ]
  },
  {
   "cell_type": "markdown",
   "id": "cc7b4b2d-a371-46b1-9c8d-249c91893ebc",
   "metadata": {},
   "source": [
    "Las series nos permiten representar información en forma de colummnas."
   ]
  },
  {
   "cell_type": "markdown",
   "id": "8d82d67b-e0c0-488f-abcc-bba43c0d7103",
   "metadata": {},
   "source": [
    "### Ejercicio 1.1"
   ]
  },
  {
   "cell_type": "markdown",
   "id": "885badad-ed58-439b-8a83-e82904fcc7f2",
   "metadata": {},
   "source": [
    "Veamos un ejemplo sencillo de cómo crear una serie que contenga números en Pandas."
   ]
  },
  {
   "cell_type": "code",
   "execution_count": 2,
   "id": "690216fc-5596-4ee7-ab35-9f32670d9a8d",
   "metadata": {},
   "outputs": [],
   "source": [
    "lista_numerica = [1, 2, 3]\n",
    "array_numerico1 = np.array([4, 5, 6])\n",
    "\n",
    "serie_numerica1 = pd.Series(lista_numerica)\n",
    "serie_numerica2 = pd.Series(array_numerico1)\n",
    "serie_numerica3 = pd.Series([7, 8, 9])"
   ]
  },
  {
   "cell_type": "code",
   "execution_count": 3,
   "id": "01b526ba-fc51-44bc-a48a-353a059e110a",
   "metadata": {},
   "outputs": [
    {
     "data": {
      "text/plain": [
       "0    1\n",
       "1    2\n",
       "2    3\n",
       "dtype: int64"
      ]
     },
     "execution_count": 3,
     "metadata": {},
     "output_type": "execute_result"
    }
   ],
   "source": [
    "serie_numerica1"
   ]
  },
  {
   "cell_type": "code",
   "execution_count": 4,
   "id": "2080f769-1096-42bc-9010-5aad860851f5",
   "metadata": {},
   "outputs": [
    {
     "name": "stdout",
     "output_type": "stream",
     "text": [
      "0    4\n",
      "1    5\n",
      "2    6\n",
      "dtype: int32\n"
     ]
    }
   ],
   "source": [
    "print(serie_numerica2)"
   ]
  },
  {
   "cell_type": "code",
   "execution_count": 5,
   "id": "054958b9-5f3e-4984-b827-2592c8b400bf",
   "metadata": {},
   "outputs": [
    {
     "data": {
      "text/plain": [
       "0    7\n",
       "1    8\n",
       "2    9\n",
       "dtype: int64"
      ]
     },
     "execution_count": 5,
     "metadata": {},
     "output_type": "execute_result"
    }
   ],
   "source": [
    "serie_numerica3"
   ]
  },
  {
   "cell_type": "markdown",
   "id": "d0d02b3d-8e71-499a-82e4-d02ba4cd2913",
   "metadata": {},
   "source": [
    "### Ejercicio 1.2"
   ]
  },
  {
   "cell_type": "markdown",
   "id": "a8e01afc-5f18-49b8-acef-36db1759b9d3",
   "metadata": {},
   "source": [
    "Podemos crear series con cualquier tipo de dato. Además con el atributo dtype podemos especificar cómo queremos que se guarde la información."
   ]
  },
  {
   "cell_type": "code",
   "execution_count": 11,
   "id": "e51b7829-efc8-48a6-b540-1f362bcfaee9",
   "metadata": {},
   "outputs": [
    {
     "data": {
      "text/plain": [
       "0     Matemáticas\n",
       "1        Historia\n",
       "2        Economía\n",
       "3    Programación\n",
       "4          Inglés\n",
       "dtype: string"
      ]
     },
     "execution_count": 11,
     "metadata": {},
     "output_type": "execute_result"
    }
   ],
   "source": [
    "asignaturas = pd.Series([\"Matemáticas\", \"Historia\", \"Economía\", \"Programación\", \"Inglés\"], dtype = \"string\")\n",
    "asignaturas"
   ]
  },
  {
   "cell_type": "markdown",
   "id": "b8775009-74c0-4c1a-8efb-c1ad27c4c40f",
   "metadata": {},
   "source": [
    "### Ejercicio 1.3"
   ]
  },
  {
   "cell_type": "markdown",
   "id": "edf83a17-2cc2-4e08-a744-fe5be7307760",
   "metadata": {},
   "source": [
    "Otra opción es utilizar un diccionario para cargar datos en una serie."
   ]
  },
  {
   "cell_type": "code",
   "execution_count": 10,
   "id": "4ae74eca-f947-4ab5-a39d-70993725513e",
   "metadata": {},
   "outputs": [
    {
     "data": {
      "text/plain": [
       "Andrés     6\n",
       "Pedro      9\n",
       "José       4\n",
       "María     10\n",
       "Laura      8\n",
       "dtype: int64"
      ]
     },
     "execution_count": 10,
     "metadata": {},
     "output_type": "execute_result"
    }
   ],
   "source": [
    "dic_notas_alumnos = {\"Andrés\": 6, \"Pedro\": 9, \"José\": 4, \"María\": 10, \"Laura\": 8}\n",
    "notas_alumnos = pd.Series(dic_notas_alumnos, index =[\"Andrés\", \"Pedro\", \"José\", \"María\", \"Laura\"])\n",
    "notas_alumnos"
   ]
  },
  {
   "cell_type": "markdown",
   "id": "258fa936-f56e-4797-958f-8cafcc579f79",
   "metadata": {},
   "source": [
    "### Ejercicio 1.4"
   ]
  },
  {
   "cell_type": "markdown",
   "id": "66076361-ea2d-43df-8a0e-8749efabce79",
   "metadata": {},
   "source": [
    "Utilizando NumPy junto con Pandas podemos crear una serie en base a un array con números aleatorios."
   ]
  },
  {
   "cell_type": "code",
   "execution_count": 9,
   "id": "7a6b2b0d-c2df-4989-b209-9bbd6787af57",
   "metadata": {},
   "outputs": [],
   "source": [
    "rng = np.random.default_rng()"
   ]
  },
  {
   "cell_type": "code",
   "execution_count": 12,
   "id": "2ebe942c-c5af-4cb9-9507-c98e68db4099",
   "metadata": {},
   "outputs": [
    {
     "data": {
      "text/plain": [
       "Mendoza       36\n",
       "BsAs          20\n",
       "Córdoba       27\n",
       "San Luis      64\n",
       "Catamarca     49\n",
       "San Juan      54\n",
       "La Pampa      60\n",
       "Entre Ríos    37\n",
       "CABA          85\n",
       "Misiones      56\n",
       "dtype: int64"
      ]
     },
     "execution_count": 12,
     "metadata": {},
     "output_type": "execute_result"
    }
   ],
   "source": [
    "array_enteros_aleatorios = rng.integers(1, 101, 10) #Array con 10 elementos integer aleatorios entre 0 y 100\n",
    "index = [\"Mendoza\", \"BsAs\", \"Córdoba\", \"San Luis\", \"Catamarca\", \"San Juan\", \"La Pampa\", \"Entre Ríos\", \"CABA\", \"Misiones\"]\n",
    "provincias = pd.Series(array_enteros_aleatorios, index)\n",
    "provincias"
   ]
  },
  {
   "cell_type": "markdown",
   "id": "8cee1055-c3aa-44d7-aafb-cffb85dca46d",
   "metadata": {},
   "source": [
    "### Ejercicio 1.5"
   ]
  },
  {
   "cell_type": "markdown",
   "id": "8bc917b6-1985-4e15-a1a7-7f8d5c28faa5",
   "metadata": {},
   "source": [
    "Vamos a ver funciones simples para una serie."
   ]
  },
  {
   "cell_type": "code",
   "execution_count": 13,
   "id": "811c194a-9364-4f2c-bae6-63a502358d85",
   "metadata": {},
   "outputs": [
    {
     "data": {
      "text/plain": [
       "0     96\n",
       "1     98\n",
       "2     44\n",
       "3     71\n",
       "4     90\n",
       "      ..\n",
       "95     8\n",
       "96    21\n",
       "97    56\n",
       "98    28\n",
       "99    64\n",
       "Length: 100, dtype: int64"
      ]
     },
     "execution_count": 13,
     "metadata": {},
     "output_type": "execute_result"
    }
   ],
   "source": [
    "serie_cien_elementos = pd.Series(rng.integers(1, 101, 100))\n",
    "serie_cien_elementos"
   ]
  },
  {
   "cell_type": "code",
   "execution_count": 14,
   "id": "05c55e5c-dc12-4cb2-a8e2-d48d9b209b2b",
   "metadata": {},
   "outputs": [
    {
     "data": {
      "text/plain": [
       "100"
      ]
     },
     "execution_count": 14,
     "metadata": {},
     "output_type": "execute_result"
    }
   ],
   "source": [
    "len(serie_cien_elementos)"
   ]
  },
  {
   "cell_type": "code",
   "execution_count": 15,
   "id": "9720bd97-affd-4db0-bc85-2dc8dd509e9b",
   "metadata": {},
   "outputs": [
    {
     "data": {
      "text/plain": [
       "(100,)"
      ]
     },
     "execution_count": 15,
     "metadata": {},
     "output_type": "execute_result"
    }
   ],
   "source": [
    "serie_cien_elementos.shape"
   ]
  },
  {
   "cell_type": "code",
   "execution_count": 16,
   "id": "b36f6484-e32f-4e6c-ab93-93af834abb3b",
   "metadata": {},
   "outputs": [
    {
     "data": {
      "text/plain": [
       "dtype('int64')"
      ]
     },
     "execution_count": 16,
     "metadata": {},
     "output_type": "execute_result"
    }
   ],
   "source": [
    "serie_cien_elementos.dtype"
   ]
  },
  {
   "cell_type": "code",
   "execution_count": 17,
   "id": "5eb1d612-f37f-4af9-b7c9-cdd5ce3705dd",
   "metadata": {},
   "outputs": [
    {
     "data": {
      "text/plain": [
       "0    96\n",
       "1    98\n",
       "2    44\n",
       "3    71\n",
       "4    90\n",
       "5     6\n",
       "6    67\n",
       "7    84\n",
       "8    92\n",
       "9    54\n",
       "dtype: int64"
      ]
     },
     "execution_count": 17,
     "metadata": {},
     "output_type": "execute_result"
    }
   ],
   "source": [
    "serie_cien_elementos.head(10)"
   ]
  },
  {
   "cell_type": "code",
   "execution_count": 18,
   "id": "c8ccd951-b7f9-4547-91ad-5f89e8c87947",
   "metadata": {},
   "outputs": [
    {
     "data": {
      "text/plain": [
       "90    50\n",
       "91    70\n",
       "92    85\n",
       "93    61\n",
       "94    20\n",
       "95     8\n",
       "96    21\n",
       "97    56\n",
       "98    28\n",
       "99    64\n",
       "dtype: int64"
      ]
     },
     "execution_count": 18,
     "metadata": {},
     "output_type": "execute_result"
    }
   ],
   "source": [
    "serie_cien_elementos.tail(10)"
   ]
  },
  {
   "cell_type": "markdown",
   "id": "bd935f2f-4d32-4989-845b-e916bc2d043e",
   "metadata": {},
   "source": [
    "### Ejercicio 1.6"
   ]
  },
  {
   "cell_type": "markdown",
   "id": "8924bd1f-a6ec-4cbd-8aac-14418670536d",
   "metadata": {},
   "source": [
    "En las series podemos acceder a los valores y al índice usando tanto la posición como el índice. O aplicando una condición."
   ]
  },
  {
   "cell_type": "code",
   "execution_count": 19,
   "id": "50e330ec-a900-42e7-9276-bd7b132d0b75",
   "metadata": {},
   "outputs": [
    {
     "data": {
      "text/plain": [
       "Mendoza       36\n",
       "BsAs          20\n",
       "Córdoba       27\n",
       "San Luis      64\n",
       "Catamarca     49\n",
       "San Juan      54\n",
       "La Pampa      60\n",
       "Entre Ríos    37\n",
       "CABA          85\n",
       "Misiones      56\n",
       "dtype: int64"
      ]
     },
     "execution_count": 19,
     "metadata": {},
     "output_type": "execute_result"
    }
   ],
   "source": [
    "provincias"
   ]
  },
  {
   "cell_type": "code",
   "execution_count": 20,
   "id": "76a39a64-4437-458c-bd65-22c3fb940f24",
   "metadata": {},
   "outputs": [
    {
     "data": {
      "text/plain": [
       "('Mendoza', 36)"
      ]
     },
     "execution_count": 20,
     "metadata": {},
     "output_type": "execute_result"
    }
   ],
   "source": [
    "provincias.index[0], provincias.iloc[0]"
   ]
  },
  {
   "cell_type": "code",
   "execution_count": 21,
   "id": "f92267fc-4106-4443-abab-931c8f169754",
   "metadata": {},
   "outputs": [
    {
     "data": {
      "text/plain": [
       "('San Luis', 64)"
      ]
     },
     "execution_count": 21,
     "metadata": {},
     "output_type": "execute_result"
    }
   ],
   "source": [
    "provincias.index[3], provincias.iloc[3]"
   ]
  },
  {
   "cell_type": "code",
   "execution_count": 22,
   "id": "883df0bc-0172-404a-bc93-47bd6a43e0f0",
   "metadata": {},
   "outputs": [
    {
     "data": {
      "text/plain": [
       "('Misiones', 56)"
      ]
     },
     "execution_count": 22,
     "metadata": {},
     "output_type": "execute_result"
    }
   ],
   "source": [
    "provincias.index[-1], provincias.iloc[-1]"
   ]
  },
  {
   "cell_type": "code",
   "execution_count": 23,
   "id": "1af83fa2-b612-4269-b276-8aa1892317a8",
   "metadata": {},
   "outputs": [
    {
     "data": {
      "text/plain": [
       "San Juan      54\n",
       "La Pampa      60\n",
       "Entre Ríos    37\n",
       "CABA          85\n",
       "dtype: int64"
      ]
     },
     "execution_count": 23,
     "metadata": {},
     "output_type": "execute_result"
    }
   ],
   "source": [
    "provincias.iloc[5:9]"
   ]
  },
  {
   "cell_type": "code",
   "execution_count": 24,
   "id": "52fb9010-973f-4f65-b068-dfb780db50a2",
   "metadata": {},
   "outputs": [
    {
     "data": {
      "text/plain": [
       "Mendoza    36\n",
       "BsAs       20\n",
       "Córdoba    27\n",
       "dtype: int64"
      ]
     },
     "execution_count": 24,
     "metadata": {},
     "output_type": "execute_result"
    }
   ],
   "source": [
    "provincias.iloc[:3]"
   ]
  },
  {
   "cell_type": "code",
   "execution_count": 25,
   "id": "ad7facb2-be7c-49bd-849d-8d7db72caa73",
   "metadata": {},
   "outputs": [
    {
     "data": {
      "text/plain": [
       "La Pampa      60\n",
       "Entre Ríos    37\n",
       "CABA          85\n",
       "Misiones      56\n",
       "dtype: int64"
      ]
     },
     "execution_count": 25,
     "metadata": {},
     "output_type": "execute_result"
    }
   ],
   "source": [
    "provincias.iloc[-4:]"
   ]
  },
  {
   "cell_type": "code",
   "execution_count": 26,
   "id": "ef96e509-d6e4-4315-b200-ae3f66e02b86",
   "metadata": {},
   "outputs": [
    {
     "data": {
      "text/plain": [
       "San Luis    64\n",
       "San Juan    54\n",
       "La Pampa    60\n",
       "CABA        85\n",
       "Misiones    56\n",
       "dtype: int64"
      ]
     },
     "execution_count": 26,
     "metadata": {},
     "output_type": "execute_result"
    }
   ],
   "source": [
    "provincias[provincias > 50] #Solo obtendremos los valores > 50"
   ]
  },
  {
   "cell_type": "code",
   "execution_count": 27,
   "id": "69e18850-4975-4736-95d8-be9dadd1d7f1",
   "metadata": {},
   "outputs": [
    {
     "data": {
      "text/plain": [
       "Series([], dtype: int64)"
      ]
     },
     "execution_count": 27,
     "metadata": {},
     "output_type": "execute_result"
    }
   ],
   "source": [
    "provincias[provincias == 11] #Solo obtendremos los valores = 11"
   ]
  },
  {
   "cell_type": "code",
   "execution_count": 28,
   "id": "b5edd2e5-3577-4b42-a92e-7b635353b19a",
   "metadata": {},
   "outputs": [
    {
     "data": {
      "text/plain": [
       "Mendoza       36\n",
       "BsAs          20\n",
       "Córdoba       27\n",
       "Entre Ríos    37\n",
       "dtype: int64"
      ]
     },
     "execution_count": 28,
     "metadata": {},
     "output_type": "execute_result"
    }
   ],
   "source": [
    "provincias[(provincias > 15) & (provincias < 40)] #Solo obtendremos los valores entre > 15 y < 40"
   ]
  },
  {
   "cell_type": "code",
   "execution_count": 29,
   "id": "1c7450f2-dc71-42b9-8406-b00ed174ed9e",
   "metadata": {},
   "outputs": [
    {
     "data": {
      "text/plain": [
       "60"
      ]
     },
     "execution_count": 29,
     "metadata": {},
     "output_type": "execute_result"
    }
   ],
   "source": [
    "provincias[\"La Pampa\"] #Podemos acceder a un valor usando el índice"
   ]
  },
  {
   "cell_type": "code",
   "execution_count": 30,
   "id": "0e3d5a68-ad84-4611-8429-dc4c4fdfc6fa",
   "metadata": {},
   "outputs": [
    {
     "data": {
      "text/plain": [
       "La Pampa    60\n",
       "Córdoba     27\n",
       "CABA        85\n",
       "dtype: int64"
      ]
     },
     "execution_count": 30,
     "metadata": {},
     "output_type": "execute_result"
    }
   ],
   "source": [
    "provincias[[\"La Pampa\", \"Córdoba\", \"CABA\"]] #O a múltiples pasando un tupla con los índices"
   ]
  },
  {
   "cell_type": "markdown",
   "id": "67fb7788-5024-40e3-91d9-039eb12a9ab5",
   "metadata": {},
   "source": [
    "### Ejercicio 1.7"
   ]
  },
  {
   "cell_type": "markdown",
   "id": "36bca308-13f1-434f-b381-7fb9ed346f81",
   "metadata": {},
   "source": [
    "En Pandas contamos con una amplia gama de funciones y métodos que nos permiten realizar cálculos."
   ]
  },
  {
   "cell_type": "code",
   "execution_count": 31,
   "id": "ac3f04f9-a2ed-46d0-ab11-757b76d27a0d",
   "metadata": {},
   "outputs": [
    {
     "data": {
      "text/plain": [
       "Mendoza       36\n",
       "BsAs          20\n",
       "Córdoba       27\n",
       "San Luis      64\n",
       "Catamarca     49\n",
       "San Juan      54\n",
       "La Pampa      60\n",
       "Entre Ríos    37\n",
       "CABA          85\n",
       "Misiones      56\n",
       "dtype: int64"
      ]
     },
     "execution_count": 31,
     "metadata": {},
     "output_type": "execute_result"
    }
   ],
   "source": [
    "provincias"
   ]
  },
  {
   "cell_type": "code",
   "execution_count": 32,
   "id": "b83f7730-1d4a-4d37-8bb0-8c69ebdd34e9",
   "metadata": {},
   "outputs": [
    {
     "data": {
      "text/plain": [
       "10"
      ]
     },
     "execution_count": 32,
     "metadata": {},
     "output_type": "execute_result"
    }
   ],
   "source": [
    "provincias.count() #Para contar elementos usamos count"
   ]
  },
  {
   "cell_type": "code",
   "execution_count": 34,
   "id": "cca675f4-6ce2-4019-962d-f55b1f47ef13",
   "metadata": {},
   "outputs": [
    {
     "data": {
      "text/plain": [
       "488"
      ]
     },
     "execution_count": 34,
     "metadata": {},
     "output_type": "execute_result"
    }
   ],
   "source": [
    "provincias.sum() #Con sum podemos sumar los valores de una serie"
   ]
  },
  {
   "cell_type": "code",
   "execution_count": 35,
   "id": "98d48248-c348-42bf-9b2b-bb995462ba7c",
   "metadata": {},
   "outputs": [
    {
     "data": {
      "text/plain": [
       "20"
      ]
     },
     "execution_count": 35,
     "metadata": {},
     "output_type": "execute_result"
    }
   ],
   "source": [
    "provincias.min() #Nos devuelve el valor mínimo"
   ]
  },
  {
   "cell_type": "code",
   "execution_count": 36,
   "id": "5141552f-ca5e-4a1f-be49-b9f0030295ec",
   "metadata": {},
   "outputs": [
    {
     "data": {
      "text/plain": [
       "85"
      ]
     },
     "execution_count": 36,
     "metadata": {},
     "output_type": "execute_result"
    }
   ],
   "source": [
    "provincias.max() #Nos devuelve el valor máximo"
   ]
  },
  {
   "cell_type": "code",
   "execution_count": 37,
   "id": "3ad5c276-0aef-447c-b129-e4e8b22e8777",
   "metadata": {},
   "outputs": [
    {
     "data": {
      "text/plain": [
       "48.8"
      ]
     },
     "execution_count": 37,
     "metadata": {},
     "output_type": "execute_result"
    }
   ],
   "source": [
    "provincias.mean() #Calcula el promedio"
   ]
  },
  {
   "cell_type": "code",
   "execution_count": 38,
   "id": "e0d42d85-e3d3-4037-bc96-e45dbc67c68d",
   "metadata": {},
   "outputs": [
    {
     "data": {
      "text/plain": [
       "372.6222222222222"
      ]
     },
     "execution_count": 38,
     "metadata": {},
     "output_type": "execute_result"
    }
   ],
   "source": [
    "provincias.var() #Retorna la varianza"
   ]
  },
  {
   "cell_type": "code",
   "execution_count": 39,
   "id": "b775565e-ad14-423e-81de-43e67b8a28de",
   "metadata": {},
   "outputs": [
    {
     "data": {
      "text/plain": [
       "19.303425142244116"
      ]
     },
     "execution_count": 39,
     "metadata": {},
     "output_type": "execute_result"
    }
   ],
   "source": [
    "provincias.std() #Calcula la desviación típica"
   ]
  },
  {
   "cell_type": "code",
   "execution_count": 40,
   "id": "c587e4e9-047c-4df7-8a13-1bb08957e440",
   "metadata": {},
   "outputs": [
    {
     "data": {
      "text/plain": [
       "count    10.000000\n",
       "mean     48.800000\n",
       "std      19.303425\n",
       "min      20.000000\n",
       "25%      36.250000\n",
       "50%      51.500000\n",
       "75%      59.000000\n",
       "max      85.000000\n",
       "dtype: float64"
      ]
     },
     "execution_count": 40,
     "metadata": {},
     "output_type": "execute_result"
    }
   ],
   "source": [
    "provincias.describe() #Crea un mini resumen con estadísticas para la serie numérica"
   ]
  },
  {
   "cell_type": "code",
   "execution_count": 41,
   "id": "6ec3d739-aee8-49e0-8c72-b13111fddca9",
   "metadata": {},
   "outputs": [
    {
     "data": {
      "text/plain": [
       "BsAs          20\n",
       "Córdoba       27\n",
       "Mendoza       36\n",
       "Entre Ríos    37\n",
       "Catamarca     49\n",
       "San Juan      54\n",
       "Misiones      56\n",
       "La Pampa      60\n",
       "San Luis      64\n",
       "CABA          85\n",
       "dtype: int64"
      ]
     },
     "execution_count": 41,
     "metadata": {},
     "output_type": "execute_result"
    }
   ],
   "source": [
    "provincias.sort_values() #Ordena la serie en base a los valores"
   ]
  },
  {
   "cell_type": "code",
   "execution_count": 42,
   "id": "6e7cddf7-5eae-4003-8a90-d674ec9dc8f7",
   "metadata": {},
   "outputs": [
    {
     "data": {
      "text/plain": [
       "CABA          85\n",
       "San Luis      64\n",
       "La Pampa      60\n",
       "Misiones      56\n",
       "San Juan      54\n",
       "Catamarca     49\n",
       "Entre Ríos    37\n",
       "Mendoza       36\n",
       "Córdoba       27\n",
       "BsAs          20\n",
       "dtype: int64"
      ]
     },
     "execution_count": 42,
     "metadata": {},
     "output_type": "execute_result"
    }
   ],
   "source": [
    "provincias.sort_values(ascending = False) #Así se ordena de manera descendente"
   ]
  },
  {
   "cell_type": "code",
   "execution_count": 43,
   "id": "7152918f-d820-421b-845c-6bc9945426e0",
   "metadata": {},
   "outputs": [
    {
     "data": {
      "text/plain": [
       "Mendonza       Oeste\n",
       "BsAs            Este\n",
       "Córdoba       Centro\n",
       "San Luis       Oeste\n",
       "Catamarca      Oeste\n",
       "San Juan       Oeste\n",
       "La Pampa      Centro\n",
       "Entre Ríos      Este\n",
       "CABA            Este\n",
       "Misiones       Norte\n",
       "dtype: object"
      ]
     },
     "execution_count": 43,
     "metadata": {},
     "output_type": "execute_result"
    }
   ],
   "source": [
    "#Creamos una serie con categorías\n",
    "index = [\"Mendonza\", \"BsAs\", \"Córdoba\", \"San Luis\", \"Catamarca\", \"San Juan\", \"La Pampa\", \"Entre Ríos\", \"CABA\", \"Misiones\"]\n",
    "regiones = pd.Series([\"Oeste\", \"Este\", \"Centro\", \"Oeste\", \"Oeste\", \"Oeste\", \"Centro\", \"Este\", \"Este\", \"Norte\"], index)\n",
    "regiones"
   ]
  },
  {
   "cell_type": "code",
   "execution_count": 44,
   "id": "d66627ce-bb07-4e85-bd08-80c42dae72cc",
   "metadata": {},
   "outputs": [
    {
     "data": {
      "text/plain": [
       "Oeste     4\n",
       "Este      3\n",
       "Centro    2\n",
       "Norte     1\n",
       "Name: count, dtype: int64"
      ]
     },
     "execution_count": 44,
     "metadata": {},
     "output_type": "execute_result"
    }
   ],
   "source": [
    "regiones.value_counts() #Podemos ver cuántas veces se repite cada categoría. Es CASE SENSITIVE"
   ]
  },
  {
   "cell_type": "code",
   "execution_count": 47,
   "id": "92f08480-f0e0-4b0b-937b-c9c230e2e78d",
   "metadata": {},
   "outputs": [
    {
     "data": {
      "text/plain": [
       "count        10\n",
       "unique        4\n",
       "top       Oeste\n",
       "freq          4\n",
       "dtype: object"
      ]
     },
     "execution_count": 47,
     "metadata": {},
     "output_type": "execute_result"
    }
   ],
   "source": [
    "regiones.describe() #Crea un mini resumen para la serie categórica"
   ]
  },
  {
   "cell_type": "markdown",
   "id": "d2b88b33-a178-4580-8cdc-64a9b950e8d6",
   "metadata": {},
   "source": [
    "### Ejercicio 1.8"
   ]
  },
  {
   "cell_type": "markdown",
   "id": "53a01506-db64-4ebf-8552-fcce7a465e08",
   "metadata": {},
   "source": [
    "Una de las ventajas de la librería Pandas es que permite utilizar fechas. Veremos cómo utilizar la función date_range"
   ]
  },
  {
   "cell_type": "code",
   "execution_count": 48,
   "id": "1984e800-716d-4d66-b278-84d405deb6c1",
   "metadata": {},
   "outputs": [
    {
     "data": {
      "text/plain": [
       "DatetimeIndex(['2024-04-01', '2024-04-02', '2024-04-03', '2024-04-04'], dtype='datetime64[ns]', freq='D')"
      ]
     },
     "execution_count": 48,
     "metadata": {},
     "output_type": "execute_result"
    }
   ],
   "source": [
    "pd.date_range(start = \"2024-04-01\", end = \"2024-04-04\") #Así seguimos la estructura AAAA-MM-DD"
   ]
  },
  {
   "cell_type": "code",
   "execution_count": 49,
   "id": "174f836d-74d1-4093-9b4f-9c6172a6ea4c",
   "metadata": {},
   "outputs": [
    {
     "data": {
      "text/plain": [
       "DatetimeIndex(['2024-04-01', '2024-04-02', '2024-04-03', '2024-04-04'], dtype='datetime64[ns]', freq='D')"
      ]
     },
     "execution_count": 49,
     "metadata": {},
     "output_type": "execute_result"
    }
   ],
   "source": [
    "pd.date_range(start = \"04/01/2024\", end = \"04/04/2024\") #Así seguimos la estructura MM/DD/AAAA"
   ]
  },
  {
   "cell_type": "code",
   "execution_count": 55,
   "id": "cc2f1f75-cb05-4a3b-ab9d-66870104e09a",
   "metadata": {},
   "outputs": [
    {
     "data": {
      "text/plain": [
       "DatetimeIndex(['2010-12-31', '2011-12-31', '2012-12-31', '2013-12-31',\n",
       "               '2014-12-31', '2015-12-31', '2016-12-31', '2017-12-31',\n",
       "               '2018-12-31', '2019-12-31', '2020-12-31', '2021-12-31',\n",
       "               '2022-12-31', '2023-12-31'],\n",
       "              dtype='datetime64[ns]', freq='A-DEC')"
      ]
     },
     "execution_count": 55,
     "metadata": {},
     "output_type": "execute_result"
    }
   ],
   "source": [
    "#Podemos utilizar diferentes frecuencias\n",
    "pd.date_range(start = \"2010\", end = \"2024\", freq= \"Y\") #Separa cada valor por el últimpo día del año"
   ]
  },
  {
   "cell_type": "code",
   "execution_count": 56,
   "id": "9bbbcbc3-f89a-4432-a559-3953fed2855b",
   "metadata": {},
   "outputs": [
    {
     "data": {
      "text/plain": [
       "DatetimeIndex(['2023-01-31', '2023-02-28', '2023-03-31', '2023-04-30',\n",
       "               '2023-05-31', '2023-06-30', '2023-07-31', '2023-08-31',\n",
       "               '2023-09-30', '2023-10-31', '2023-11-30', '2023-12-31'],\n",
       "              dtype='datetime64[ns]', freq='M')"
      ]
     },
     "execution_count": 56,
     "metadata": {},
     "output_type": "execute_result"
    }
   ],
   "source": [
    "pd.date_range(start = \"2023\", end = \"2024\", freq = \"M\") #Separa cada valor por el último día del mes"
   ]
  },
  {
   "cell_type": "code",
   "execution_count": 58,
   "id": "fd25ff58-7ca4-4bf2-8689-0dd8370106fe",
   "metadata": {},
   "outputs": [
    {
     "data": {
      "text/plain": [
       "DatetimeIndex(['2023-03-05', '2023-03-12', '2023-03-19', '2023-03-26'], dtype='datetime64[ns]', freq='W-SUN')"
      ]
     },
     "execution_count": 58,
     "metadata": {},
     "output_type": "execute_result"
    }
   ],
   "source": [
    "pd.date_range(start = \"2023/03\", end = \"2023/04\", freq = \"W\") #Separa cada valor por el último día de la semana "
   ]
  },
  {
   "cell_type": "code",
   "execution_count": 60,
   "id": "8946b73d-9b5a-43a8-8f8a-30cf80dfba86",
   "metadata": {},
   "outputs": [
    {
     "data": {
      "text/plain": [
       "DatetimeIndex(['2023-03-01', '2023-03-02', '2023-03-03', '2023-03-04',\n",
       "               '2023-03-05', '2023-03-06', '2023-03-07', '2023-03-08',\n",
       "               '2023-03-09', '2023-03-10', '2023-03-11', '2023-03-12',\n",
       "               '2023-03-13', '2023-03-14', '2023-03-15', '2023-03-16',\n",
       "               '2023-03-17', '2023-03-18', '2023-03-19', '2023-03-20',\n",
       "               '2023-03-21', '2023-03-22', '2023-03-23', '2023-03-24',\n",
       "               '2023-03-25', '2023-03-26', '2023-03-27', '2023-03-28',\n",
       "               '2023-03-29', '2023-03-30', '2023-03-31', '2023-04-01'],\n",
       "              dtype='datetime64[ns]', freq='D')"
      ]
     },
     "execution_count": 60,
     "metadata": {},
     "output_type": "execute_result"
    }
   ],
   "source": [
    "pd.date_range(start = \"2023/03\", end = \"2023/04\", freq = \"D\") #Separa cada valor por día"
   ]
  },
  {
   "cell_type": "code",
   "execution_count": 62,
   "id": "8ad140f4-e1a8-4805-b0e9-02f1d2bd7b0a",
   "metadata": {},
   "outputs": [
    {
     "data": {
      "text/plain": [
       "DatetimeIndex(['2023-03-01 00:00:00', '2023-03-16 12:00:00',\n",
       "               '2023-04-01 00:00:00'],\n",
       "              dtype='datetime64[ns]', freq=None)"
      ]
     },
     "execution_count": 62,
     "metadata": {},
     "output_type": "execute_result"
    }
   ],
   "source": [
    "#Otra opción es usar la cantidad de periodos que queremos\n",
    "pd.date_range(start = \"2023/03\", end = \"2023/04\", periods = 3) #Divide lo que hay entre marzo del 2023 y abril del 2023 en 3 periodos iguales"
   ]
  },
  {
   "cell_type": "code",
   "execution_count": 63,
   "id": "2e1a6958-6773-4535-aca9-ac856d2b75d2",
   "metadata": {},
   "outputs": [
    {
     "data": {
      "text/plain": [
       "DatetimeIndex(['2023-03-01 00:00:00', '2023-03-07 04:48:00',\n",
       "               '2023-03-13 09:36:00', '2023-03-19 14:24:00',\n",
       "               '2023-03-25 19:12:00', '2023-04-01 00:00:00'],\n",
       "              dtype='datetime64[ns]', freq=None)"
      ]
     },
     "execution_count": 63,
     "metadata": {},
     "output_type": "execute_result"
    }
   ],
   "source": [
    "pd.date_range(start = \"2023/03\", end = \"2023/04\", periods = 6) #Divide lo que hay entre marzo del 2023 y abril del 2024 en 6 periodos iguales"
   ]
  },
  {
   "cell_type": "code",
   "execution_count": 65,
   "id": "faf71a20-90e9-4881-93ae-656f4b86fd2c",
   "metadata": {},
   "outputs": [
    {
     "data": {
      "text/plain": [
       "DatetimeIndex(['2023-04-01 00:00:00', '2023-04-01 06:00:00',\n",
       "               '2023-04-01 12:00:00', '2023-04-01 18:00:00',\n",
       "               '2023-04-02 00:00:00'],\n",
       "              dtype='datetime64[ns]', freq=None)"
      ]
     },
     "execution_count": 65,
     "metadata": {},
     "output_type": "execute_result"
    }
   ],
   "source": [
    "pd.date_range(start = \"2023/04/01\", end = \"2023/04/2\", periods = 5) #Divide lo que hay entre 2023/04/01 y 2023/04/02 en 5 periodos iguales"
   ]
  },
  {
   "cell_type": "markdown",
   "id": "a87f1fe1-6b6d-4288-9846-21f40667179b",
   "metadata": {},
   "source": [
    "### Ejercicio 1.9"
   ]
  },
  {
   "cell_type": "markdown",
   "id": "425165cb-1a5f-4cf8-8929-afe4a66ca8d9",
   "metadata": {},
   "source": [
    "Ya vimos como podemos crear fechas. Estas son muy útiles para los índices ya que nos permiten transformar nuestra serie en una serie temporal."
   ]
  },
  {
   "cell_type": "code",
   "execution_count": 66,
   "id": "3ba4f7e9-2933-4a25-9ed6-59a5cb7b7fab",
   "metadata": {},
   "outputs": [],
   "source": [
    "dias_marzo = pd.date_range(start = \"2024/03/01\", end = \"2024/04/01\", freq = \"D\")"
   ]
  },
  {
   "cell_type": "code",
   "execution_count": 67,
   "id": "45670b74-5bd9-4d50-8ebb-8b17ebfa46ae",
   "metadata": {},
   "outputs": [
    {
     "data": {
      "text/plain": [
       "2024-03-01    78\n",
       "2024-03-02     5\n",
       "2024-03-03    71\n",
       "2024-03-04    23\n",
       "2024-03-05    89\n",
       "2024-03-06    34\n",
       "2024-03-07    26\n",
       "2024-03-08    46\n",
       "2024-03-09    13\n",
       "2024-03-10    51\n",
       "2024-03-11    34\n",
       "2024-03-12    51\n",
       "2024-03-13    28\n",
       "2024-03-14    86\n",
       "2024-03-15    80\n",
       "2024-03-16    85\n",
       "2024-03-17    88\n",
       "2024-03-18    77\n",
       "2024-03-19    78\n",
       "2024-03-20    74\n",
       "2024-03-21    66\n",
       "2024-03-22    85\n",
       "2024-03-23    16\n",
       "2024-03-24    35\n",
       "2024-03-25    31\n",
       "2024-03-26    97\n",
       "2024-03-27    49\n",
       "2024-03-28    16\n",
       "2024-03-29    71\n",
       "2024-03-30    67\n",
       "2024-03-31    71\n",
       "2024-04-01    28\n",
       "Freq: D, dtype: int64"
      ]
     },
     "execution_count": 67,
     "metadata": {},
     "output_type": "execute_result"
    }
   ],
   "source": [
    "cantidad_accidentes_viales_marzo = pd.Series(rng.integers(1, 101, len(dias_marzo)), index = dias_marzo)\n",
    "cantidad_accidentes_viales_marzo"
   ]
  },
  {
   "cell_type": "code",
   "execution_count": 68,
   "id": "5fc6320b-a073-4b2e-afd5-2170c9d00fdd",
   "metadata": {},
   "outputs": [
    {
     "data": {
      "text/plain": [
       "count    32.000000\n",
       "mean     54.656250\n",
       "std      27.216704\n",
       "min       5.000000\n",
       "25%      30.250000\n",
       "50%      58.500000\n",
       "75%      78.000000\n",
       "max      97.000000\n",
       "dtype: float64"
      ]
     },
     "execution_count": 68,
     "metadata": {},
     "output_type": "execute_result"
    }
   ],
   "source": [
    "cantidad_accidentes_viales_marzo.describe()"
   ]
  },
  {
   "cell_type": "code",
   "execution_count": null,
   "id": "fe834ab6-4e0a-45da-8a3f-5b023d2b0e53",
   "metadata": {},
   "outputs": [],
   "source": []
  }
 ],
 "metadata": {
  "kernelspec": {
   "display_name": "Python 3 (ipykernel)",
   "language": "python",
   "name": "python3"
  },
  "language_info": {
   "codemirror_mode": {
    "name": "ipython",
    "version": 3
   },
   "file_extension": ".py",
   "mimetype": "text/x-python",
   "name": "python",
   "nbconvert_exporter": "python",
   "pygments_lexer": "ipython3",
   "version": "3.11.7"
  }
 },
 "nbformat": 4,
 "nbformat_minor": 5
}
