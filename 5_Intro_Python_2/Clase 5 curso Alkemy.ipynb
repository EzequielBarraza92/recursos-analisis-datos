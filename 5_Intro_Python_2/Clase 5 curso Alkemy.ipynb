{
 "cells": [
  {
   "cell_type": "markdown",
   "id": "acaf3266-de09-443b-aa93-cd48802bb7e2",
   "metadata": {},
   "source": [
    "# IF, ELIF, ELSE"
   ]
  },
  {
   "cell_type": "markdown",
   "id": "ad1875a5-ee11-4ecb-82d1-760bc7fbc317",
   "metadata": {},
   "source": [
    "El if else en Python es una estructura de control que permite ejecutar bloques de código diferentes dependiendo de si una condición es verdadera o falsa. Si la condición dada es verdadera, se ejecuta el bloque de código dentro del if. De lo contrario se ejecuta el bloque de código dentro del else."
   ]
  },
  {
   "cell_type": "markdown",
   "id": "403ceca0-fba0-4eb0-8ebd-61cd398dcfa1",
   "metadata": {},
   "source": [
    "### Ejercicio 1.1"
   ]
  },
  {
   "cell_type": "markdown",
   "id": "6ea2421a-1346-4c18-9ca6-a84eaccc13b1",
   "metadata": {},
   "source": [
    "Demostración"
   ]
  },
  {
   "cell_type": "code",
   "execution_count": 2,
   "id": "10b415f2-af7e-4026-8fef-f91276125794",
   "metadata": {},
   "outputs": [],
   "source": [
    "primer_valor = 10 #Defino la primer variable\n",
    "segundo_valor = 12 #Defino la segunda variable\n",
    "\n",
    "if primer_valor > segundo_valor: #Defino mi IF -> if <primer_término> <lógica> <segundo_término>\n",
    "    print(\"El primer valor es más grande que el segundo\") #Que hacer si la condición es afirmativa"
   ]
  },
  {
   "cell_type": "markdown",
   "id": "78cb5dae-0687-45af-83a2-5d6305abf00f",
   "metadata": {},
   "source": [
    "### Ejercicio 1.2"
   ]
  },
  {
   "cell_type": "markdown",
   "id": "533d4180-9971-4e3c-a4df-04c30e97d782",
   "metadata": {},
   "source": [
    "Creación de un código que detecte cuando una persona es mayor de edad. Se usará else (que hacer cuando no se cumpla mi if)"
   ]
  },
  {
   "cell_type": "code",
   "execution_count": 3,
   "id": "92ebcf92-2a20-4c29-bfa9-107f321d73a0",
   "metadata": {},
   "outputs": [
    {
     "name": "stdout",
     "output_type": "stream",
     "text": [
      "Es mayor de edad\n"
     ]
    }
   ],
   "source": [
    "edad = 25 #Definimos la edad \n",
    "if edad >= 18: #Definimos la condición if\n",
    "    print(\"Es mayor de edad\") #Que hacer cuando se cumple el if\n",
    "else: #Defino else que es la palabra que se usa para el bloque que indica qué hacer cuando no se cumple el if\n",
    "    print(\"Es menor de edad\") #Que hacer cuando \"caemos\" en el else"
   ]
  },
  {
   "cell_type": "markdown",
   "id": "cbcd11c9-e913-48e3-8ff6-a18f71b9db35",
   "metadata": {},
   "source": [
    "### Ejercicio 1.3"
   ]
  },
  {
   "cell_type": "markdown",
   "id": "b5dcc0b7-fc51-4707-a9eb-9f964f894bc2",
   "metadata": {},
   "source": [
    "Usar el if con booleanos"
   ]
  },
  {
   "cell_type": "code",
   "execution_count": 4,
   "id": "8f524434-1021-4fb1-b2e3-3bc80c3d6793",
   "metadata": {},
   "outputs": [
    {
     "name": "stdout",
     "output_type": "stream",
     "text": [
      "Buenos días profesor\n"
     ]
    }
   ],
   "source": [
    "profesor = True \n",
    "\n",
    "if profesor == True:\n",
    "    print(\"Buenos días profesor\")\n",
    "else:\n",
    "    print(\"Usted no es el profesor\")"
   ]
  },
  {
   "cell_type": "markdown",
   "id": "8f9b44ea-d3bf-4d33-a59c-0205e289a673",
   "metadata": {},
   "source": [
    "### Ejercicio 1.4"
   ]
  },
  {
   "cell_type": "markdown",
   "id": "9770a224-06e9-4c1e-96bb-e139bea2fcfa",
   "metadata": {},
   "source": [
    "Truco para reducir el código al trabajar con booleanos en los if"
   ]
  },
  {
   "cell_type": "code",
   "execution_count": 5,
   "id": "8f024831-369c-49bf-a39e-93da8ba792de",
   "metadata": {},
   "outputs": [
    {
     "name": "stdout",
     "output_type": "stream",
     "text": [
      "Buenos días coordinador\n"
     ]
    }
   ],
   "source": [
    "coordinador = True\n",
    "\n",
    "if coordinador:\n",
    "    print(\"Buenos días coordinador\")\n",
    "else:\n",
    "    print(\"Usted no es el coordinador\")"
   ]
  },
  {
   "cell_type": "markdown",
   "id": "ed72f07d-50c9-48d6-ae4e-b37bc6009aa0",
   "metadata": {},
   "source": [
    "### Ejercicio 1.5"
   ]
  },
  {
   "cell_type": "markdown",
   "id": "5d6c7532-1a0d-4ab0-97cd-ee06d519b474",
   "metadata": {},
   "source": [
    "Podemos aplicar los if en conjunto con strings"
   ]
  },
  {
   "cell_type": "code",
   "execution_count": 6,
   "id": "3d596667-d58b-4e2d-9139-34f76c03f520",
   "metadata": {},
   "outputs": [
    {
     "name": "stdout",
     "output_type": "stream",
     "text": [
      "Usted es argentino\n"
     ]
    }
   ],
   "source": [
    "nacionalidad = \"argentina\"\n",
    "\n",
    "if nacionalidad == \"argentina\":\n",
    "    print(\"Usted es argentino\")\n",
    "else:\n",
    "    print(\"Usted no es argentino\")"
   ]
  },
  {
   "cell_type": "markdown",
   "id": "0c85b14a-c2ed-4c50-8a1a-718b849e9514",
   "metadata": {},
   "source": [
    "### Ejercicio 1.6"
   ]
  },
  {
   "cell_type": "markdown",
   "id": "5c818fac-ea16-4f62-9fde-085714dd45cf",
   "metadata": {},
   "source": [
    "Analicemos lo que pasa con los strings (recordemos el término case sensitive)"
   ]
  },
  {
   "cell_type": "code",
   "execution_count": 7,
   "id": "769de208-d631-441e-9697-45b435cddf68",
   "metadata": {},
   "outputs": [
    {
     "name": "stdout",
     "output_type": "stream",
     "text": [
      "Usted no es argentino\n"
     ]
    }
   ],
   "source": [
    "nacionalidad = \"Argentina\"\n",
    "\n",
    "if nacionalidad == \"argentina\":\n",
    "    print(\"Usted es argentino\")\n",
    "else:\n",
    "    print(\"Usted no es argentino\")"
   ]
  },
  {
   "cell_type": "code",
   "execution_count": 8,
   "id": "3111d91e-9e11-45bf-9ed8-ad5ec550b150",
   "metadata": {},
   "outputs": [
    {
     "name": "stdout",
     "output_type": "stream",
     "text": [
      "Usted no es argentino\n"
     ]
    }
   ],
   "source": [
    "nacionalidad = \"ARGENTINA\"\n",
    "\n",
    "if nacionalidad == \"argentina\":\n",
    "    print(\"Usted es argentino\")\n",
    "else:\n",
    "    print(\"Usted no es argentino\")\n"
   ]
  },
  {
   "cell_type": "markdown",
   "id": "b3b53112-d0ad-4912-86cd-1d8eec5d2fe9",
   "metadata": {},
   "source": [
    "### Ejercicio 1.7"
   ]
  },
  {
   "cell_type": "markdown",
   "id": "fa215918-408c-48c0-89b9-fcb113fcc44a",
   "metadata": {},
   "source": [
    "Podemos aplicar diferentes condiciones para que se vayan ejecutando cuando la anterior sea rechazada.\n",
    "Para ellos utilizaremos elif (una nueva condición lógica) despupes de otra anterior."
   ]
  },
  {
   "cell_type": "code",
   "execution_count": 12,
   "id": "9ba38110-75fd-45b5-8446-800754220bbf",
   "metadata": {},
   "outputs": [
    {
     "name": "stdout",
     "output_type": "stream",
     "text": [
      "En esta veterinaria si atendemos gatos\n"
     ]
    }
   ],
   "source": [
    "tipo_animal = \"gato\"\n",
    "\n",
    "if tipo_animal == \"perro\": #Condición if inicial\n",
    "    print(\"En esta veterinaria si atendemos perros\") #Ejecución código if \n",
    "elif tipo_animal == \"gato\":\n",
    "    print(\"En esta veterinaria si atendemos gatos\") #Ejecución código elif\n",
    "else: #Defino else\n",
    "    print(\"En esta veterinaria solo atendemos perros y gatos\") #Ejecución código else"
   ]
  },
  {
   "cell_type": "markdown",
   "id": "eae04d62-f31a-4be6-8508-bb8ab7c97c56",
   "metadata": {},
   "source": [
    "### Ejercicio 1.8"
   ]
  },
  {
   "cell_type": "markdown",
   "id": "f0b3ba8d-c02c-438a-97e9-1dcf2814fe7b",
   "metadata": {},
   "source": [
    "No hay límites de elif a utilizar. Podemos aplicar varios"
   ]
  },
  {
   "cell_type": "code",
   "execution_count": 17,
   "id": "d771b69e-5e2d-4a35-952e-2ec3ed193a21",
   "metadata": {},
   "outputs": [
    {
     "name": "stdout",
     "output_type": "stream",
     "text": [
      "Color primario seleccionado: azul\n"
     ]
    }
   ],
   "source": [
    "color_primario = \"azul\"\n",
    "\n",
    "if color_primario == \"azul\": #Condición if inicial\n",
    "    print(\"Color primario seleccionado: azul\") #Ejecución código if\n",
    "elif color_primario == \"rojo\": #Condición elif\n",
    "    print(\"Color primario seleccionado: rojo\") #Ejecución elif\n",
    "elif color_primario == \"amarillo\":\n",
    "    print(\"Color primario seleccionado: amarillo\") #Ejecución código elif\n",
    "else: #Defino else\n",
    "    print(\"No ha seleccionado un color primario\") #Ejecución código else"
   ]
  },
  {
   "cell_type": "markdown",
   "id": "79849f62-33e4-438a-9091-b8e5e5e6b9fc",
   "metadata": {},
   "source": [
    "### Ejercicio 1.9"
   ]
  },
  {
   "cell_type": "markdown",
   "id": "14bc5e44-5281-4934-b2cc-dde95521d0af",
   "metadata": {},
   "source": [
    "Puedo anidar condiciones if una adentro de otra si es necesario"
   ]
  },
  {
   "cell_type": "code",
   "execution_count": 21,
   "id": "d9ae0bd4-8cfe-4bdd-865b-ceca6482588f",
   "metadata": {},
   "outputs": [
    {
     "name": "stdout",
     "output_type": "stream",
     "text": [
      "Usted es mayor de edad\n",
      "Se encuentra en edad jubilatoria\n"
     ]
    }
   ],
   "source": [
    "edad = 70\n",
    "\n",
    "if edad > 18:\n",
    "    print(\"Usted es mayor de edad\")\n",
    "\n",
    "    if edad < 65:\n",
    "        print(\"Se encuentra en edad laboral\")\n",
    "    else:\n",
    "        print(\"Se encuentra en edad jubilatoria\")\n",
    "\n",
    "else:\n",
    "    print(\"Usted es menor de edad\")"
   ]
  },
  {
   "cell_type": "markdown",
   "id": "7c065ca5-9dfa-417f-a78c-739aedd036be",
   "metadata": {},
   "source": [
    "### Ejercicio 1.10"
   ]
  },
  {
   "cell_type": "markdown",
   "id": "6b8cbf12-9b51-4bc8-8812-a0d23996be4e",
   "metadata": {},
   "source": [
    "Utilización del operador lógico AND -> &\n",
    "\n",
    "& obliga a que los dos miembros a cada lado obtengan una condición verdadera"
   ]
  },
  {
   "cell_type": "code",
   "execution_count": 22,
   "id": "6fe1c2d8-595a-4384-8efb-f969513d308e",
   "metadata": {},
   "outputs": [
    {
     "name": "stdout",
     "output_type": "stream",
     "text": [
      "Usted se encuentra en edad jubilatoria\n"
     ]
    }
   ],
   "source": [
    "edad = 70\n",
    "genero = \"M\"\n",
    "\n",
    "if (edad >= 65) & (genero == \"M\"): #Defino if el cual debe cumplir las dos condiciones\n",
    "    print(\"Usted se encuentra en edad jubilatoria\") #Código a ejecutar cuando se cummpla el if\n",
    "elif (edad >= 62) & (genero == \"F\"): #Defino elif el cual debe cumplir dos condiciones\n",
    "    print(\"Usted se encuentra en edad jubilatoria\") #Código a ejecutar cuando se cumpla el elif\n",
    "else: #Defino else\n",
    "    print(\"No se encuentra en edad jubilatoria\") #Código a ejecutar en el else"
   ]
  },
  {
   "cell_type": "markdown",
   "id": "5e20c174-48e8-410c-8a90-e7869d1fcc18",
   "metadata": {},
   "source": [
    "### Ejercicio 1.11"
   ]
  },
  {
   "cell_type": "markdown",
   "id": "a37e0ad7-0611-4001-add9-22eba6f19fc2",
   "metadata": {},
   "source": [
    "Operador lógico OR -> |\n",
    "\n",
    "| obliga solamente que una condición se cumpla para obtener una condición verdadera"
   ]
  },
  {
   "cell_type": "code",
   "execution_count": 23,
   "id": "b6250bc6-7a72-4a7c-88ce-0b82d2e605cd",
   "metadata": {},
   "outputs": [
    {
     "name": "stdout",
     "output_type": "stream",
     "text": [
      "Es empleado\n"
     ]
    }
   ],
   "source": [
    "cargo = \"profesor\"\n",
    "\n",
    "if (cargo == \"profesor\") | (cargo == \"coordinador\"):\n",
    "    print(\"Es empleado\")\n",
    "else:\n",
    "    print(\"Es alumno\")"
   ]
  },
  {
   "cell_type": "markdown",
   "id": "57f6b921-13ff-44fa-9258-2fb77e8d92fc",
   "metadata": {},
   "source": [
    "### Ejercicio 1.12"
   ]
  },
  {
   "cell_type": "markdown",
   "id": "8c4db846-7dc3-453c-8e04-cf6a8fedae6c",
   "metadata": {},
   "source": [
    "Operador lógico NOT\n",
    "\n",
    "NOT se utiliza para negar o ver la condición contraria a lo que preguntamos"
   ]
  },
  {
   "cell_type": "code",
   "execution_count": 24,
   "id": "2de70435-d8c9-47fc-80ca-1ed03eda2f26",
   "metadata": {},
   "outputs": [],
   "source": [
    "numero_entero = 1\n",
    "\n",
    "if not type(numero_entero) == int: #Defino una condición if que solo se active cuando el tipo de dato no sea integer\n",
    "    print(\"Por favor cambie el tipo de dato a entero\")"
   ]
  },
  {
   "cell_type": "markdown",
   "id": "5e6bcecb-514e-47b9-95e3-78ba4632e589",
   "metadata": {},
   "source": [
    "## Funciones Nativas "
   ]
  },
  {
   "cell_type": "markdown",
   "id": "b6a44ab0-bb1d-47ff-9302-320ce194ec88",
   "metadata": {},
   "source": [
    "Entre las funciones nativas de Python las que podemos utilizar facilmente son las siguientes: "
   ]
  },
  {
   "cell_type": "markdown",
   "id": "077546bd-1b23-4758-9351-9c5f99222d9d",
   "metadata": {},
   "source": [
    "### Ejercicio 2.1"
   ]
  },
  {
   "cell_type": "markdown",
   "id": "9ef28a4e-1af6-43f4-8936-65d09dacdc11",
   "metadata": {},
   "source": [
    "La más simple es print()"
   ]
  },
  {
   "cell_type": "code",
   "execution_count": 25,
   "id": "55c476a1-4e6e-4f78-88f1-d484445d11f9",
   "metadata": {},
   "outputs": [
    {
     "name": "stdout",
     "output_type": "stream",
     "text": [
      "Nombre: Juan \n",
      "Edad: 25\n"
     ]
    }
   ],
   "source": [
    "nombre = \"Juan\"\n",
    "edad = 25\n",
    "print(\"Nombre:\", nombre, \"\\n\" \"Edad:\", edad) #Ejemplo de uso de print() con \\n para saltos de líneas "
   ]
  },
  {
   "cell_type": "markdown",
   "id": "353bc49d-d8a4-42f2-a3b0-e7f771d911bd",
   "metadata": {},
   "source": [
    "### Ejercicio 2.2"
   ]
  },
  {
   "cell_type": "markdown",
   "id": "96158c4b-8f4f-4a80-974c-31a617acc42f",
   "metadata": {},
   "source": [
    "Type()"
   ]
  },
  {
   "cell_type": "code",
   "execution_count": 26,
   "id": "656ee9c6-1c73-4d70-ad70-f17da510da6a",
   "metadata": {},
   "outputs": [
    {
     "data": {
      "text/plain": [
       "(str, bool)"
      ]
     },
     "execution_count": 26,
     "metadata": {},
     "output_type": "execute_result"
    }
   ],
   "source": [
    "verdadero_string, verdadero_bool = \"True\", True\n",
    "type(verdadero_string), type(verdadero_bool)"
   ]
  },
  {
   "cell_type": "markdown",
   "id": "add0561e-9aca-49e0-b43d-8b015f53ef5c",
   "metadata": {},
   "source": [
    "### Ejercicio 2.3"
   ]
  },
  {
   "cell_type": "markdown",
   "id": "4cbe910e-a28b-4845-95da-200cf017c33c",
   "metadata": {},
   "source": [
    "Exec() podemos ejecutar una variable string que tenga un comando de Python"
   ]
  },
  {
   "cell_type": "code",
   "execution_count": 28,
   "id": "ac05bbf1-20c9-4f58-86d5-0d465b785aaf",
   "metadata": {},
   "outputs": [
    {
     "data": {
      "text/plain": [
       "('print(\"Hola mundo\")', str)"
      ]
     },
     "execution_count": 28,
     "metadata": {},
     "output_type": "execute_result"
    }
   ],
   "source": [
    "codigo = 'print(\"Hola mundo\")'\n",
    "codigo, type(codigo)"
   ]
  },
  {
   "cell_type": "code",
   "execution_count": 29,
   "id": "2d974fb0-8929-4389-b365-69588e164f59",
   "metadata": {},
   "outputs": [
    {
     "name": "stdout",
     "output_type": "stream",
     "text": [
      "Hola mundo\n"
     ]
    }
   ],
   "source": [
    "exec(codigo)"
   ]
  },
  {
   "cell_type": "markdown",
   "id": "b384e2f8-ee8e-4c69-a20c-97893168f745",
   "metadata": {},
   "source": [
    "### Ejercicio 2.4"
   ]
  },
  {
   "cell_type": "markdown",
   "id": "55500626-985e-4817-9b09-0a4103114d1b",
   "metadata": {},
   "source": [
    "Format() es muy útil para mostrar valores cuando hacemos un print()"
   ]
  },
  {
   "cell_type": "code",
   "execution_count": 31,
   "id": "410b9e37-e126-4c71-9f7d-22ee9011b57c",
   "metadata": {},
   "outputs": [
    {
     "name": "stdout",
     "output_type": "stream",
     "text": [
      "Mi nombre es Andrés y tengo 25 años. \n",
      "¿Soy el profesor? = True\n"
     ]
    }
   ],
   "source": [
    "nombre = \"Andrés\"\n",
    "edad = 25\n",
    "es_profesor = True\n",
    "mensaje = \"Mi nombre es {} y tengo {} años. \\n¿Soy el profesor? = {}\".format(nombre, edad, es_profesor)\n",
    "print(mensaje)"
   ]
  },
  {
   "cell_type": "markdown",
   "id": "05cf29c9-e26e-45b1-b71d-1326bbb25984",
   "metadata": {},
   "source": [
    "### Ejercicio 2.5"
   ]
  },
  {
   "cell_type": "markdown",
   "id": "6f94bd9b-e6bb-469e-a5f0-7b5657f61442",
   "metadata": {},
   "source": [
    "Con input podemos ingresar un parámetro directamente"
   ]
  },
  {
   "cell_type": "code",
   "execution_count": 32,
   "id": "6b201a6e-9a39-4d70-8ccb-fe1f1e87fb91",
   "metadata": {},
   "outputs": [
    {
     "name": "stdin",
     "output_type": "stream",
     "text": [
      "Por favor, introduce tu nombre:  Andres\n"
     ]
    },
    {
     "name": "stdout",
     "output_type": "stream",
     "text": [
      "Hola,  Andres\n"
     ]
    }
   ],
   "source": [
    "nombre = input(\"Por favor, introduce tu nombre: \")\n",
    "print(\"Hola, \", nombre)"
   ]
  },
  {
   "cell_type": "code",
   "execution_count": 33,
   "id": "1196a639-1a77-4279-a2b0-b89f3fb080ab",
   "metadata": {},
   "outputs": [
    {
     "data": {
      "text/plain": [
       "str"
      ]
     },
     "execution_count": 33,
     "metadata": {},
     "output_type": "execute_result"
    }
   ],
   "source": [
    "type(nombre)"
   ]
  },
  {
   "cell_type": "markdown",
   "id": "bdfcc5c3-8630-4e33-8bbc-aa32be9437ec",
   "metadata": {},
   "source": [
    "### Ejercicio 2.6"
   ]
  },
  {
   "cell_type": "markdown",
   "id": "a0c4ebf1-2d1d-4c57-b9f2-1482682f4ca0",
   "metadata": {},
   "source": [
    "Isinstance() va a ser útil cuando querramos chequear el tipo de dato de una variable"
   ]
  },
  {
   "cell_type": "code",
   "execution_count": 34,
   "id": "2c5ab091-9164-4119-8424-0f1c5fc30057",
   "metadata": {},
   "outputs": [
    {
     "name": "stdout",
     "output_type": "stream",
     "text": [
      "False\n"
     ]
    }
   ],
   "source": [
    "numero_pi = 3.14\n",
    "print(isinstance(numero_pi, int)) #Si mi condición se cumple retorna True. Caso contrario False "
   ]
  },
  {
   "cell_type": "markdown",
   "id": "72c29fbb-b4fb-4d3d-bab7-b7df58142c02",
   "metadata": {},
   "source": [
    "### Ejercicio 2.7"
   ]
  },
  {
   "cell_type": "markdown",
   "id": "ea247059-2297-4dec-a73d-3da0d64d1160",
   "metadata": {},
   "source": [
    "Cuando se trate de reducir o redondear la cantidad de decimales usaremos round()"
   ]
  },
  {
   "cell_type": "code",
   "execution_count": 35,
   "id": "bae6eadd-662d-4899-8799-6593f5f22313",
   "metadata": {},
   "outputs": [
    {
     "name": "stdout",
     "output_type": "stream",
     "text": [
      "3.14\n"
     ]
    }
   ],
   "source": [
    "pi = 3.14159\n",
    "print(round(pi, 2)) #Redondeo y muestro 2 decimales"
   ]
  },
  {
   "cell_type": "code",
   "execution_count": 36,
   "id": "614b1c3c-b5b2-4b66-beee-2a84d19a2645",
   "metadata": {},
   "outputs": [
    {
     "data": {
      "text/plain": [
       "float"
      ]
     },
     "execution_count": 36,
     "metadata": {},
     "output_type": "execute_result"
    }
   ],
   "source": [
    "type(pi) #Veamos el tipo de dato"
   ]
  },
  {
   "cell_type": "code",
   "execution_count": 38,
   "id": "f2b0ead2-b3ed-4f3a-8482-43de61cbe4b3",
   "metadata": {},
   "outputs": [
    {
     "data": {
      "text/plain": [
       "(7.0, float)"
      ]
     },
     "execution_count": 38,
     "metadata": {},
     "output_type": "execute_result"
    }
   ],
   "source": [
    "numero_sin_transformar = 6.68\n",
    "numero_transformado = round(numero_sin_transformar, 0) #Redondeo sin decimales\n",
    "numero_transformado, type(numero_transformado) #Veamos como quedó y su tipo de dato "
   ]
  },
  {
   "cell_type": "code",
   "execution_count": 39,
   "id": "6f63150e-59fc-4d25-b61c-201072d12747",
   "metadata": {},
   "outputs": [
    {
     "data": {
      "text/plain": [
       "(7, int)"
      ]
     },
     "execution_count": 39,
     "metadata": {},
     "output_type": "execute_result"
    }
   ],
   "source": [
    "numero_transformado_integer = int(numero_transformado) #Ahora transformo a integer después de redondear\n",
    "numero_transformado_integer, type(numero_transformado_integer)"
   ]
  },
  {
   "cell_type": "markdown",
   "id": "11b749c1-642d-4d78-bbb2-2f316e46bc34",
   "metadata": {},
   "source": [
    "### Ejercicio 2.8"
   ]
  },
  {
   "cell_type": "markdown",
   "id": "18b89ef2-f1c2-4a60-b751-1ec2b45f5283",
   "metadata": {},
   "source": [
    "Ejemplos de las funciones básicas de Python"
   ]
  },
  {
   "cell_type": "markdown",
   "id": "200bcd38-2334-4a60-aa12-cb8fd1247b27",
   "metadata": {},
   "source": [
    "#### str()"
   ]
  },
  {
   "cell_type": "code",
   "execution_count": 40,
   "id": "6e933f62-d5c2-4435-aff0-5ec485c3acdc",
   "metadata": {},
   "outputs": [
    {
     "name": "stdout",
     "output_type": "stream",
     "text": [
      "Ezequiel\n"
     ]
    }
   ],
   "source": [
    "nombre = \"Ezequiel\"\n",
    "print(nombre)"
   ]
  },
  {
   "cell_type": "markdown",
   "id": "ba55b884-c1ec-4bb9-ac00-4488729c7f42",
   "metadata": {},
   "source": [
    "#### int()"
   ]
  },
  {
   "cell_type": "code",
   "execution_count": 41,
   "id": "4327e948-f54e-4f86-8e6c-18202b6c1983",
   "metadata": {},
   "outputs": [
    {
     "name": "stdout",
     "output_type": "stream",
     "text": [
      "31\n"
     ]
    }
   ],
   "source": [
    "edad = 31\n",
    "print(edad)"
   ]
  },
  {
   "cell_type": "markdown",
   "id": "11a1f50c-f33a-4a89-86f6-4e63caa41a97",
   "metadata": {},
   "source": [
    "#### float()"
   ]
  },
  {
   "cell_type": "code",
   "execution_count": 42,
   "id": "795db6c2-1b02-4cde-8ef4-caff769f5191",
   "metadata": {},
   "outputs": [
    {
     "name": "stdout",
     "output_type": "stream",
     "text": [
      "61.4\n"
     ]
    }
   ],
   "source": [
    "peso = 61.40\n",
    "print(peso)"
   ]
  },
  {
   "cell_type": "markdown",
   "id": "f665e931-2c6f-4467-bf08-cd3e0bf41e22",
   "metadata": {},
   "source": [
    "#### bool()"
   ]
  },
  {
   "cell_type": "code",
   "execution_count": 43,
   "id": "5006fd91-2bc0-4080-8c45-d32f5b8dd80f",
   "metadata": {},
   "outputs": [
    {
     "name": "stdout",
     "output_type": "stream",
     "text": [
      "True\n"
     ]
    }
   ],
   "source": [
    "soy_estudiante = True\n",
    "print(soy_estudiante)"
   ]
  },
  {
   "cell_type": "markdown",
   "id": "30ce7894-2431-4581-b1a9-a230258ddc85",
   "metadata": {},
   "source": [
    "# Funciones Definidas por el usuario"
   ]
  },
  {
   "cell_type": "markdown",
   "id": "f7711f8b-4213-4aaf-a84b-2f79f0f5fac1",
   "metadata": {},
   "source": [
    "Es posible crear en Python nuestras propias funciones. Para ello debemos seguir un cierto critero orden y estructura como con los bloques if else."
   ]
  },
  {
   "cell_type": "markdown",
   "id": "d2d0660e-7565-4d4c-95eb-45692c3bc38d",
   "metadata": {},
   "source": [
    "def nombre_de_la_funcion(parametro1, parametro2, ...)\n",
    "    \"\"\"\n",
    "    Opcional: Descripción funcional de la función\n",
    "    Puede incluir información sobre los parámetros y el valor de retorno.\n",
    "    \"\"\"\n",
    "    # Cuerpo de la función donde vamos a tener nuestro código.\n",
    "    return valor_de_retorno # Opcional: Uso de la palabra clave return\n",
    "para devolver un valor"
   ]
  },
  {
   "cell_type": "markdown",
   "id": "ebffbfc6-39ea-4365-bfcb-922513f28670",
   "metadata": {},
   "source": [
    "### Ejercicio 3.1"
   ]
  },
  {
   "cell_type": "markdown",
   "id": "c2d52c4a-7a0c-4c48-af5f-1f12b70b5673",
   "metadata": {},
   "source": [
    "Función definida por nosotros sencilla, del tipo sin retorno y sin parámetros"
   ]
  },
  {
   "cell_type": "code",
   "execution_count": 1,
   "id": "29ee2a2f-fda6-493e-a188-648d3b5686eb",
   "metadata": {},
   "outputs": [],
   "source": [
    "def saludar_sin_retorno(): #Función sin retorno y sin parámetros\n",
    "    print(\"¡Hola! Bienvenido a su asistente de data analitycs\")"
   ]
  },
  {
   "cell_type": "code",
   "execution_count": 2,
   "id": "ad6d35df-2914-46db-b7f8-1ffb5e4fcef3",
   "metadata": {},
   "outputs": [
    {
     "name": "stdout",
     "output_type": "stream",
     "text": [
      "¡Hola! Bienvenido a su asistente de data analitycs\n"
     ]
    }
   ],
   "source": [
    "#Llamada a la función sin retorno\n",
    "saludar_sin_retorno()"
   ]
  },
  {
   "cell_type": "markdown",
   "id": "ccf58b8e-b0b4-4969-bd83-701f7c3786bb",
   "metadata": {},
   "source": [
    "### Ejercicio 3.2"
   ]
  },
  {
   "cell_type": "markdown",
   "id": "890d3215-95cc-457e-bc46-81407d795df8",
   "metadata": {},
   "source": [
    "Función sin retorno y con parámetros.\n",
    "Podemos pasarle parámetros (informacón) a la función para poder utilizarlos después"
   ]
  },
  {
   "cell_type": "code",
   "execution_count": 3,
   "id": "0a965ef3-afba-4297-b8ca-691d343486e1",
   "metadata": {},
   "outputs": [],
   "source": [
    "def saludar_usuario(nombre):\n",
    "    print(\"Bienvenido:\", nombre)"
   ]
  },
  {
   "cell_type": "code",
   "execution_count": 4,
   "id": "47a3e3f4-ded3-45a3-9b03-09d27af17a48",
   "metadata": {},
   "outputs": [
    {
     "name": "stdout",
     "output_type": "stream",
     "text": [
      "Bienvenido: Andrés Muñoz\n"
     ]
    }
   ],
   "source": [
    "usuario = \"Andrés Muñoz\"\n",
    "saludar_usuario(usuario)"
   ]
  },
  {
   "cell_type": "markdown",
   "id": "ed12c0e7-6f65-482d-a6df-81859915455b",
   "metadata": {},
   "source": [
    "### Ejercicio 3.3"
   ]
  },
  {
   "cell_type": "markdown",
   "id": "90616ea7-4c8f-4534-aaae-08271a63649f",
   "metadata": {},
   "source": [
    "Función con retorno y con parámetros"
   ]
  },
  {
   "cell_type": "code",
   "execution_count": 5,
   "id": "abe62ae6-f662-48da-a0bd-c23982b3f515",
   "metadata": {},
   "outputs": [],
   "source": [
    "def sumar(a, b): #Función con retorno y con parámetros\n",
    "    return a + b"
   ]
  },
  {
   "cell_type": "code",
   "execution_count": 6,
   "id": "099b0267-3e92-4b90-b8d9-2cffa7547b3d",
   "metadata": {},
   "outputs": [
    {
     "name": "stdout",
     "output_type": "stream",
     "text": [
      "El resultado de la suma es:  8\n"
     ]
    }
   ],
   "source": [
    "#LLamada a la función con retorno\n",
    "resultado_suma = sumar(3, 5)\n",
    "print(\"El resultado de la suma es: \", resultado_suma)"
   ]
  },
  {
   "cell_type": "markdown",
   "id": "52b0511f-ecf8-4422-87e2-c057575e4c5a",
   "metadata": {},
   "source": [
    "### Ejercicio 3.4"
   ]
  },
  {
   "cell_type": "markdown",
   "id": "22d92abc-6013-4c0e-85ae-cf1a367fa7cb",
   "metadata": {},
   "source": [
    "Dato a tener en cuenta: el orden de los argumentos al llamar a una función con parámetros debe coincidir con el orden de los parámetros definidos en la función."
   ]
  },
  {
   "cell_type": "code",
   "execution_count": 7,
   "id": "fff35b80-30e5-4983-8f4f-d2f67eed004d",
   "metadata": {},
   "outputs": [],
   "source": [
    "def resta(a, b): #Función con parámetros y retorno\n",
    "    return a - b"
   ]
  },
  {
   "cell_type": "code",
   "execution_count": 8,
   "id": "f39a03fb-ce54-4288-b1c3-1340f9c3adaa",
   "metadata": {},
   "outputs": [
    {
     "name": "stdout",
     "output_type": "stream",
     "text": [
      "El resultado de la resta es:  5\n"
     ]
    }
   ],
   "source": [
    "#Llamada a la función con los argumentos en orden\n",
    "resultado_resta = resta(10, 5)\n",
    "print(\"El resultado de la resta es: \", resultado_resta)"
   ]
  },
  {
   "cell_type": "code",
   "execution_count": 9,
   "id": "c25612a2-1fed-459d-8088-c9eaecd672d6",
   "metadata": {},
   "outputs": [
    {
     "name": "stdout",
     "output_type": "stream",
     "text": [
      "El resultado de la resta es: -5\n"
     ]
    }
   ],
   "source": [
    "#Si invertimos el orden vamos a obtener otro resultado obviamente \n",
    "resultado_resta = resta(5, 10)\n",
    "print(\"El resultado de la resta es:\", resultado_resta)"
   ]
  },
  {
   "cell_type": "code",
   "execution_count": 10,
   "id": "edc37039-2e35-4897-aedc-32bc6b41a324",
   "metadata": {},
   "outputs": [
    {
     "name": "stdout",
     "output_type": "stream",
     "text": [
      "El resultado de la resta (con otro orden de argumentos) es: 5\n"
     ]
    }
   ],
   "source": [
    "#Llamada a la función con los argumentos en diferente orden\n",
    "resultado_resta_otro_orden = resta(b=5, a=10) #Aunque el orden cambia, la función toma el valor de a\n",
    "print(\"El resultado de la resta (con otro orden de argumentos) es:\", resultado_resta_otro_orden)"
   ]
  },
  {
   "cell_type": "code",
   "execution_count": null,
   "id": "3217c466-c420-4d68-98c0-0cf3d50cb3da",
   "metadata": {},
   "outputs": [],
   "source": []
  }
 ],
 "metadata": {
  "kernelspec": {
   "display_name": "Python 3 (ipykernel)",
   "language": "python",
   "name": "python3"
  },
  "language_info": {
   "codemirror_mode": {
    "name": "ipython",
    "version": 3
   },
   "file_extension": ".py",
   "mimetype": "text/x-python",
   "name": "python",
   "nbconvert_exporter": "python",
   "pygments_lexer": "ipython3",
   "version": "3.11.7"
  }
 },
 "nbformat": 4,
 "nbformat_minor": 5
}
