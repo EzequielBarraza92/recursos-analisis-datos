{
 "cells": [
  {
   "cell_type": "markdown",
   "id": "67d5cfd8-54c1-4a81-8e07-0a58aff5a2ff",
   "metadata": {},
   "source": [
    "# Programación orientada a objetos (POO) - Parte 2"
   ]
  },
  {
   "cell_type": "markdown",
   "id": "65c7a816-0677-494c-89e8-69030c833738",
   "metadata": {},
   "source": [
    "### Ejercicio 1.0"
   ]
  },
  {
   "cell_type": "markdown",
   "id": "0588c054-9ab8-4d99-b535-ba0b6db2c223",
   "metadata": {},
   "source": [
    "Repaso de la clase anterior"
   ]
  },
  {
   "cell_type": "markdown",
   "id": "a76ecf49-95d3-41cb-a199-7aa6d8179198",
   "metadata": {},
   "source": [
    "Crear una clase ClienteBanco la cual tendrá un nombre(priv), numero_cuenta(priv), saldo(priv), tiene_tarjeta(priva) default False."
   ]
  },
  {
   "cell_type": "markdown",
   "id": "8c10b356-c292-489c-85e5-4c13a6ea9c21",
   "metadata": {},
   "source": [
    "Además se va a incluir un método llamado retirarDinero, el cual tomará un número y en función de si tiene o no el saldo suficiente nos dejará o no realizar la operación."
   ]
  },
  {
   "cell_type": "code",
   "execution_count": 3,
   "id": "664f4314-6f3d-4f57-926e-70444cbf0f24",
   "metadata": {},
   "outputs": [],
   "source": [
    "class ClienteBanco: #Creamos la clase\n",
    "    def __init__(self, nombre, numero_cuenta, saldo, tiene_tarjeta = False): #Inicializamos\n",
    "        self.__nombre = nombre #Protegemos la información haciéndola privada\n",
    "        self.__numero_cuenta = numero_cuenta \n",
    "        self.__saldo = saldo\n",
    "        self.__tiene_tarjeta = tiene_tarjeta\n",
    "\n",
    "    def __str__(self): #Definimos cómo queremos que se vea al imprimirla\n",
    "        return f\"Información Bancaria \\nTitular: {self.__nombre} \\nCuenta: {self.__numero_cuenta}\"\n",
    "\n",
    "    def retirarDinero(self, cantidad): #Creamos nuestra función para retirar dinero\n",
    "        if cantidad <= self.__saldo: #Con un if verificamos si hay suficiente dinero\n",
    "            self.__saldo = self.__saldo - cantidad #Recalculamos el saldo\n",
    "            return f\"Usted retiró de su cuenta {cantidad} y le queda {self.__saldo}\" #Imprimimos cuánto sacó y cuánto le queda\n",
    "        else:\n",
    "            return f\"Fondos insuficientes\" #En caso de no tener suficiente imprimimos un mensaje"
   ]
  },
  {
   "cell_type": "code",
   "execution_count": 4,
   "id": "c2ba65cb-2335-47a8-a01d-adf150b9d029",
   "metadata": {},
   "outputs": [
    {
     "name": "stdout",
     "output_type": "stream",
     "text": [
      "Información Bancaria \n",
      "Titular: Andrés \n",
      "Cuenta: 1111\n"
     ]
    }
   ],
   "source": [
    "cliente1 = ClienteBanco(\"Andrés\", 1111, 200000, True)\n",
    "print(cliente1)"
   ]
  },
  {
   "cell_type": "code",
   "execution_count": 5,
   "id": "7f6084e7-be2d-4f86-9fc9-a8a1b25a2c3d",
   "metadata": {},
   "outputs": [
    {
     "data": {
      "text/plain": [
       "'Usted retiró de su cuenta 10000 y le queda 190000'"
      ]
     },
     "execution_count": 5,
     "metadata": {},
     "output_type": "execute_result"
    }
   ],
   "source": [
    "cliente1.retirarDinero(10000)"
   ]
  },
  {
   "cell_type": "code",
   "execution_count": 6,
   "id": "9bd5a4f4-5d1c-4955-bfff-a1bd554292e9",
   "metadata": {},
   "outputs": [
    {
     "data": {
      "text/plain": [
       "'Fondos insuficientes'"
      ]
     },
     "execution_count": 6,
     "metadata": {},
     "output_type": "execute_result"
    }
   ],
   "source": [
    "cliente1.retirarDinero(666666)"
   ]
  },
  {
   "cell_type": "markdown",
   "id": "93356a2a-efd5-4194-9c34-35ef392905e2",
   "metadata": {},
   "source": [
    "### Ejercicio 1.1"
   ]
  },
  {
   "cell_type": "markdown",
   "id": "c60ae8b6-98ff-4299-8d0b-c7591638ac16",
   "metadata": {},
   "source": [
    "Retomando el ejercicio anterior, vemos que al hacer todos los atributos privados ahora no se pueden editar de forma directa, lo cual está muy bien."
   ]
  },
  {
   "cell_type": "markdown",
   "id": "cbd28602-5954-4fd0-8488-51c6fb936304",
   "metadata": {},
   "source": [
    "Pero tenemos un inconveniente ¿qué pasa si queremos ver el saldo o checkear si tiene tarjeta o no?"
   ]
  },
  {
   "cell_type": "markdown",
   "id": "e636f5e2-b9ec-4601-9b22-2f638cfd53f5",
   "metadata": {},
   "source": [
    "Para ello se utilizan unos métodos creados por el usuario llamados:\n",
    "- getter -> retornar el valor de un atributo\n",
    "- setter -> editar el valor de un atributo"
   ]
  },
  {
   "cell_type": "markdown",
   "id": "2a6a2532-addc-411d-9358-50a94da0e749",
   "metadata": {},
   "source": [
    "Nota: getter y setter es una convención utilizada para darle nombre a estos métodos, y no siempre vamos a definirlos para todos los atributos."
   ]
  },
  {
   "cell_type": "markdown",
   "id": "59d97f68-963d-4e6d-b44e-47889b3b4638",
   "metadata": {},
   "source": [
    "Copiamos de nuevo nuestra clase anterior y trabajamos sobre ella."
   ]
  },
  {
   "cell_type": "code",
   "execution_count": 9,
   "id": "f81854a4-6dd4-46e8-adbf-64ad2a3cbc15",
   "metadata": {},
   "outputs": [],
   "source": [
    "class ClienteBanco:\n",
    "    def __init__(self, nombre, numero_cuenta, saldo, tiene_tarjeta = False):\n",
    "        self.__nombre = nombre\n",
    "        self.__numero_cuenta = numero_cuenta\n",
    "        self.__saldo = saldo\n",
    "        self.__tiene_tarjeta = tiene_tarjeta\n",
    "\n",
    "    def __str__(self):\n",
    "        return f\"Información Bancaria \\nTitular: {self.__nombre} \\nCuenta: {self.__numero_cuenta}\"\n",
    "\n",
    "    def getTieneTarjeta(self): #Esta función se encarga de imprimir si tiene o no tarjeta\n",
    "        return f\"{self.__tiene_tarjeta}\"\n",
    "\n",
    "    def getSaldo(self): #Esta función se encarga de imprimir el saldo\n",
    "        return f\"{self.__saldo}\"\n",
    "\n",
    "    def consultarSaldo(self): #NO estamos obligados a usar el término get podemos personalizarlo si queremos\n",
    "        return f\"Su saldo es: {self.__saldo}\"\n",
    "\n",
    "    def setTieneTarjeta(self, estado_tarjeta): #Con este get ahora podríamos modificar el estado tiene_tarjeta\n",
    "        self.__tiene_tarjeta = estado_tarjeta\n",
    "\n",
    "    def retirarDinero(self, cantidad):\n",
    "        if cantidad <= self.__saldo:\n",
    "            self.__saldo = self.__saldo - cantidad\n",
    "            return f\"Usted retiró de su cuenta {cantidad} y le quedaron {self.saldo}\"\n",
    "        else:\n",
    "            return f\"Fondos insuficientes\""
   ]
  },
  {
   "cell_type": "code",
   "execution_count": 10,
   "id": "be4ca852-43d2-4734-8681-6beb87f7e24a",
   "metadata": {},
   "outputs": [
    {
     "name": "stdout",
     "output_type": "stream",
     "text": [
      "Información Bancaria \n",
      "Titular: Pablo \n",
      "Cuenta: 7766\n"
     ]
    }
   ],
   "source": [
    "cliente2 = ClienteBanco(\"Pablo\", 7766, 500000, False)\n",
    "print(cliente2)"
   ]
  },
  {
   "cell_type": "code",
   "execution_count": 11,
   "id": "11929051-7740-4fc1-ad3b-655079354af1",
   "metadata": {},
   "outputs": [
    {
     "data": {
      "text/plain": [
       "'False'"
      ]
     },
     "execution_count": 11,
     "metadata": {},
     "output_type": "execute_result"
    }
   ],
   "source": [
    "cliente2.getTieneTarjeta() #Con el getter podemos ver si tiene tarjeta"
   ]
  },
  {
   "cell_type": "code",
   "execution_count": 12,
   "id": "051916ba-4183-4c02-aa20-ec6657198d73",
   "metadata": {},
   "outputs": [
    {
     "data": {
      "text/plain": [
       "'500000'"
      ]
     },
     "execution_count": 12,
     "metadata": {},
     "output_type": "execute_result"
    }
   ],
   "source": [
    "cliente2.getSaldo() #Con el gettter podemos ver si tiene saldo"
   ]
  },
  {
   "cell_type": "code",
   "execution_count": 13,
   "id": "f6f2364a-3827-4282-b3a1-1124d6c7d9ee",
   "metadata": {},
   "outputs": [
    {
     "data": {
      "text/plain": [
       "'Su saldo es: 500000'"
      ]
     },
     "execution_count": 13,
     "metadata": {},
     "output_type": "execute_result"
    }
   ],
   "source": [
    "cliente2.consultarSaldo() #Pero también lo podemos hacer con consultar_saldo"
   ]
  },
  {
   "cell_type": "code",
   "execution_count": 14,
   "id": "154d36ab-8519-42df-b38f-2bf224ebc818",
   "metadata": {},
   "outputs": [
    {
     "data": {
      "text/plain": [
       "'True'"
      ]
     },
     "execution_count": 14,
     "metadata": {},
     "output_type": "execute_result"
    }
   ],
   "source": [
    "cliente2.setTieneTarjeta(True) #Con el setter podemos editar tiene_tarjeta\n",
    "cliente2.getTieneTarjeta()"
   ]
  },
  {
   "cell_type": "markdown",
   "id": "2c5ca764-f1b7-4bfe-8874-f45f0ca2aa39",
   "metadata": {},
   "source": [
    "### Ejercicio 1.2"
   ]
  },
  {
   "cell_type": "markdown",
   "id": "64802d62-88cc-4877-ab6d-9d062468ccc4",
   "metadata": {},
   "source": [
    "Veremos el concepto llamado Herencia "
   ]
  },
  {
   "cell_type": "markdown",
   "id": "4d5614e9-336d-4479-a974-fa64de99e23d",
   "metadata": {},
   "source": [
    "En Python se puede usar la herencia entre clases, la cual nos permite crear clases a partir de otras clases, heredando sus métodos y atributos, pudiendo sobreescribirlos."
   ]
  },
  {
   "cell_type": "markdown",
   "id": "db6a49de-a696-4d8c-88ea-abb1b7cd464b",
   "metadata": {},
   "source": [
    "La herencia de clases nos sirve para cuando tenemos una clase que ya está hecha y decidimos hacer una nueva clase que es similar, pero con algunas diferencias o características adicionales. La nueva clase se llama \"clase hija\" o \"subclase\", y la clase original se llama \"clase padre\" o \"superclase\"."
   ]
  },
  {
   "cell_type": "markdown",
   "id": "315c964c-f150-4d2d-b6d6-5fc58c60bc08",
   "metadata": {},
   "source": [
    "Vamos a trabajar con una clase padre o superclase llamada Persona. Cada persona tiene un nombre, apellido, DNI, nacionalidad y domicilio. Haremos estos atributos privados. Crearemos getters y setters según creamos correspondientes."
   ]
  },
  {
   "cell_type": "code",
   "execution_count": 25,
   "id": "57d715c4-d7cc-4b6a-add3-24004ff75df7",
   "metadata": {},
   "outputs": [],
   "source": [
    "class Persona:\n",
    "    def __init__(self, nombre, apellido, dni, nacionalidad, domicilio):\n",
    "        self.__nombre = nombre\n",
    "        self.__apellido = apellido\n",
    "        self.__dni = dni\n",
    "        self.__nacionalidad = nacionalidad \n",
    "        self.__domicilio = domicilio \n",
    "\n",
    "    def __str__(self):\n",
    "        return f\"Nombre: {self.__nombre} \\nApellido: {self.__apellido}\"\n",
    "\n",
    "    def getNombre(self): #Me permite ver el nombre de la persona\n",
    "        return f\"{self.__nombre}\"\n",
    "\n",
    "    def getApellido(self): #Me permite ver el apellido de la persona\n",
    "        return f\"{self.__apellido}\"\n",
    "\n",
    "    def getDni(self): #Me permite ver el dni de la persona\n",
    "        return f\"{self.__dni}\"\n",
    "\n",
    "    def getNacionalidad(self): #Me permite ver la nacionalidad de la persona\n",
    "        return f\"{self.__nacionalidad}\"\n",
    "\n",
    "    def getDomicilio(self): #Me permite ver el domicilio de la persona\n",
    "        return f\"{self.__domicilio}\"\n",
    "\n",
    "    def setDomicilio(self, nuevo_domicilio): #Me permite editar el domicilio de la persona\n",
    "        self.__domicilio = nuevo_domicilio"
   ]
  },
  {
   "cell_type": "code",
   "execution_count": 24,
   "id": "cda79d48-7ba5-4535-abeb-c507a7bd7df1",
   "metadata": {},
   "outputs": [
    {
     "name": "stdout",
     "output_type": "stream",
     "text": [
      "Nombre: Andrés \n",
      "Apellido: Muñoz\n"
     ]
    }
   ],
   "source": [
    "persona1 = Persona(\"Andrés\", \"Muñoz\", 11111, \"Argentina\", \"Mendoza\")\n",
    "print(persona1)"
   ]
  },
  {
   "cell_type": "code",
   "execution_count": 17,
   "id": "6d53b566-084e-420e-9d17-67f9497d0ac3",
   "metadata": {},
   "outputs": [
    {
     "data": {
      "text/plain": [
       "('11111', 'Argentina', 'Mendoza')"
      ]
     },
     "execution_count": 17,
     "metadata": {},
     "output_type": "execute_result"
    }
   ],
   "source": [
    "persona1.getDni(), persona1.getNacionalidad(), persona1.getDomicilio()"
   ]
  },
  {
   "cell_type": "code",
   "execution_count": 26,
   "id": "ce4754eb-7171-48a1-9c74-d56ef4a43b93",
   "metadata": {},
   "outputs": [
    {
     "data": {
      "text/plain": [
       "'Las Heras - Mendoza'"
      ]
     },
     "execution_count": 26,
     "metadata": {},
     "output_type": "execute_result"
    }
   ],
   "source": [
    "persona1.setDomicilio(\"Las Heras - Mendoza\")\n",
    "persona1.getDomicilio()"
   ]
  },
  {
   "cell_type": "markdown",
   "id": "fa348663-715d-47a1-b0c0-ae858024cca9",
   "metadata": {},
   "source": [
    "Ahora tenemos que crear una clase llamada EmpleadoAlkemy que también va a tener un nombre, apellido, DNI, nacionalidad y domicilio. Sin embargo, además, va a tener valores nuevos como CVU, cargo y estado_cobro (default False). Al mismo tiempo tenemos que definir un método depositarSueldo,"
   ]
  },
  {
   "cell_type": "markdown",
   "id": "14df5055-a1bb-4f99-8ae0-c34d9e325dd9",
   "metadata": {},
   "source": [
    "Como no queremos repetir el código que hicimos antes podemos usar herencia. Usando la clase Persona como padre y EmpleadoAlkemy como hija."
   ]
  },
  {
   "cell_type": "markdown",
   "id": "f6486718-bfcb-4fbe-a8e0-01a96f5a3196",
   "metadata": {},
   "source": [
    "Nota: super() sirve para llamar a los métodos de la clase padre desde la clase hija."
   ]
  },
  {
   "cell_type": "code",
   "execution_count": 70,
   "id": "5a457805-356e-476d-9544-c1327c032199",
   "metadata": {},
   "outputs": [],
   "source": [
    "class EmpleadoAlkemy(Persona): #Necesito definr la clase Persona como parámetro\n",
    "    def __init__(self, nombre, apellido, dni, nacionalidad, domicilio, cvu, cargo, estado_cobro = False): #Inicializamos\n",
    "        super().__init__(nombre, apellido, dni, nacionalidad, domicilio) #Llamo al __init__ de Persona\n",
    "        self.__cvu = cvu #Ahora inicilizamos los atributos exclusivos de Empleado Alkemy \n",
    "        self.__cargo = cargo\n",
    "        self.__estado_cobro = estado_cobro\n",
    "\n",
    "    \"\"\" Revisemos que pasaría si ejecutamos esto\n",
    "    def __str__(self):\n",
    "        return f\"{self.__nombre} {self.__apellido} se desempeña como {self.__cargo}\"\n",
    "    \"\"\"\n",
    "\n",
    "    def __str__(self): \n",
    "        return f\"{self.getNombre()} {self.getApellido()} se desempeña como {self.__cargo}\"\n",
    "\n",
    "    #Vamos a agregar los nuevos getter y setter que podamos llegar a necesitar\n",
    "    def getCargo(self):\n",
    "        return f\"{self.cargo}\"\n",
    "\n",
    "    def getEstadoCobro(self):\n",
    "        return f\"{self.__estado_cobro}\"\n",
    "\n",
    "    def setCargo(self, nuevo_cargo):\n",
    "        self.__cargo = nuevo_cargo\n",
    "\n",
    "    def setEstadoCobro(self, nuevo_estado_cobro):\n",
    "        self.__estado_cobro = nuevo_estado_cobro\n",
    "\n",
    "    def depositarSueldo(self): #Creamos nuestro método depositarSueldo\n",
    "       if self.__estado_cobro:\n",
    "           return f\"A la cuenta {self.__cvu} de {self.getNombre()} {self.getApellido()} se le depositó el sueldo de {self.__cargo}\"\n",
    "\n",
    "       else:\n",
    "           return f\"Usted no ha trabajado el último mes\"\n",
    "        \n",
    "        "
   ]
  },
  {
   "cell_type": "code",
   "execution_count": 39,
   "id": "9b0f83df-0b8f-4ac1-bf49-1a64cb69bc0b",
   "metadata": {},
   "outputs": [
    {
     "name": "stdout",
     "output_type": "stream",
     "text": [
      "Andres Muñoz se desempeña como profesor\n"
     ]
    }
   ],
   "source": [
    "empleado1 = EmpleadoAlkemy(\"Andres\", \"Muñoz\", 123123, \"Arg\", \"Mendoza\", 999999, \"profesor\", True)\n",
    "print(empleado1)"
   ]
  },
  {
   "cell_type": "code",
   "execution_count": 40,
   "id": "6b49ba0a-14da-4ca9-a7f9-dc7b0454a994",
   "metadata": {},
   "outputs": [
    {
     "data": {
      "text/plain": [
       "('123123', 'Arg', 'Mendoza')"
      ]
     },
     "execution_count": 40,
     "metadata": {},
     "output_type": "execute_result"
    }
   ],
   "source": [
    "empleado1.getDni(), empleado1.getNacionalidad(), empleado1.getDomicilio()"
   ]
  },
  {
   "cell_type": "code",
   "execution_count": 41,
   "id": "fd739499-143b-48af-a2f6-050e6bace09c",
   "metadata": {},
   "outputs": [
    {
     "data": {
      "text/plain": [
       "'Las Heras - Mendoza'"
      ]
     },
     "execution_count": 41,
     "metadata": {},
     "output_type": "execute_result"
    }
   ],
   "source": [
    "empleado1.setDomicilio(\"Las Heras - Mendoza\")\n",
    "empleado1.getDomicilio()"
   ]
  },
  {
   "cell_type": "code",
   "execution_count": 42,
   "id": "c613a891-6f30-4d24-9fc7-55edbaffaee6",
   "metadata": {},
   "outputs": [
    {
     "data": {
      "text/plain": [
       "'A la cuenta 999999 de Andres Muñoz se le depositó el sueldo de profesor'"
      ]
     },
     "execution_count": 42,
     "metadata": {},
     "output_type": "execute_result"
    }
   ],
   "source": [
    "empleado1.depositarSueldo()"
   ]
  },
  {
   "cell_type": "code",
   "execution_count": 43,
   "id": "79e08de8-7062-4dba-adf3-78717fb1b2bb",
   "metadata": {},
   "outputs": [
    {
     "data": {
      "text/plain": [
       "'False'"
      ]
     },
     "execution_count": 43,
     "metadata": {},
     "output_type": "execute_result"
    }
   ],
   "source": [
    "empleado1.setEstadoCobro(False)\n",
    "empleado1.getEstadoCobro()"
   ]
  },
  {
   "cell_type": "code",
   "execution_count": 44,
   "id": "8c59dba2-6457-4f93-b87a-2f3ecbd83f7e",
   "metadata": {},
   "outputs": [
    {
     "data": {
      "text/plain": [
       "'Usted no ha trabajado el último mes'"
      ]
     },
     "execution_count": 44,
     "metadata": {},
     "output_type": "execute_result"
    }
   ],
   "source": [
    "empleado1.depositarSueldo()"
   ]
  },
  {
   "cell_type": "markdown",
   "id": "e98e3933-95ce-44fe-b735-4c7daafb2b9b",
   "metadata": {},
   "source": [
    "¿Qué pasaría si quisiéramos crear una nueva clase llamado AlumnoAlkemy?\n",
    "\n",
    "Cada alumno también va a tener un nombre, apellido, DNI, nacionalidad y domicilio. Pero también tendríamos que tener en cuenta la comisión, su nota final y si pagó la matrícula.\n",
    "\n",
    "Cada alumno va a poder recibir un certificado, el cual tiene que indicar sus datos, qué fue lo que estudió y cuál fue su nota. Pero solo aquellos que hayan terminado de cancelar su matrícula podrán acceder a su certificado."
   ]
  },
  {
   "cell_type": "code",
   "execution_count": 65,
   "id": "c4215526-b20a-44bd-90f4-811f01c26743",
   "metadata": {},
   "outputs": [],
   "source": [
    "class AlumnoAlkemy(Persona): #Necesito definir la clase Persona como parámetro\n",
    "    def __init__(self, nombre, apellido, dni, nacionalidad, domicilio, nota_final, comision = \"Análisis datos\", matricula_cancelada = False): #Inicializamos\n",
    "        super().__init__(nombre, apellido, dni, nacionalidad, domicilio) #Llamo al __init__ de Persona\n",
    "        self.__nota_final = nota_final #Ahora inicilizamos los atributos exclusivos de AlumnoAlkemy\n",
    "        self.__comision = comision\n",
    "        self.__matricula_cancelada = matricula_cancelada\n",
    "\n",
    "    def __str__(self):\n",
    "        return f\"{self.getNombre()} {self.getApellido()} estudia {self.__comision}\"\n",
    "\n",
    "    #Vamos a agregar los nuevos getter y setter que podamos llegar a necesitar\n",
    "    def getNotaFinal(self):\n",
    "        return f\"{self.__nota_final}\"\n",
    "\n",
    "    def getComision(self):\n",
    "        return f\"{self.__comision}\"\n",
    "\n",
    "    def getMatriculaCancelada(self):\n",
    "        return f\"{self.__matricula_cancelada}\"\n",
    "\n",
    "    def setMatriculaCancelada(self, cambio_matricula):\n",
    "        self.__matricula_cancelada = cambio_matricula\n",
    "\n",
    "    def recibirCertificado(self): #Creamos nuestro método recibirCertificado\n",
    "        if self.__matricula_cancelada:\n",
    "            return f\"El alumno {self.getNombre()} {self.getApellido()} obtuvo una nota de {self.__nota_final} durante su cursada en {self.__comision}\"\n",
    "        else:\n",
    "            return f\"Por favor cancele su matrícula\""
   ]
  },
  {
   "cell_type": "code",
   "execution_count": 66,
   "id": "0539e0ae-5867-4157-9449-c0a2fa5a903d",
   "metadata": {},
   "outputs": [
    {
     "name": "stdout",
     "output_type": "stream",
     "text": [
      "Andrés Muñoz estudia Análisis datos\n"
     ]
    }
   ],
   "source": [
    "alumno1 = AlumnoAlkemy(\"Andrés\", \"Muñoz\", 555555, \"Arg\", \"Mendoza\", 8)\n",
    "print(alumno1)"
   ]
  },
  {
   "cell_type": "code",
   "execution_count": 67,
   "id": "5c114bf2-1b39-4fa5-812f-75c7d857cf17",
   "metadata": {},
   "outputs": [
    {
     "data": {
      "text/plain": [
       "'Por favor cancele su matrícula'"
      ]
     },
     "execution_count": 67,
     "metadata": {},
     "output_type": "execute_result"
    }
   ],
   "source": [
    "alumno1.recibirCertificado()"
   ]
  },
  {
   "cell_type": "code",
   "execution_count": 68,
   "id": "1962685f-178d-44af-a12d-6c4941f14d40",
   "metadata": {},
   "outputs": [
    {
     "data": {
      "text/plain": [
       "('Andrés', 'Muñoz', 'True')"
      ]
     },
     "execution_count": 68,
     "metadata": {},
     "output_type": "execute_result"
    }
   ],
   "source": [
    "alumno1.setMatriculaCancelada(True)\n",
    "alumno1.getNombre(), alumno1.getApellido(), alumno1.getMatriculaCancelada()"
   ]
  },
  {
   "cell_type": "code",
   "execution_count": 69,
   "id": "a8095130-888f-43fc-8592-f8cb6f375e92",
   "metadata": {},
   "outputs": [
    {
     "data": {
      "text/plain": [
       "'El alumno Andrés Muñoz obtuvo una nota de 8 durante su cursada en Análisis datos'"
      ]
     },
     "execution_count": 69,
     "metadata": {},
     "output_type": "execute_result"
    }
   ],
   "source": [
    "alumno1.recibirCertificado()"
   ]
  },
  {
   "cell_type": "markdown",
   "id": "d08cd522-eeb0-45da-b15b-f34004ff19f7",
   "metadata": {},
   "source": [
    "### Ejercicio 1.3 "
   ]
  },
  {
   "cell_type": "markdown",
   "id": "c6a41d5a-52e7-4786-a229-d63c1f048884",
   "metadata": {},
   "source": [
    "Crearemos otro ejemplo y veremos que al trabajar con atributos públicos no es necesario tener que crear los getter y setter. "
   ]
  },
  {
   "cell_type": "markdown",
   "id": "3894d6f3-c2d4-4ff4-b4a8-d09977e2048f",
   "metadata": {},
   "source": [
    "Clase padre -> Animal \n",
    "- Atributos: clase, especie, tipo (public)\n",
    "- Método: emitir sonido (pass)\n",
    "\n",
    "Clase hija -> Perro\n",
    "- Atributos propios: nombre(private)\n",
    "- Métodos propios: darPata\n",
    "\n",
    "Clase hija -> Gallina \n",
    "- Atributos propios: huevos (default False)\n",
    "- Métodos propios: hacerTortilla (solo si huevos = True) "
   ]
  },
  {
   "cell_type": "code",
   "execution_count": 1,
   "id": "9cb8cee4-9430-4358-8a30-0b812d010081",
   "metadata": {},
   "outputs": [],
   "source": [
    "class Animal: #Clase Padre\n",
    "    def __init__(self, clase, especie, tipo): #Inicialización\n",
    "        self.clase = clase #Atributos públicos\n",
    "        self.especie = especie\n",
    "        self.tipo = tipo\n",
    "\n",
    "    def emitirSonido(self):\n",
    "        pass\n",
    "\n",
    "    def __str__(self):\n",
    "        return f\"Clase: {self.clase}, Especie: {self.especie}, Tipo: {self.tipo}\""
   ]
  },
  {
   "cell_type": "code",
   "execution_count": 2,
   "id": "820c9022-2e46-4cd9-aaf2-2de7ab29c57c",
   "metadata": {},
   "outputs": [
    {
     "name": "stdout",
     "output_type": "stream",
     "text": [
      "Clase: Mamífero, Especie: Roedor, Tipo: Salvaje\n"
     ]
    }
   ],
   "source": [
    "raton = Animal(\"Mamífero\", \"Roedor\", \"Salvaje\") #Creamos un objeto a partir de la clase animal\n",
    "print(raton)"
   ]
  },
  {
   "cell_type": "code",
   "execution_count": 3,
   "id": "0d5586fe-72c0-49e2-a938-f7331c3c9285",
   "metadata": {},
   "outputs": [],
   "source": [
    "raton.emitirSonido() #Vemos que el pass hace que no ocurra nada cuando en un objeto de Animal llamomos a emitirSonido"
   ]
  },
  {
   "cell_type": "code",
   "execution_count": 4,
   "id": "e5ce00ce-3001-46e9-8f65-90c6d252c0df",
   "metadata": {},
   "outputs": [],
   "source": [
    "class Perro(Animal): #Clase hija\n",
    "    def __init__(self, clase, especie, tipo, nombre): #Inicializamos\n",
    "        super().__init__(clase, especie, tipo)\n",
    "        self.__nombre = nombre #El nombre es privado\n",
    "\n",
    "    def __str__(self):\n",
    "        return f\"Nombre: {self.__nombre}, Clase: {self.clase}, Especie: {self.especie}, Tipo: {self.tipo}\"\n",
    "\n",
    "    def getNombre(self):\n",
    "        return f\"{self.__nombre}\"\n",
    "\n",
    "    def emitirSonido(self):\n",
    "        return \"¡Guau guau!\"\n",
    "\n",
    "    def darLaPata(self):\n",
    "        return f\"{self.__nombre} da la pata.\""
   ]
  },
  {
   "cell_type": "code",
   "execution_count": 5,
   "id": "2ab73ea0-f84f-444e-9dcf-e026095c16b9",
   "metadata": {},
   "outputs": [
    {
     "name": "stdout",
     "output_type": "stream",
     "text": [
      "Nombre: Fatiga, Clase: Mamífero, Especie: Canino, Tipo: Doméstico\n"
     ]
    }
   ],
   "source": [
    "perro = Perro(\"Mamífero\", \"Canino\", \"Doméstico\", \"Fatiga\")\n",
    "print(perro)"
   ]
  },
  {
   "cell_type": "code",
   "execution_count": 6,
   "id": "06c01f4a-af01-4037-850f-950a88e311c8",
   "metadata": {},
   "outputs": [
    {
     "data": {
      "text/plain": [
       "'Fatiga'"
      ]
     },
     "execution_count": 6,
     "metadata": {},
     "output_type": "execute_result"
    }
   ],
   "source": [
    "perro.getNombre()"
   ]
  },
  {
   "cell_type": "code",
   "execution_count": 7,
   "id": "1c97a982-d4f6-4feb-af29-3dcb50d8ce94",
   "metadata": {},
   "outputs": [
    {
     "data": {
      "text/plain": [
       "'Fatiga da la pata.'"
      ]
     },
     "execution_count": 7,
     "metadata": {},
     "output_type": "execute_result"
    }
   ],
   "source": [
    "perro.darLaPata()"
   ]
  },
  {
   "cell_type": "code",
   "execution_count": 8,
   "id": "42dc31d1-d4f7-46ff-8847-f3280f413ccc",
   "metadata": {},
   "outputs": [
    {
     "data": {
      "text/plain": [
       "'¡Guau guau!'"
      ]
     },
     "execution_count": 8,
     "metadata": {},
     "output_type": "execute_result"
    }
   ],
   "source": [
    "perro.emitirSonido()"
   ]
  },
  {
   "cell_type": "code",
   "execution_count": 9,
   "id": "7dfb6bab-b682-446c-8c7d-324f8725c2b1",
   "metadata": {},
   "outputs": [],
   "source": [
    "class Gallina(Animal):\n",
    "    def __init__(self, clase, especie, tipo, huevos = False):\n",
    "        super().__init__(clase, especie, tipo)\n",
    "        self.huevos = huevos\n",
    "\n",
    "    def __str__(self):\n",
    "        return f\"Clase: {self.clase}, Epecie: {self.especie}, Tipo: {self.tipo}, ¿Puso un huevo hoy?: {self.huevos}\"\n",
    "\n",
    "    def emitirSonido(self):\n",
    "        return \"¡Pok pok pok!\"\n",
    "\n",
    "    def hacerTortilla(self):\n",
    "        if self.huevos:\n",
    "            print(\"Ya puso un huevo, puede hacer una tortilla\")\n",
    "        else:\n",
    "            print(\"Aún no puso un huevo\")"
   ]
  },
  {
   "cell_type": "code",
   "execution_count": 10,
   "id": "adde22ff-1507-450c-acf3-553080204938",
   "metadata": {},
   "outputs": [
    {
     "name": "stdout",
     "output_type": "stream",
     "text": [
      "Clase: Ave, Epecie: Gallina, Tipo: Granja, ¿Puso un huevo hoy?: False\n",
      "Aún no puso un huevo\n"
     ]
    }
   ],
   "source": [
    "gallina = Gallina(\"Ave\", \"Gallina\", \"Granja\", False)\n",
    "print(gallina)\n",
    "gallina.hacerTortilla()"
   ]
  },
  {
   "cell_type": "code",
   "execution_count": 11,
   "id": "cecf07c5-7f73-4296-b83f-58c6cd4a61a9",
   "metadata": {},
   "outputs": [
    {
     "name": "stdout",
     "output_type": "stream",
     "text": [
      "Aún no puso un huevo\n"
     ]
    }
   ],
   "source": [
    "gallina.huevo = True\n",
    "gallina.hacerTortilla()"
   ]
  },
  {
   "cell_type": "code",
   "execution_count": 13,
   "id": "7c2417dd-d7bc-41d3-ae79-f62742f3c512",
   "metadata": {},
   "outputs": [
    {
     "data": {
      "text/plain": [
       "'¡Pok pok pok!'"
      ]
     },
     "execution_count": 13,
     "metadata": {},
     "output_type": "execute_result"
    }
   ],
   "source": [
    "gallina.emitirSonido()"
   ]
  },
  {
   "cell_type": "markdown",
   "id": "b8f82399-52c6-4e96-8c70-a13222e3bc1b",
   "metadata": {},
   "source": [
    "### Ejercicio 1.4 "
   ]
  },
  {
   "cell_type": "markdown",
   "id": "3edc2e1b-5b56-422e-8d8b-496666b1c384",
   "metadata": {},
   "source": [
    "El poliformismo es muy útil cuando tenemos varias clases con métodos iguales y tenemos que ejecutarlos."
   ]
  },
  {
   "cell_type": "markdown",
   "id": "58c2f3aa-beae-4e8e-a55b-3032a693271e",
   "metadata": {},
   "source": [
    "Veremos un ejemplo donde tenemos varios animales y todos hacen un sonido en particular."
   ]
  },
  {
   "cell_type": "code",
   "execution_count": 14,
   "id": "5c3e0e40-3a00-4e87-b1f2-33099e982f36",
   "metadata": {},
   "outputs": [],
   "source": [
    "class Vaca(Animal):\n",
    "    def emitirSonido(self):\n",
    "        return \"¡Muu!\""
   ]
  },
  {
   "cell_type": "code",
   "execution_count": 15,
   "id": "09dd8ab4-425b-4e30-a16d-6415dd010516",
   "metadata": {},
   "outputs": [],
   "source": [
    "class Cerdo(Animal):\n",
    "    def emitirSonido(self):\n",
    "        return \"¡Oink!\""
   ]
  },
  {
   "cell_type": "code",
   "execution_count": 16,
   "id": "7a02c631-a628-4632-a470-cd105bb1e2ab",
   "metadata": {},
   "outputs": [],
   "source": [
    "class Oveja(Animal):\n",
    "    def emitirSonido(self):\n",
    "        return \"¡Beee!\""
   ]
  },
  {
   "cell_type": "code",
   "execution_count": 17,
   "id": "44d46cb0-691b-4cc1-b6fd-fd0dcd32a337",
   "metadata": {},
   "outputs": [],
   "source": [
    "class Gallo(Animal):\n",
    "    def emitirSonido(self):\n",
    "        return \"¡Qui qui ri qui qui ri!\""
   ]
  },
  {
   "cell_type": "code",
   "execution_count": 18,
   "id": "064fe860-4677-4e2c-973b-1e079250e318",
   "metadata": {},
   "outputs": [],
   "source": [
    "vaca = Vaca(\"Mamífero\", \"Bobino\", \"Granja\")\n",
    "cerdo = Cerdo(\"Mamífero\", \"Porcino\", \"Granja\")\n",
    "oveja = Oveja(\"Mamífero\", \"Equino\", \"Granja\")\n",
    "gallo = Gallo(\"Ave\", \"Pollo\", \"Granja\")"
   ]
  },
  {
   "cell_type": "markdown",
   "id": "64187514-9d97-4a9f-91f9-e3c4a1a1fe74",
   "metadata": {},
   "source": [
    "La forma clásica para ver el sonido que hace cada uno sería:"
   ]
  },
  {
   "cell_type": "code",
   "execution_count": 19,
   "id": "bf860808-853b-48d0-82da-3ebf951806a6",
   "metadata": {},
   "outputs": [
    {
     "data": {
      "text/plain": [
       "'¡Muu!'"
      ]
     },
     "execution_count": 19,
     "metadata": {},
     "output_type": "execute_result"
    }
   ],
   "source": [
    "vaca.emitirSonido()"
   ]
  },
  {
   "cell_type": "code",
   "execution_count": 20,
   "id": "da8136dc-c413-4bb8-acc2-87c665895418",
   "metadata": {},
   "outputs": [
    {
     "data": {
      "text/plain": [
       "'¡Oink!'"
      ]
     },
     "execution_count": 20,
     "metadata": {},
     "output_type": "execute_result"
    }
   ],
   "source": [
    "cerdo.emitirSonido()"
   ]
  },
  {
   "cell_type": "code",
   "execution_count": 21,
   "id": "4c2e4383-bc71-44af-9181-1be0f1900709",
   "metadata": {},
   "outputs": [
    {
     "data": {
      "text/plain": [
       "'¡Beee!'"
      ]
     },
     "execution_count": 21,
     "metadata": {},
     "output_type": "execute_result"
    }
   ],
   "source": [
    "oveja.emitirSonido()"
   ]
  },
  {
   "cell_type": "code",
   "execution_count": 22,
   "id": "11a784b6-2660-4818-a4e7-f65407692d92",
   "metadata": {},
   "outputs": [
    {
     "data": {
      "text/plain": [
       "'¡Qui qui ri qui qui ri!'"
      ]
     },
     "execution_count": 22,
     "metadata": {},
     "output_type": "execute_result"
    }
   ],
   "source": [
    "gallo.emitirSonido()"
   ]
  },
  {
   "cell_type": "markdown",
   "id": "88de2ada-d596-4df1-b978-046525358129",
   "metadata": {},
   "source": [
    "Pero podemos hacerlo de otra forma, la cual nos permita usar nuestras clases como parámetros que llame al método hacerSonido."
   ]
  },
  {
   "cell_type": "code",
   "execution_count": 23,
   "id": "f88408ec-c495-4d00-8dad-0bf199a8e09d",
   "metadata": {},
   "outputs": [],
   "source": [
    "# Función que interactúa con cualquier tipo de Animal\n",
    "def escucharSonido(animal):\n",
    "    print(animal.emitirSonido())"
   ]
  },
  {
   "cell_type": "code",
   "execution_count": 24,
   "id": "90617929-927e-4001-9438-d51eb6ad59da",
   "metadata": {},
   "outputs": [
    {
     "name": "stdout",
     "output_type": "stream",
     "text": [
      "¡Guau guau!\n"
     ]
    }
   ],
   "source": [
    "escucharSonido(perro)"
   ]
  },
  {
   "cell_type": "code",
   "execution_count": 25,
   "id": "e26d1020-f241-406a-a549-74276df9ee95",
   "metadata": {},
   "outputs": [
    {
     "name": "stdout",
     "output_type": "stream",
     "text": [
      "¡Muu!\n"
     ]
    }
   ],
   "source": [
    "escucharSonido(vaca)"
   ]
  },
  {
   "cell_type": "code",
   "execution_count": 26,
   "id": "81d1b2a1-546d-4dc4-8b01-e196d90dcc05",
   "metadata": {},
   "outputs": [
    {
     "name": "stdout",
     "output_type": "stream",
     "text": [
      "¡Oink!\n"
     ]
    }
   ],
   "source": [
    "escucharSonido(cerdo)"
   ]
  },
  {
   "cell_type": "code",
   "execution_count": 27,
   "id": "c9cb19e9-14b3-49ce-9a19-8cf5ba15ba35",
   "metadata": {},
   "outputs": [
    {
     "name": "stdout",
     "output_type": "stream",
     "text": [
      "¡Qui qui ri qui qui ri!\n"
     ]
    }
   ],
   "source": [
    "escucharSonido(gallo)"
   ]
  },
  {
   "cell_type": "code",
   "execution_count": null,
   "id": "128c0df0-416f-4657-b39c-1a75f0f3af77",
   "metadata": {},
   "outputs": [],
   "source": []
  }
 ],
 "metadata": {
  "kernelspec": {
   "display_name": "Python 3 (ipykernel)",
   "language": "python",
   "name": "python3"
  },
  "language_info": {
   "codemirror_mode": {
    "name": "ipython",
    "version": 3
   },
   "file_extension": ".py",
   "mimetype": "text/x-python",
   "name": "python",
   "nbconvert_exporter": "python",
   "pygments_lexer": "ipython3",
   "version": "3.11.7"
  }
 },
 "nbformat": 4,
 "nbformat_minor": 5
}
