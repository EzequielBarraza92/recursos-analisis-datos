{
 "cells": [
  {
   "cell_type": "markdown",
   "id": "c018663e-1e01-4961-8366-f13580180efc",
   "metadata": {},
   "source": [
    "# Estructuras de control"
   ]
  },
  {
   "cell_type": "markdown",
   "id": "492cbe6e-09be-4aa5-95d6-76f5ef4a30d4",
   "metadata": {},
   "source": [
    "Python nos ofrece ejecutar código en base a una condición, de forma permanente o indefinida hasta que se cumpla una condición preestablecida."
   ]
  },
  {
   "cell_type": "markdown",
   "id": "9847d1d5-f048-417a-a473-8e89dd5e811c",
   "metadata": {},
   "source": [
    "## While()"
   ]
  },
  {
   "cell_type": "markdown",
   "id": "599796df-b546-4a29-a9c0-1f0960463815",
   "metadata": {},
   "source": [
    "While() es una palabra clave en Python que se utiliza para crear bucles que se ejecutan mientras una condición sea verdadera."
   ]
  },
  {
   "cell_type": "markdown",
   "id": "4fdbda86-4631-408a-bf6d-d105c3d9e35c",
   "metadata": {},
   "source": [
    "- Mientra la condición especificada sea cierta el código dentro del bucle while() se ejecutará repetidamente.\n",
    "- Una vez que la condición se vuelva falsa la ejecución del bucle se detendrá y el control del programa continuará después del bucle."
   ]
  },
  {
   "cell_type": "markdown",
   "id": "1cf2b7e4-eeac-4089-9a18-7fedb0af4226",
   "metadata": {},
   "source": [
    "### Ejercicio 1.0"
   ]
  },
  {
   "cell_type": "markdown",
   "id": "2c22ef49-1a3e-41b7-94d5-ce68d4277e71",
   "metadata": {},
   "source": [
    "Así funcionan los ciclos while() cuando su ejecución es indefinida."
   ]
  },
  {
   "cell_type": "markdown",
   "id": "d5f84aae-23b6-4295-818d-21a68f522817",
   "metadata": {},
   "source": [
    "#### ¡CUIDADO! NO EJECUTAR POR MUCHOS SEGUNDOS YA QUE PUEDE CONSUMIR TODA LA MEMORIA DISPONIBLE AL QUEDARSE IMPRIMIENDO VALORES POR SIEMPRE "
   ]
  },
  {
   "cell_type": "markdown",
   "id": "05d585d8-918e-4921-bf42-1c0add540978",
   "metadata": {},
   "source": [
    "while True:\n",
    "    \n",
    "    print(\"Codigo en ejecución\") "
   ]
  },
  {
   "cell_type": "markdown",
   "id": "636e1ea8-023c-4fcb-a605-35b0f0d6a17c",
   "metadata": {},
   "source": [
    "### Ejercicio 1.1"
   ]
  },
  {
   "cell_type": "markdown",
   "id": "c917b684-0b0c-4306-a058-332207ae4c61",
   "metadata": {},
   "source": [
    "El ciclo while(), al quedar con un valor True se va a ejecutar permanentemente. Esto quiere decir que mediante una lógica debemos controlar cuando queremos que pare."
   ]
  },
  {
   "cell_type": "markdown",
   "id": "0d7e7580-4872-4eee-bbf7-e03ea4a1274a",
   "metadata": {},
   "source": [
    "En este ejemplo, una vez que ingresemos nuestra contraseña, el ciclo while() se detendrá. Caso contrario nos seguirá pidiendo hasta que la ingresemos bien."
   ]
  },
  {
   "cell_type": "code",
   "execution_count": 1,
   "id": "6ee60100-6a10-447e-bcd1-99a43b639ebf",
   "metadata": {},
   "outputs": [
    {
     "name": "stdin",
     "output_type": "stream",
     "text": [
      "Ingrese su contraseña:  2jsah2\n"
     ]
    },
    {
     "name": "stdout",
     "output_type": "stream",
     "text": [
      "La contraseña  2jsah2  es incorrecta. Reintente por favor\n"
     ]
    },
    {
     "name": "stdin",
     "output_type": "stream",
     "text": [
      "Ingrese su contraseña nuevamente:  as20cs\n"
     ]
    },
    {
     "name": "stdout",
     "output_type": "stream",
     "text": [
      "La contraseña  as20cs  es incorrecta. Reintente por favor\n"
     ]
    },
    {
     "name": "stdin",
     "output_type": "stream",
     "text": [
      "Ingrese su contraseña nuevamente:  ab90s2\n"
     ]
    }
   ],
   "source": [
    "password_usuario = \"ab90s2\"\n",
    "password_ingresada = input(\"Ingrese su contraseña: \")\n",
    "\n",
    "while (password_usuario != password_ingresada): \n",
    "    print(\"La contraseña \", password_ingresada, \" es incorrecta. Reintente por favor\")\n",
    "    password_ingresada = input(\"Ingrese su contraseña nuevamente: \")"
   ]
  },
  {
   "cell_type": "markdown",
   "id": "36819d92-a11f-4354-a218-bfeaaa5fd1c3",
   "metadata": {},
   "source": [
    "### Ejercicio 1.2 "
   ]
  },
  {
   "cell_type": "markdown",
   "id": "872e43b7-9692-4eb5-9d3c-d80fa7280571",
   "metadata": {},
   "source": [
    "Ya vimos como detener nuestro ciclo while() de forma manual. Podemos hacer algo similar con números de forma automática, incrementando el valor y al llegar al deseado se detenga."
   ]
  },
  {
   "cell_type": "code",
   "execution_count": 3,
   "id": "577462bf-b91d-4eed-9183-b050453aaf15",
   "metadata": {},
   "outputs": [
    {
     "name": "stdout",
     "output_type": "stream",
     "text": [
      "1\n",
      "2\n",
      "3\n",
      "4\n",
      "5\n",
      "6\n",
      "7\n",
      "8\n",
      "9\n"
     ]
    }
   ],
   "source": [
    "numero_ciclo_while = 1\n",
    "while numero_ciclo_while < 10:\n",
    "    print(numero_ciclo_while)\n",
    "    numero_ciclo_while += 1 #Recordemos que con += 1 sumamos 1 al valor previo de nuestra variable y la reescribimos "
   ]
  },
  {
   "cell_type": "markdown",
   "id": "c66825cb-85aa-4abe-9194-39d939efeba3",
   "metadata": {},
   "source": [
    "## While() with else"
   ]
  },
  {
   "cell_type": "markdown",
   "id": "9bd79ec4-a1fd-4432-8f1d-199353ec29fa",
   "metadata": {},
   "source": [
    "Con while() también podemos utilizar la palabra reservada else para definir qué hacer una vez que nuestro ciclo while() deje de ejecutarse. "
   ]
  },
  {
   "cell_type": "markdown",
   "id": "e0808d47-6615-4a72-bbb1-4cec3db2ea70",
   "metadata": {},
   "source": [
    "### Ejercicio 1.3"
   ]
  },
  {
   "cell_type": "markdown",
   "id": "b73c8ff7-c1bd-4da2-ba5c-4efaf0d0a9dd",
   "metadata": {},
   "source": [
    "Vamos a crear un ciclo while() que pida el nombre de usuario y una vez que el nombre sea el adecuado nos de a bienvenida."
   ]
  },
  {
   "cell_type": "code",
   "execution_count": 6,
   "id": "8181e795-1123-4466-954a-1e8010c4085f",
   "metadata": {},
   "outputs": [
    {
     "name": "stdin",
     "output_type": "stream",
     "text": [
      "Ingrese su nombre:  carlos\n"
     ]
    },
    {
     "name": "stdout",
     "output_type": "stream",
     "text": [
      "El usuario  carlos  es incorrecto. Reintente por favor\n"
     ]
    },
    {
     "name": "stdin",
     "output_type": "stream",
     "text": [
      "Ingrese su nombre nuevamente:  ANDRES\n"
     ]
    },
    {
     "name": "stdout",
     "output_type": "stream",
     "text": [
      "El usuario  ANDRES  es incorrecto. Reintente por favor\n"
     ]
    },
    {
     "name": "stdin",
     "output_type": "stream",
     "text": [
      "Ingrese su nombre nuevamente:  andres\n"
     ]
    },
    {
     "name": "stdout",
     "output_type": "stream",
     "text": [
      "Bienvenido  andres\n"
     ]
    }
   ],
   "source": [
    "nombre_usuario = \"andres\"\n",
    "nombre_ingresado = input(\"Ingrese su nombre: \")\n",
    "\n",
    "while (nombre_usuario != nombre_ingresado):\n",
    "    print(\"El usuario \", nombre_ingresado, \" es incorrecto. Reintente por favor\")\n",
    "    nombre_ingresado = input(\"Ingrese su nombre nuevamente: \")\n",
    "else:\n",
    "    print(\"Bienvenido \", nombre_ingresado)"
   ]
  },
  {
   "cell_type": "markdown",
   "id": "5d950f0d-014e-4b03-be36-755290dfd961",
   "metadata": {},
   "source": [
    "## While() with break"
   ]
  },
  {
   "cell_type": "markdown",
   "id": "54757a23-e8c1-4e38-82ed-9da38a7e3b4d",
   "metadata": {},
   "source": [
    "break puede usarse para salir prematuramente de un bucle basado en una condición específica."
   ]
  },
  {
   "cell_type": "markdown",
   "id": "812326c8-c3b2-405b-832a-f031f52e7c8d",
   "metadata": {},
   "source": [
    "### Ejercicio 1.4"
   ]
  },
  {
   "cell_type": "markdown",
   "id": "ecff8091-526c-4b9d-9f10-195b0cb419ef",
   "metadata": {},
   "source": [
    "En este caso utilizaremos un if para \"disparar\" nuestro break.\n",
    "\n",
    "Nuestro ciclo while() se va a ejecutar siempre que nuestro numero_entero sea menor que 10.\n",
    "\n",
    "Pero si por alguna razón nuestro numero_entero es 5 queremos que se detenga de inmediato."
   ]
  },
  {
   "cell_type": "code",
   "execution_count": 8,
   "id": "7be934f1-7df1-4f14-90e3-03de4673fd1e",
   "metadata": {},
   "outputs": [
    {
     "name": "stdout",
     "output_type": "stream",
     "text": [
      "El número entero es:  0\n",
      "El número entero es:  1\n",
      "El número entero es:  2\n",
      "El número entero es:  3\n",
      "El número entero es:  4\n",
      "¡El número entero llegó a 5. Bucle terminado!\n"
     ]
    }
   ],
   "source": [
    "numero_entero = 0 \n",
    "\n",
    "while numero_entero < 10: #while se ejecuta mientras que el numero_entero sea menor a 10\n",
    "    print(\"El número entero es: \", numero_entero)\n",
    "    numero_entero += 1\n",
    "    if numero_entero == 5: #if contador llega a 5, ejecutamos un print() y disparamos el break\n",
    "        print(\"¡El número entero llegó a 5. Bucle terminado!\")\n",
    "        break #palabra reservada break"
   ]
  },
  {
   "cell_type": "markdown",
   "id": "e7ffa09f-5abe-47c4-a45a-24f683374ce4",
   "metadata": {},
   "source": [
    "## While() with continue"
   ]
  },
  {
   "cell_type": "markdown",
   "id": "4f27e8a2-6459-46e0-8c06-f75d8dfcbdd2",
   "metadata": {},
   "source": [
    "Así como el break termina nuestro ciclo de forma inmediata, continue hace que salte a la siguiente iteración del ciclo de forma inmediata."
   ]
  },
  {
   "cell_type": "markdown",
   "id": "aef6ae0f-fd71-4808-af69-e99494a6c846",
   "metadata": {},
   "source": [
    "### Ejercicio 1.5"
   ]
  },
  {
   "cell_type": "markdown",
   "id": "8ea3c335-9a0c-402d-bd19-303f2d70fa10",
   "metadata": {},
   "source": [
    "Ahora en nuestro ciclo while() cuando numero_entero sea igua a 5 no se va a imprimir y saltará a la siguiente iteración. "
   ]
  },
  {
   "cell_type": "code",
   "execution_count": 9,
   "id": "dc106e1b-6f81-4d00-8f2a-eed14e2d2028",
   "metadata": {},
   "outputs": [
    {
     "name": "stdout",
     "output_type": "stream",
     "text": [
      "Número:  1\n",
      "Número:  2\n",
      "Número:  3\n",
      "Número:  4\n",
      "Número:  6\n",
      "Número:  7\n",
      "Número:  8\n",
      "Número:  9\n",
      "Número:  10\n"
     ]
    }
   ],
   "source": [
    "numero_entero = 0\n",
    "\n",
    "while numero_entero < 10: #while se ejecuta mienras que el numero_entero sea menor a 10\n",
    "    numero_entero += 1\n",
    "    if numero_entero == 5: #if contador llega a 5 disparamos el continue y NO ejecutamos un print()\n",
    "        continue # continue salta al siguiente ciclo\n",
    "    print(\"Número: \", numero_entero)"
   ]
  },
  {
   "cell_type": "markdown",
   "id": "ef2500a5-61c0-4204-8b2c-6e8047bee362",
   "metadata": {},
   "source": [
    "## for()"
   ]
  },
  {
   "cell_type": "markdown",
   "id": "687560b2-2a61-4b56-9095-6fd9b2912044",
   "metadata": {},
   "source": [
    "Los ciclos for() se utilizan para iterar sobre secuencias de elementos."
   ]
  },
  {
   "cell_type": "markdown",
   "id": "fd4bfa8d-2465-44e8-8253-3ed0056701c1",
   "metadata": {},
   "source": [
    "### Ejercicio 1.6"
   ]
  },
  {
   "cell_type": "markdown",
   "id": "85a1b6bc-b20a-4f09-b6a4-98a30617bb20",
   "metadata": {},
   "source": [
    "En este ejemplo recorreremos cda una de las letras de un texto, y además iremos contando el número de letra y mostrando qué caracter es el 1, 2, 3, etc..."
   ]
  },
  {
   "cell_type": "code",
   "execution_count": 10,
   "id": "b0cdd3b6-297e-43c7-b281-9c6f0ad277e2",
   "metadata": {},
   "outputs": [
    {
     "name": "stdout",
     "output_type": "stream",
     "text": [
      "La letra 1 es E \n",
      "La letra 2 es s \n",
      "La letra 3 es t \n",
      "La letra 4 es e \n",
      "La letra 5 es   \n",
      "La letra 6 es e \n",
      "La letra 7 es s \n",
      "La letra 8 es   \n",
      "La letra 9 es u \n",
      "La letra 10 es n \n",
      "La letra 11 es   \n",
      "La letra 12 es m \n",
      "La letra 13 es e \n",
      "La letra 14 es n \n",
      "La letra 15 es s \n",
      "La letra 16 es a \n",
      "La letra 17 es j \n",
      "La letra 18 es e \n",
      "La letra 19 es   \n",
      "La letra 20 es d \n",
      "La letra 21 es e \n",
      "La letra 22 es   \n",
      "La letra 23 es P \n",
      "La letra 24 es y \n",
      "La letra 25 es t \n",
      "La letra 26 es h \n",
      "La letra 27 es o \n",
      "La letra 28 es n \n",
      "La letra 29 es   \n",
      "La letra 30 es q \n",
      "La letra 31 es u \n",
      "La letra 32 es e \n",
      "La letra 33 es   \n",
      "La letra 34 es c \n",
      "La letra 35 es o \n",
      "La letra 36 es n \n",
      "La letra 37 es t \n",
      "La letra 38 es i \n",
      "La letra 39 es e \n",
      "La letra 40 es n \n",
      "La letra 41 es e \n",
      "La letra 42 es   \n",
      "La letra 43 es 5 \n",
      "La letra 44 es 5 \n",
      "La letra 45 es   \n",
      "La letra 46 es c \n",
      "La letra 47 es a \n",
      "La letra 48 es r \n",
      "La letra 49 es a \n",
      "La letra 50 es c \n",
      "La letra 51 es t \n",
      "La letra 52 es e \n",
      "La letra 53 es r \n",
      "La letra 54 es e \n",
      "La letra 55 es s \n"
     ]
    }
   ],
   "source": [
    "texto = \"Este es un mensaje de Python que contiene 55 caracteres\"\n",
    "numero_letra = 1\n",
    "\n",
    "for letra in texto:\n",
    "    mensaje = \"La letra {} es {} \".format(numero_letra, letra)\n",
    "    print(mensaje)\n",
    "    numero_letra += 1"
   ]
  },
  {
   "cell_type": "markdown",
   "id": "f5e7f4e2-bbdf-4f87-8075-875db110b4cf",
   "metadata": {},
   "source": [
    "## For in range()"
   ]
  },
  {
   "cell_type": "markdown",
   "id": "a546938b-33fd-4b5a-99d5-6b6dee57c63e",
   "metadata": {},
   "source": [
    "El bucle for in range() es una forma conveniente de iterar sobre una secuencia de números en un rango específico. Nos permite ir pasando de un valor a otro."
   ]
  },
  {
   "cell_type": "markdown",
   "id": "43959ebd-c363-4fe0-885c-274edd4d1078",
   "metadata": {},
   "source": [
    "### Ejercicio 1.7"
   ]
  },
  {
   "cell_type": "markdown",
   "id": "6cac2a0a-a21b-4376-a2f4-66a193a85d68",
   "metadata": {},
   "source": [
    "Vamos a crear un ciclo for in range que muestre todos los valores del 10 al 20"
   ]
  },
  {
   "cell_type": "markdown",
   "id": "2c60fa9f-4ed2-4240-a03e-b5c8b6405a0f",
   "metadata": {},
   "source": [
    "#### ¡ATENCIÓN! VEMOS QUE EL VALOR FINAL ES NO INCLUSIVO"
   ]
  },
  {
   "cell_type": "code",
   "execution_count": 11,
   "id": "c1634bd2-0f6b-4a81-9ca0-a6b2e39520cb",
   "metadata": {},
   "outputs": [
    {
     "name": "stdout",
     "output_type": "stream",
     "text": [
      "10\n",
      "11\n",
      "12\n",
      "13\n",
      "14\n",
      "15\n",
      "16\n",
      "17\n",
      "18\n",
      "19\n"
     ]
    }
   ],
   "source": [
    "for numero in range(10, 20):\n",
    "    print(numero)"
   ]
  },
  {
   "cell_type": "markdown",
   "id": "380618b5-df6f-42b3-a6da-98fc8e87ddbf",
   "metadata": {},
   "source": [
    "### Ejercicio 1.8"
   ]
  },
  {
   "cell_type": "markdown",
   "id": "33eb5977-841c-475e-b99f-8c59f64481f7",
   "metadata": {},
   "source": [
    "Una ventaja de los ciclos for es que podemos indicarle cada cuanto queremos que sean estos \"saltos\".\n",
    "\n",
    "Crearemos un código que muestre los primeros 6 números pares (sin incluir el cero)"
   ]
  },
  {
   "cell_type": "code",
   "execution_count": 12,
   "id": "b3c0e6b4-ce44-4516-923a-c7b9d5d5b60a",
   "metadata": {},
   "outputs": [
    {
     "name": "stdout",
     "output_type": "stream",
     "text": [
      "2\n",
      "4\n",
      "6\n",
      "8\n",
      "10\n",
      "12\n"
     ]
    }
   ],
   "source": [
    "for valores_pares in range(2, 14, 2):\n",
    "    print(valores_pares)"
   ]
  },
  {
   "cell_type": "markdown",
   "id": "5af84f96-0728-4066-8414-7dfa925881a4",
   "metadata": {},
   "source": [
    "### Ejercicio 1.9"
   ]
  },
  {
   "cell_type": "markdown",
   "id": "75bf8b57-c6e2-4df2-ba38-14eed7c410dc",
   "metadata": {},
   "source": [
    "Otra opción es recorrer hacia atrás.\n",
    "\n",
    "Recorramos los números desde -5 hasta -15"
   ]
  },
  {
   "cell_type": "code",
   "execution_count": 14,
   "id": "925c95ff-b40a-43fe-8e09-1e494edabf1c",
   "metadata": {},
   "outputs": [
    {
     "name": "stdout",
     "output_type": "stream",
     "text": [
      "-5\n",
      "-6\n",
      "-7\n",
      "-8\n",
      "-9\n",
      "-10\n",
      "-11\n",
      "-12\n",
      "-13\n",
      "-14\n",
      "-15\n"
     ]
    }
   ],
   "source": [
    "for numeros_negativos in range(-5, -16, -1):\n",
    "    print(numeros_negativos)"
   ]
  },
  {
   "cell_type": "markdown",
   "id": "e1abf766-ea50-4ff7-a6c8-c215511d7605",
   "metadata": {},
   "source": [
    "## Colecciones de datos"
   ]
  },
  {
   "cell_type": "markdown",
   "id": "cef73ecf-0035-44d8-962e-838c5b188814",
   "metadata": {},
   "source": [
    "En Python, además de los tipos de datos \"normales\" que ya vimos, existe las llamadas colecciones de datos. Estas son estructuras que contienen varios datos. Hay diferentes formas y son muy útiles."
   ]
  },
  {
   "cell_type": "markdown",
   "id": "f6b3002d-f51d-401e-8c72-65d1602235fa",
   "metadata": {},
   "source": [
    "### list[]"
   ]
  },
  {
   "cell_type": "markdown",
   "id": "6ae8cdfc-c649-4b58-ac8e-58c69aeed33a",
   "metadata": {},
   "source": [
    "Las listas se definen con [] y los valores se separan por una ,"
   ]
  },
  {
   "cell_type": "markdown",
   "id": "f96e2c56-3374-4dd8-9fa9-2d142c6cae6a",
   "metadata": {},
   "source": [
    "### Ejercicio 2.0"
   ]
  },
  {
   "cell_type": "markdown",
   "id": "30dae7b5-75af-4997-9a4f-78c1e9734992",
   "metadata": {},
   "source": [
    "Se va a crear diferentes listas. Algunas con string adentro, otras con int o mezclados."
   ]
  },
  {
   "cell_type": "code",
   "execution_count": 15,
   "id": "1b2580b1-ed34-4cfd-a3f4-ab3da329c26d",
   "metadata": {},
   "outputs": [],
   "source": [
    "lista_nombres = [\"andrés\", \"maria\", \"fernando\"]\n",
    "lista_numerica = [15, 6, 8.9, -5.5]\n",
    "lista_mezclada = [\"azul\", 1, False, \"programar\", 8.8]"
   ]
  },
  {
   "cell_type": "markdown",
   "id": "14da637e-e412-4963-a6e1-ca0c0dc94be8",
   "metadata": {},
   "source": [
    "### Ejercicio 2.1 "
   ]
  },
  {
   "cell_type": "markdown",
   "id": "5a713546-9cfd-42a7-b283-434806170472",
   "metadata": {},
   "source": [
    "Un aspecto muy importante es que si queremos acceder a un valor de una lista podemos hacer, mediante su número de índice, es decir, la posición que toma su valor.\n",
    "\n",
    "#### El primer elemento de una lsita tiene un índice 0\n",
    "\n",
    "Por ejemplo"
   ]
  },
  {
   "cell_type": "code",
   "execution_count": 17,
   "id": "341e4aab-7dfe-4be0-9f45-5ae3245b8f1c",
   "metadata": {},
   "outputs": [
    {
     "name": "stdout",
     "output_type": "stream",
     "text": [
      "El 1er apellido de la lista tiene índice 0 y es:  perez\n",
      "El 3er apellido de la lista tiene índice 2 y es:  muñoz\n"
     ]
    }
   ],
   "source": [
    "lista_apellidos = [\"perez\", \"garcia\", \"muñoz\", \"ruiz\"]\n",
    "\n",
    "print(\"El 1er apellido de la lista tiene índice 0 y es: \", lista_apellidos[0])\n",
    "print(\"El 3er apellido de la lista tiene índice 2 y es: \", lista_apellidos[2])"
   ]
  },
  {
   "cell_type": "markdown",
   "id": "79257706-b807-4b64-acb2-5b7ec3286b1d",
   "metadata": {},
   "source": [
    "## Acciones con listas"
   ]
  },
  {
   "cell_type": "markdown",
   "id": "c4dc3b33-0e06-4eac-a06f-db5acde5d237",
   "metadata": {},
   "source": [
    "Con las listas podemos utilizar las siguientes acciones:\n",
    "- Append: Agrega un elemento al final de la lista, append()\n",
    "- Extend: Añade una lista a una lista preexistente, extend()\n",
    "- Insert: Agrega un elemento en el índice determinado, insert()\n",
    "- Pop: Elimina un elemento al final de la lista o en un índice específico, pop()\n",
    "- Remove: Elimina un elemento si consigue el elemento específico, remove()\n",
    "- Sort: Ordena la lista de menor a mayor, sort()\n",
    "- Reverse: Invierte el orden de la lista, reverse()"
   ]
  },
  {
   "cell_type": "markdown",
   "id": "acc79904-68f2-48f0-a5c6-0bec3e0d553f",
   "metadata": {},
   "source": [
    "### Ejercicio 2.2"
   ]
  },
  {
   "cell_type": "markdown",
   "id": "bdd6e1b0-c535-4f0b-8001-40d061aca39f",
   "metadata": {},
   "source": [
    "Vamos a crear 3 listas:\n",
    "- Una con 5 valores numéricos\n",
    "- Una con 3 frutas\n",
    "- Una con los datos personales: nombre, edad, condicion_booleana_es_profesor, lenguaje_de_programacion\n",
    "\n",
    "Y utilicemos las siguientes acciones para listas con ejemplos:\n",
    "- append\n",
    "- extend\n",
    "- insert\n",
    "- pop\n",
    "- remove\n",
    "- sort\n",
    "- reverse"
   ]
  },
  {
   "cell_type": "code",
   "execution_count": 18,
   "id": "5cfa53a4-ef72-4dd3-8321-cc08a0b5daad",
   "metadata": {},
   "outputs": [],
   "source": [
    "lista_valores_numericos = [5, 15, 62, -22, -77]\n",
    "lista_frutas = [\"banana\", \"pera\", \"mango\"]\n",
    "lista_datos_personales = [\"andres\", 25, True, \"Python\"]"
   ]
  },
  {
   "cell_type": "code",
   "execution_count": 19,
   "id": "41728478-f35f-4dfa-a451-3674e68ddf98",
   "metadata": {},
   "outputs": [
    {
     "data": {
      "text/plain": [
       "list"
      ]
     },
     "execution_count": 19,
     "metadata": {},
     "output_type": "execute_result"
    }
   ],
   "source": [
    "type(lista_datos_personales)"
   ]
  },
  {
   "cell_type": "code",
   "execution_count": 20,
   "id": "4867734a-909a-431f-9735-2623820f44eb",
   "metadata": {},
   "outputs": [
    {
     "data": {
      "text/plain": [
       "[5, 15, 62, -22, -77, 100]"
      ]
     },
     "execution_count": 20,
     "metadata": {},
     "output_type": "execute_result"
    }
   ],
   "source": [
    "#Agregar un valor al final de la lista utilizando append\n",
    "lista_valores_numericos.append(100)\n",
    "lista_valores_numericos"
   ]
  },
  {
   "cell_type": "code",
   "execution_count": 22,
   "id": "635928a6-a112-4613-b6b0-3bce8b43af23",
   "metadata": {},
   "outputs": [
    {
     "data": {
      "text/plain": [
       "['banana', 'pera', 'mango', 'manzana', 'uva']"
      ]
     },
     "execution_count": 22,
     "metadata": {},
     "output_type": "execute_result"
    }
   ],
   "source": [
    "#Extender la lisa de frutas con otra lista\n",
    "lista_frutas.extend([\"manzana\", \"uva\"])\n",
    "lista_frutas"
   ]
  },
  {
   "cell_type": "code",
   "execution_count": 23,
   "id": "34cb7986-31c7-47a6-b910-fce5f808fc5d",
   "metadata": {},
   "outputs": [
    {
     "data": {
      "text/plain": [
       "['banana', 'pera', 'kiwi', 'mango', 'manzana', 'uva']"
      ]
     },
     "execution_count": 23,
     "metadata": {},
     "output_type": "execute_result"
    }
   ],
   "source": [
    "#Insertar un elemento en una posición específica \n",
    "lista_frutas.insert(2, \"kiwi\")\n",
    "lista_frutas"
   ]
  },
  {
   "cell_type": "code",
   "execution_count": 24,
   "id": "6df1b68d-940a-400b-a8e4-7b0908371cc4",
   "metadata": {},
   "outputs": [
    {
     "name": "stdout",
     "output_type": "stream",
     "text": [
      "El último dato era:  Python\n",
      "La lista quedó:  ['andres', 25, True]\n"
     ]
    }
   ],
   "source": [
    "#Eliminar y devolver el último elemento de la lista de datos personales\n",
    "ultimo_dato = lista_datos_personales.pop()\n",
    "print(\"El último dato era: \", ultimo_dato)\n",
    "print(\"La lista quedó: \", lista_datos_personales)"
   ]
  },
  {
   "cell_type": "code",
   "execution_count": 25,
   "id": "940a4d2d-8e35-4ba6-9af7-e5a85015a8fc",
   "metadata": {},
   "outputs": [
    {
     "data": {
      "text/plain": [
       "['banana', 'kiwi', 'mango', 'manzana', 'uva']"
      ]
     },
     "execution_count": 25,
     "metadata": {},
     "output_type": "execute_result"
    }
   ],
   "source": [
    "#Eliminar la primera ocurrencia de un elemento\n",
    "lista_frutas.remove(\"pera\")\n",
    "lista_frutas"
   ]
  },
  {
   "cell_type": "code",
   "execution_count": 26,
   "id": "923313e2-8b6c-438d-9bf8-2cf4351537b4",
   "metadata": {},
   "outputs": [
    {
     "data": {
      "text/plain": [
       "[-77, -22, 5, 15, 62, 100]"
      ]
     },
     "execution_count": 26,
     "metadata": {},
     "output_type": "execute_result"
    }
   ],
   "source": [
    "#Ordenar la lista de valores numéricos de forma ascendente\n",
    "lista_valores_numericos.sort()\n",
    "lista_valores_numericos"
   ]
  },
  {
   "cell_type": "code",
   "execution_count": 27,
   "id": "e71beae6-28d9-4508-bd8b-0a004c8d0781",
   "metadata": {},
   "outputs": [
    {
     "data": {
      "text/plain": [
       "['uva', 'manzana', 'mango', 'kiwi', 'banana']"
      ]
     },
     "execution_count": 27,
     "metadata": {},
     "output_type": "execute_result"
    }
   ],
   "source": [
    "#Revertir el orden de lista de frutas\n",
    "lista_frutas.reverse()\n",
    "lista_frutas"
   ]
  },
  {
   "cell_type": "markdown",
   "id": "e8be0880-b23e-4956-a3b2-c810dfd08001",
   "metadata": {},
   "source": [
    "## len()"
   ]
  },
  {
   "cell_type": "markdown",
   "id": "9cb882bb-c27e-419c-9d8f-92e4e7f1d410",
   "metadata": {},
   "source": [
    "Len() es una función muy útil. Nos devuelve el tamaño y la cantidad de valores en esta."
   ]
  },
  {
   "cell_type": "code",
   "execution_count": 28,
   "id": "4e39821e-25b5-47b3-b36e-f444cf8a28f3",
   "metadata": {},
   "outputs": [
    {
     "data": {
      "text/plain": [
       "5"
      ]
     },
     "execution_count": 28,
     "metadata": {},
     "output_type": "execute_result"
    }
   ],
   "source": [
    "lista_5_valores = [\"Primer Valor\", 2, True, \"4to Valor\", 5.0]\n",
    "\n",
    "len(lista_5_valores)"
   ]
  },
  {
   "cell_type": "markdown",
   "id": "9df48866-b4b9-4e48-9dc5-9de4ee86b9c9",
   "metadata": {},
   "source": [
    "## tuple()"
   ]
  },
  {
   "cell_type": "markdown",
   "id": "07c47c9e-831a-4442-b24d-34fd8735c2bf",
   "metadata": {},
   "source": [
    "Las listas se definen con () y los valores se separan por , \n",
    "\n",
    "Las tuplas son muy parecidas a las listas, pero con una gran diferencia: \n",
    "#### son inmutables, es decir, no pueden ser alteradas después de su creación.\n",
    "\n",
    "Una característica de las tuplas es que permiten valores duplicados."
   ]
  },
  {
   "cell_type": "markdown",
   "id": "923eca3c-fd5f-4a26-b5de-56a0dbc709fa",
   "metadata": {},
   "source": [
    "### Ejercicio 2.3"
   ]
  },
  {
   "cell_type": "markdown",
   "id": "74586d2e-2714-45a5-ae6f-5ab05245c748",
   "metadata": {},
   "source": [
    "En este ejemplo de tupla vamos a poner 4 vehículos y veremos que usando el índice podemos acceder a cada uno de los valores."
   ]
  },
  {
   "cell_type": "code",
   "execution_count": 2,
   "id": "46647428-2a30-4cbf-b12b-9cc95c4e0d2c",
   "metadata": {},
   "outputs": [
    {
     "name": "stdout",
     "output_type": "stream",
     "text": [
      "El 1er vehículo de la lista tiene índice 0 y es:  auto\n",
      "El 4to vehículo de la lista tiene índice 3 y es:  bicicleta\n"
     ]
    }
   ],
   "source": [
    "tupla_vehiculos = (\"auto\", \"moto\", \"camión\", \"bicicleta\")\n",
    "\n",
    "print(\"El 1er vehículo de la lista tiene índice 0 y es: \", tupla_vehiculos[0])\n",
    "print(\"El 4to vehículo de la lista tiene índice 3 y es: \", tupla_vehiculos[3])"
   ]
  },
  {
   "cell_type": "code",
   "execution_count": 3,
   "id": "8be0a140-4046-42b5-8f97-9bdbf7b76226",
   "metadata": {},
   "outputs": [
    {
     "data": {
      "text/plain": [
       "tuple"
      ]
     },
     "execution_count": 3,
     "metadata": {},
     "output_type": "execute_result"
    }
   ],
   "source": [
    "type(tupla_vehiculos)"
   ]
  },
  {
   "cell_type": "markdown",
   "id": "c3ea6dde-96ce-4504-a64f-e2b7311ecc36",
   "metadata": {},
   "source": [
    "## Acciones con tuplas"
   ]
  },
  {
   "cell_type": "markdown",
   "id": "baf79104-2a59-4805-a020-4a814a98fb77",
   "metadata": {},
   "source": [
    "Con las tuplas podemos realizar las siguientes acciones:\n",
    "- Count: Identifica cuántas veces existe un elemento dentro de la tupla, count()\n",
    "- Index: Devuelve el índice del elemento determinado, index()"
   ]
  },
  {
   "cell_type": "markdown",
   "id": "c6156b5b-77f6-4b46-af0a-7ec8b0fdbd23",
   "metadata": {},
   "source": [
    "### Ejercicio 2.4"
   ]
  },
  {
   "cell_type": "markdown",
   "id": "d325ccbd-8ab0-429c-9bd7-319c838aa3b2",
   "metadata": {},
   "source": [
    "Crearemos una tupla con verduras y usaremos count e index."
   ]
  },
  {
   "cell_type": "code",
   "execution_count": 4,
   "id": "d5cfc67c-5cc6-47aa-a677-2d550ae7924e",
   "metadata": {},
   "outputs": [
    {
     "name": "stdout",
     "output_type": "stream",
     "text": [
      "El índice de 'calabaza' es:  2\n"
     ]
    }
   ],
   "source": [
    "tupla_verduras = (\"acelga\", \"papa\", \"calabaza\", \"cebolla\", \"papa\")\n",
    "\n",
    "# Encontrar el índice de \"calabaza\" en la tupla\n",
    "indice_calabaza = tupla_verduras.index(\"calabaza\")\n",
    "print(\"El índice de 'calabaza' es: \", indice_calabaza)"
   ]
  },
  {
   "cell_type": "code",
   "execution_count": 5,
   "id": "5f75b4ad-4509-4c8d-a09a-5ad94db290b6",
   "metadata": {},
   "outputs": [
    {
     "name": "stdout",
     "output_type": "stream",
     "text": [
      "El número de veces que 'papa' aparece es:  2\n"
     ]
    }
   ],
   "source": [
    "#Contar cuántas veces aparece papa en la tupla\n",
    "cantidad_papa = tupla_verduras.count(\"papa\")\n",
    "print(\"El número de veces que 'papa' aparece es: \", cantidad_papa)"
   ]
  },
  {
   "cell_type": "markdown",
   "id": "3ce816e2-2d2a-47e0-a171-a2283ef55e92",
   "metadata": {},
   "source": [
    "## Set"
   ]
  },
  {
   "cell_type": "markdown",
   "id": "17b41b33-38c5-489c-b900-6b4d79e64d26",
   "metadata": {},
   "source": [
    "Los set de datos son similares a las tuplas ya que no permiten reordenar los valores. Pero su principal diferencia es que no puede haber duplicados. En cambio, sí permiten quitar y poner elementos."
   ]
  },
  {
   "cell_type": "markdown",
   "id": "e173efb1-aa0e-492f-9174-179c20c7b27d",
   "metadata": {},
   "source": [
    "### Ejercicio 2.5"
   ]
  },
  {
   "cell_type": "markdown",
   "id": "bbd195aa-47c5-4440-b127-83a8eb8fcfc8",
   "metadata": {},
   "source": [
    "El principal uso que vamos a darle a set es cuando tengamos muchos valores repetidos en una lista y querramos tener un conjunto de datos con los valores únicos sin repetirse con el orden de aparición."
   ]
  },
  {
   "cell_type": "markdown",
   "id": "c217804f-7480-4f76-a0b2-5a9a36f7cc87",
   "metadata": {},
   "source": [
    "Crearemos una lista con valores numéricos entre los cuales tengamos números repetidos. Con set crearemos un \"set\" de números únicos."
   ]
  },
  {
   "cell_type": "code",
   "execution_count": 7,
   "id": "ace6b36e-7bef-4044-be27-0b5aa31c6ebb",
   "metadata": {},
   "outputs": [
    {
     "data": {
      "text/plain": [
       "(87,\n",
       " 31,\n",
       " 2,\n",
       " 2,\n",
       " 3,\n",
       " 3,\n",
       " 1,\n",
       " 5,\n",
       " 4,\n",
       " 3,\n",
       " 23,\n",
       " 12,\n",
       " 9,\n",
       " 8,\n",
       " 99,\n",
       " 11,\n",
       " 56,\n",
       " 26,\n",
       " 23,\n",
       " 71,\n",
       " 15,\n",
       " 124,\n",
       " 8,\n",
       " 1,\n",
       " 3,\n",
       " 1,\n",
       " 9,\n",
       " 49,\n",
       " 1,\n",
       " 5,\n",
       " 1)"
      ]
     },
     "execution_count": 7,
     "metadata": {},
     "output_type": "execute_result"
    }
   ],
   "source": [
    "lista_valores_repetidos = (87, 31, 2, 2, 3, 3, 1, 5, 4, 3, 23, 12, 9, 8, 99, 11, 56, 26, 23, 71, 15, 124, 8, 1, 3, 1, 9, 49, 1, 5, 1)\n",
    "lista_valores_repetidos"
   ]
  },
  {
   "cell_type": "code",
   "execution_count": 8,
   "id": "e758537c-64d3-4e4e-bf7c-fd26740c22fd",
   "metadata": {},
   "outputs": [
    {
     "name": "stdout",
     "output_type": "stream",
     "text": [
      "Elementos únicos:  {1, 2, 3, 4, 5, 8, 9, 11, 12, 15, 23, 26, 31, 49, 56, 71, 87, 99, 124}\n"
     ]
    }
   ],
   "source": [
    "conjunto_unicos = set(lista_valores_repetidos) #Con set convierto a mi lista a valores sin repetidos\n",
    "\n",
    "#Imprimir los elementos únicos\n",
    "print(\"Elementos únicos: \", conjunto_unicos)"
   ]
  },
  {
   "cell_type": "code",
   "execution_count": 9,
   "id": "752d5e23-106e-40a7-a67e-4efe2cb8c0a2",
   "metadata": {},
   "outputs": [
    {
     "data": {
      "text/plain": [
       "set"
      ]
     },
     "execution_count": 9,
     "metadata": {},
     "output_type": "execute_result"
    }
   ],
   "source": [
    "type(conjunto_unicos)"
   ]
  },
  {
   "cell_type": "markdown",
   "id": "9e8d5262-039e-4432-a498-41db06fa312c",
   "metadata": {},
   "source": [
    "## Dict()"
   ]
  },
  {
   "cell_type": "markdown",
   "id": "a2a07d3e-478c-4c59-998f-5b34a538b788",
   "metadata": {},
   "source": [
    "Los diccionarios se definen con {} y los elementos se separan por , Pero para separar la clave del valor usamos :\n",
    "Los diccionarios tienen la característica de guardar valores con un sistema de clave valor, es decir, vamos a almacenar información, pero esta va a tener una clave (como un nombre interno)"
   ]
  },
  {
   "cell_type": "markdown",
   "id": "32d7a6a9-67a3-42f2-abe3-cd33ecda95a2",
   "metadata": {},
   "source": [
    "### Ejercicio 2.6"
   ]
  },
  {
   "cell_type": "markdown",
   "id": "00fc3dc0-c387-4309-9348-8bf769096ef8",
   "metadata": {},
   "source": [
    "Crearemos un diccionario con información personal y veremos como acceder a un valor."
   ]
  },
  {
   "cell_type": "code",
   "execution_count": 10,
   "id": "4c854b9e-9455-45dc-81f6-d4ff04a3627a",
   "metadata": {},
   "outputs": [],
   "source": [
    "informacion_andres = {\n",
    "    \"nombre\": \"Andrés\",\n",
    "    \"apellido\": \"Muñoz\",\n",
    "    \"edad\": 25,\n",
    "    \"es_profesor\" : True,\n",
    "    \"es_alumno\" : False\n",
    "}"
   ]
  },
  {
   "cell_type": "code",
   "execution_count": 11,
   "id": "f2ee3ce7-f983-4fea-aeb2-7c1a93b2b094",
   "metadata": {},
   "outputs": [
    {
     "data": {
      "text/plain": [
       "{'nombre': 'Andrés',\n",
       " 'apellido': 'Muñoz',\n",
       " 'edad': 25,\n",
       " 'es_profesor': True,\n",
       " 'es_alumno': False}"
      ]
     },
     "execution_count": 11,
     "metadata": {},
     "output_type": "execute_result"
    }
   ],
   "source": [
    "informacion_andres"
   ]
  },
  {
   "cell_type": "code",
   "execution_count": 12,
   "id": "035b37ba-e75a-44c8-9e47-9e120141472d",
   "metadata": {},
   "outputs": [
    {
     "data": {
      "text/plain": [
       "dict"
      ]
     },
     "execution_count": 12,
     "metadata": {},
     "output_type": "execute_result"
    }
   ],
   "source": [
    "type(informacion_andres)"
   ]
  },
  {
   "cell_type": "markdown",
   "id": "a1c0d5eb-1d11-48f5-8900-71c00e41459d",
   "metadata": {},
   "source": [
    "### Acciones con diccionarios "
   ]
  },
  {
   "cell_type": "markdown",
   "id": "5696a0f2-9c75-47e4-a6d8-d7120aec7598",
   "metadata": {},
   "source": [
    "- Get: Devuelve un elemento a través de su key. Si no lo encuentra se le puede dar un valor por default, get()\n",
    "- Keys: Devuelve todas las keys de un diccionario, keys()\n",
    "- Values: Devuelve todos los values de un diccionario, values()\n",
    "- Items: Devuelve todos los pares de key/values de un diccionario, items()\n",
    "- Pop: Elimina un elemento del diccionario a partir de su key, pop()\n",
    "- Clear: Elimina todos los elementos del diccionario, clear()"
   ]
  },
  {
   "cell_type": "markdown",
   "id": "0cb1a6f5-a2f7-40bd-9b2d-cb756399d5ce",
   "metadata": {},
   "source": [
    "### Ejercicio 2.7"
   ]
  },
  {
   "cell_type": "markdown",
   "id": "58b9955e-f48f-45b1-ac1c-159fef2ba351",
   "metadata": {},
   "source": [
    "Con la lista creada anteriormente vamos a probar las diferentes acciones con diccionarios"
   ]
  },
  {
   "cell_type": "code",
   "execution_count": 13,
   "id": "86b4dab2-0daa-4635-9d37-7004a56518a6",
   "metadata": {},
   "outputs": [
    {
     "name": "stdout",
     "output_type": "stream",
     "text": [
      "Apellido:  Muñoz\n"
     ]
    }
   ],
   "source": [
    "#Ejemplo de uso de get()\n",
    "apellido_persona = informacion_andres.get(\"apellido\")\n",
    "print(\"Apellido: \", apellido_persona)"
   ]
  },
  {
   "cell_type": "code",
   "execution_count": 14,
   "id": "2ff17b83-6c78-436c-87d6-6e1117b16af5",
   "metadata": {},
   "outputs": [
    {
     "name": "stdout",
     "output_type": "stream",
     "text": [
      "Teléfono:  No disponible\n"
     ]
    }
   ],
   "source": [
    "#Ejemplo de uso de get() con valor por default\n",
    "telefono_persona = informacion_andres.get(\"teléfono\", \"No disponible\")\n",
    "print(\"Teléfono: \", telefono_persona)"
   ]
  },
  {
   "cell_type": "code",
   "execution_count": 19,
   "id": "d46f87f9-6cab-41b8-9052-70a91fcd9d4d",
   "metadata": {},
   "outputs": [
    {
     "name": "stdout",
     "output_type": "stream",
     "text": [
      "Keys:  dict_keys(['nombre', 'apellido', 'edad', 'es_profesor', 'es_alumno'])\n"
     ]
    }
   ],
   "source": [
    "#Ejemplo de uso de keys()\n",
    "keys_diccionario = informacion_andres.keys()\n",
    "print(\"Keys: \", keys_diccionario)"
   ]
  },
  {
   "cell_type": "code",
   "execution_count": 20,
   "id": "7b1828c5-305b-4e0f-ae95-f1e9edb53e2b",
   "metadata": {},
   "outputs": [
    {
     "name": "stdout",
     "output_type": "stream",
     "text": [
      "Values:  dict_values(['Andrés', 'Muñoz', 25, True, False])\n"
     ]
    }
   ],
   "source": [
    "#Ejemplo de uso de values()\n",
    "values_diccionario = informacion_andres.values() \n",
    "print(\"Values: \", values_diccionario)"
   ]
  },
  {
   "cell_type": "code",
   "execution_count": 21,
   "id": "78613ede-bd2f-4b04-8e8f-b6b6abb2e50f",
   "metadata": {},
   "outputs": [
    {
     "name": "stdout",
     "output_type": "stream",
     "text": [
      "Items:  dict_items([('nombre', 'Andrés'), ('apellido', 'Muñoz'), ('edad', 25), ('es_profesor', True), ('es_alumno', False)])\n"
     ]
    }
   ],
   "source": [
    "#Ejemplo de uso de items()\n",
    "items_diccionario = informacion_andres.items()\n",
    "print(\"Items: \", items_diccionario)"
   ]
  },
  {
   "cell_type": "code",
   "execution_count": 22,
   "id": "962f8e70-0ffa-4a6f-a3e9-d6995eb89a86",
   "metadata": {},
   "outputs": [
    {
     "name": "stdout",
     "output_type": "stream",
     "text": [
      "Edad:  25\n",
      "Diccionario después de pop:  {'nombre': 'Andrés', 'apellido': 'Muñoz', 'es_profesor': True, 'es_alumno': False}\n"
     ]
    }
   ],
   "source": [
    "#Atención por eliminar el valor relacionado con la key \"edad\"\n",
    "edad_persona = informacion_andres.pop(\"edad\")\n",
    "print(\"Edad: \", edad_persona)\n",
    "print(\"Diccionario después de pop: \", informacion_andres)"
   ]
  },
  {
   "cell_type": "code",
   "execution_count": 23,
   "id": "bb3ce990-357f-4619-9157-676fa489e25b",
   "metadata": {},
   "outputs": [
    {
     "name": "stdout",
     "output_type": "stream",
     "text": [
      "Diccionario después de clear:  {}\n"
     ]
    }
   ],
   "source": [
    "#Ejemplo de uso de clear()\n",
    "informacion_andres.clear()\n",
    "print(\"Diccionario después de clear: \", informacion_andres)"
   ]
  },
  {
   "cell_type": "code",
   "execution_count": null,
   "id": "e5c219a1-d0f1-43a2-a7ee-26eb3bcb1988",
   "metadata": {},
   "outputs": [],
   "source": []
  }
 ],
 "metadata": {
  "kernelspec": {
   "display_name": "Python 3 (ipykernel)",
   "language": "python",
   "name": "python3"
  },
  "language_info": {
   "codemirror_mode": {
    "name": "ipython",
    "version": 3
   },
   "file_extension": ".py",
   "mimetype": "text/x-python",
   "name": "python",
   "nbconvert_exporter": "python",
   "pygments_lexer": "ipython3",
   "version": "3.11.7"
  }
 },
 "nbformat": 4,
 "nbformat_minor": 5
}
