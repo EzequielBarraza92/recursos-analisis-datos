{
 "cells": [
  {
   "cell_type": "markdown",
   "metadata": {},
   "source": [
    "# Parte A"
   ]
  },
  {
   "cell_type": "markdown",
   "metadata": {},
   "source": [
    "### Ejercicio 1.0"
   ]
  },
  {
   "cell_type": "markdown",
   "metadata": {},
   "source": [
    "Importar los módulos necesarios"
   ]
  },
  {
   "cell_type": "code",
   "execution_count": 3,
   "metadata": {},
   "outputs": [],
   "source": [
    "import math\n",
    "import numpy as np"
   ]
  },
  {
   "cell_type": "markdown",
   "metadata": {},
   "source": [
    "### Ejercicio 1.1"
   ]
  },
  {
   "cell_type": "markdown",
   "metadata": {},
   "source": [
    "Calculemos el producto matricial, la matriz transpuesta y el determinante"
   ]
  },
  {
   "cell_type": "code",
   "execution_count": 3,
   "metadata": {},
   "outputs": [
    {
     "name": "stdout",
     "output_type": "stream",
     "text": [
      "Producto matricial: \n",
      "[[19 22]\n",
      " [43 50]]\n",
      "Transpuesta de la matriz:\n",
      "[[1 3]\n",
      " [2 4]]\n",
      "Determinante de la matriz: \n",
      "-2.0000000000000004\n"
     ]
    }
   ],
   "source": [
    "matriz1 = np.array([[1, 2], [3, 4]])\n",
    "matriz2 = np.array([[5, 6], [7,8]])\n",
    "\n",
    "producto_matricial = np.matmul(matriz1, matriz2)\n",
    "transpuesta = np.transpose(matriz1)\n",
    "determinante = np.linalg.det(matriz1)\n",
    "\n",
    "print(\"Producto matricial: \")\n",
    "print(producto_matricial)\n",
    "print(\"Transpuesta de la matriz:\")\n",
    "print(transpuesta)\n",
    "print(\"Determinante de la matriz: \")\n",
    "print(determinante)"
   ]
  },
  {
   "cell_type": "markdown",
   "metadata": {},
   "source": [
    "### Ejercicio 1.2"
   ]
  },
  {
   "cell_type": "markdown",
   "metadata": {},
   "source": [
    "NumPy tiene una función específica para resolver ecuaciones lineales"
   ]
  },
  {
   "cell_type": "code",
   "execution_count": 4,
   "metadata": {},
   "outputs": [
    {
     "name": "stdout",
     "output_type": "stream",
     "text": [
      "Solución del sistema de ecuaciones: \n",
      "x = 0.7857142857142857\n",
      "y= 1.1428571428571428\n"
     ]
    }
   ],
   "source": [
    "coeficientes = np.array([[2, 3], [4, -1]])\n",
    "constantes = np.array([5, 2])\n",
    "\n",
    "solucion = np.linalg.solve(coeficientes, constantes)\n",
    "print(\"Solución del sistema de ecuaciones: \")\n",
    "print(\"x =\", solucion[0])\n",
    "print(\"y=\", solucion[1])"
   ]
  },
  {
   "cell_type": "markdown",
   "metadata": {},
   "source": [
    "### Ejercicio 1.3"
   ]
  },
  {
   "cell_type": "markdown",
   "metadata": {},
   "source": [
    "Exploremos funciones para conocer las dimensiones de un array multidimensional"
   ]
  },
  {
   "cell_type": "code",
   "execution_count": 6,
   "metadata": {},
   "outputs": [],
   "source": [
    "array_multidimensional = np.array([[[0, 1, 2, 3] , [4, 5, 6, 7]],\n",
    "                                    [[0, 1, 2, 3],[4, 5, 6, 7]],\n",
    "                                        [[0, 1, 2, 3],[4, 5, 6, 7]]])\n"
   ]
  },
  {
   "cell_type": "code",
   "execution_count": 7,
   "metadata": {},
   "outputs": [
    {
     "data": {
      "text/plain": [
       "3"
      ]
     },
     "execution_count": 7,
     "metadata": {},
     "output_type": "execute_result"
    }
   ],
   "source": [
    "array_multidimensional.ndim"
   ]
  },
  {
   "cell_type": "code",
   "execution_count": 8,
   "metadata": {},
   "outputs": [
    {
     "data": {
      "text/plain": [
       "24"
      ]
     },
     "execution_count": 8,
     "metadata": {},
     "output_type": "execute_result"
    }
   ],
   "source": [
    "array_multidimensional.size"
   ]
  },
  {
   "cell_type": "code",
   "execution_count": 9,
   "metadata": {},
   "outputs": [
    {
     "data": {
      "text/plain": [
       "(3, 2, 4)"
      ]
     },
     "execution_count": 9,
     "metadata": {},
     "output_type": "execute_result"
    }
   ],
   "source": [
    "array_multidimensional.shape"
   ]
  },
  {
   "cell_type": "markdown",
   "metadata": {},
   "source": [
    "### Ejercicio 1.4"
   ]
  },
  {
   "cell_type": "markdown",
   "metadata": {},
   "source": [
    "Veamos que posibilidades hay para indexar valores y separar un array."
   ]
  },
  {
   "cell_type": "code",
   "execution_count": 10,
   "metadata": {},
   "outputs": [],
   "source": [
    "array_indexado = np.array([1, 2, 3, 4, 5, 6, 7])"
   ]
  },
  {
   "cell_type": "code",
   "execution_count": 11,
   "metadata": {},
   "outputs": [
    {
     "data": {
      "text/plain": [
       "1"
      ]
     },
     "execution_count": 11,
     "metadata": {},
     "output_type": "execute_result"
    }
   ],
   "source": [
    "array_indexado[0]"
   ]
  },
  {
   "cell_type": "code",
   "execution_count": 12,
   "metadata": {},
   "outputs": [
    {
     "data": {
      "text/plain": [
       "2"
      ]
     },
     "execution_count": 12,
     "metadata": {},
     "output_type": "execute_result"
    }
   ],
   "source": [
    "array_indexado[1]"
   ]
  },
  {
   "cell_type": "code",
   "execution_count": 13,
   "metadata": {},
   "outputs": [
    {
     "data": {
      "text/plain": [
       "array([1, 2])"
      ]
     },
     "execution_count": 13,
     "metadata": {},
     "output_type": "execute_result"
    }
   ],
   "source": [
    "array_indexado[0:2]"
   ]
  },
  {
   "cell_type": "code",
   "execution_count": 14,
   "metadata": {},
   "outputs": [
    {
     "data": {
      "text/plain": [
       "array([5, 6, 7])"
      ]
     },
     "execution_count": 14,
     "metadata": {},
     "output_type": "execute_result"
    }
   ],
   "source": [
    "array_indexado[4:]"
   ]
  },
  {
   "cell_type": "code",
   "execution_count": 15,
   "metadata": {},
   "outputs": [
    {
     "data": {
      "text/plain": [
       "array([7])"
      ]
     },
     "execution_count": 15,
     "metadata": {},
     "output_type": "execute_result"
    }
   ],
   "source": [
    "array_indexado[-1:]"
   ]
  },
  {
   "cell_type": "markdown",
   "metadata": {},
   "source": [
    "### Ejercicio 1.5"
   ]
  },
  {
   "cell_type": "markdown",
   "metadata": {},
   "source": [
    "Veamos cómo utilizar la función sort."
   ]
  },
  {
   "cell_type": "code",
   "execution_count": 16,
   "metadata": {},
   "outputs": [
    {
     "data": {
      "text/plain": [
       "array([1, 2, 3, 4, 5])"
      ]
     },
     "execution_count": 16,
     "metadata": {},
     "output_type": "execute_result"
    }
   ],
   "source": [
    "array_desordenado = np.array([3, 1, 5, 2, 4])\n",
    "\n",
    "array_ordenado = np.sort(array_desordenado)\n",
    "\n",
    "array_ordenado \n"
   ]
  },
  {
   "cell_type": "markdown",
   "metadata": {},
   "source": [
    "### Ejercicio 1.6"
   ]
  },
  {
   "cell_type": "markdown",
   "metadata": {},
   "source": [
    "Además de ordenar un array podemos invertir el orden de los valores."
   ]
  },
  {
   "cell_type": "code",
   "execution_count": 17,
   "metadata": {},
   "outputs": [
    {
     "data": {
      "text/plain": [
       "array([ 8,  7,  6,  5, 15, 14, 13, 12, 11,  4,  3,  2,  1])"
      ]
     },
     "execution_count": 17,
     "metadata": {},
     "output_type": "execute_result"
    }
   ],
   "source": [
    "array_original = np.array([1, 2, 3, 4, 11, 12, 13, 14, 15, 5, 6, 7, 8])\n",
    "\n",
    "array_reverso = np.flip(array_original)\n",
    "array_reverso "
   ]
  },
  {
   "cell_type": "markdown",
   "metadata": {},
   "source": [
    "### Ejercicio 1.7"
   ]
  },
  {
   "cell_type": "markdown",
   "metadata": {},
   "source": [
    "Crear un array con números aleatorios."
   ]
  },
  {
   "cell_type": "code",
   "execution_count": 18,
   "metadata": {},
   "outputs": [],
   "source": [
    "rng = np.random.default_rng()"
   ]
  },
  {
   "cell_type": "code",
   "execution_count": 19,
   "metadata": {},
   "outputs": [
    {
     "data": {
      "text/plain": [
       "array([0.11430445, 0.09665996, 0.956853  ])"
      ]
     },
     "execution_count": 19,
     "metadata": {},
     "output_type": "execute_result"
    }
   ],
   "source": [
    "rng.random(3)"
   ]
  },
  {
   "cell_type": "code",
   "execution_count": 20,
   "metadata": {},
   "outputs": [
    {
     "data": {
      "text/plain": [
       "array([[1, 1, 4, 0],\n",
       "       [4, 4, 0, 0]])"
      ]
     },
     "execution_count": 20,
     "metadata": {},
     "output_type": "execute_result"
    }
   ],
   "source": [
    "rng.integers(5, size=(2,4))"
   ]
  },
  {
   "cell_type": "markdown",
   "metadata": {},
   "source": [
    "### Ejercicio 1.8"
   ]
  },
  {
   "cell_type": "markdown",
   "metadata": {},
   "source": [
    "Contar valores únicos dentro de un array."
   ]
  },
  {
   "cell_type": "code",
   "execution_count": 22,
   "metadata": {},
   "outputs": [
    {
     "data": {
      "text/plain": [
       "array([11, 12, 13, 14, 15, 16, 17, 18, 19, 20])"
      ]
     },
     "execution_count": 22,
     "metadata": {},
     "output_type": "execute_result"
    }
   ],
   "source": [
    "array_repetidos = np.array([11, 11, 12, 13, 14, 15, 16, 17, 12, 13, 11, 14, 18, 19, 20, 11, 12, 13, 14, 15, 16, 17, 11, 14, 18, 19, 20])\n",
    "\n",
    "array_unicos = np.unique(array_repetidos)\n",
    "array_unicos "
   ]
  },
  {
   "cell_type": "markdown",
   "metadata": {},
   "source": [
    "# Parte B"
   ]
  },
  {
   "cell_type": "markdown",
   "metadata": {},
   "source": [
    "Tenemos una función cúbica con la forma (3x^3-7x^2+6*x+9)"
   ]
  },
  {
   "cell_type": "code",
   "execution_count": 23,
   "metadata": {},
   "outputs": [],
   "source": [
    "def mi_funcion(x):\n",
    "    return 3 * x**3 - 7 * x**2 + 6 * x + 9"
   ]
  },
  {
   "cell_type": "markdown",
   "metadata": {},
   "source": [
    "### Ejercicio 2.1"
   ]
  },
  {
   "cell_type": "markdown",
   "metadata": {},
   "source": [
    "Calcular cuáles serían los valores obtenidos al pasarle como argumentos los valors pares desde 0 a 20, incluyendo ambos. Guarden el resultado en un array."
   ]
  },
  {
   "cell_type": "code",
   "execution_count": 24,
   "metadata": {},
   "outputs": [
    {
     "data": {
      "text/plain": [
       "array([ 0,  2,  4,  6,  8, 10, 12, 14, 16, 18, 20])"
      ]
     },
     "execution_count": 24,
     "metadata": {},
     "output_type": "execute_result"
    }
   ],
   "source": [
    "lista_valores_x = []\n",
    "for i in range(0, 21, 2):\n",
    "    lista_valores_x.append(i)\n",
    "input_array = np.array(lista_valores_x)\n",
    "input_array "
   ]
  },
  {
   "cell_type": "code",
   "execution_count": 25,
   "metadata": {},
   "outputs": [
    {
     "data": {
      "text/plain": [
       "array([    9,    17,   113,   441,  1145,  2369,  4257,  6953, 10601,\n",
       "       15345, 21329])"
      ]
     },
     "execution_count": 25,
     "metadata": {},
     "output_type": "execute_result"
    }
   ],
   "source": [
    "output_array = mi_funcion(input_array)\n",
    "output_array"
   ]
  },
  {
   "cell_type": "markdown",
   "metadata": {},
   "source": [
    "### Ejercicio 2.2"
   ]
  },
  {
   "cell_type": "markdown",
   "metadata": {},
   "source": [
    "Con el array que obtuvimos en la sección anterior vamos a trabajar:\n",
    "- Calcular la media de los números en el array que contiene los valores calculados.\n",
    "- Calcular la desviación estándar de los números en el array calculado.\n",
    "- Crear un nuevo array array_cuadrados que contenga el cuadrado de cada números calculado.\n",
    "- Crear un array con la suma acumulativa (a1, a1 + a2, a1 + a2 + a3,...) de los elementos en array_cuadrados.\n",
    "- Crear un array con la raíz 5ta de cada valor de array_cuadrados(redondear a 2 decimales)\n",
    "\n",
    "Imprimir los resultados obtenidos."
   ]
  },
  {
   "cell_type": "code",
   "execution_count": 26,
   "metadata": {},
   "outputs": [
    {
     "name": "stdout",
     "output_type": "stream",
     "text": [
      "Media:  5689.0\n",
      "Desviación Estándar:  6877.906658279102\n",
      "Valor Máximo:  21329\n",
      "Índice del Valor Máximo:  10\n",
      "Valores al Cuadrado:  [       81       289     12769    194481   1311025   5612161  18122049\n",
      "  48344209 112381201 235469025 454926241]\n",
      "Array Suma Acumulativa de Valores al Cuadrado:  [       81       370     13139    207620   1518645   7130806  25252855\n",
      "  73597064 185978265 421447290 876373531]\n",
      "Array Resultado Raíz Quinta:  [ 2.41  3.11  6.63 11.42 16.73 22.38 28.29 34.42 40.75 47.25 53.9 ]\n"
     ]
    }
   ],
   "source": [
    "media = np.mean(output_array)\n",
    "\n",
    "desviacion_estandar = np.std(output_array)\n",
    "\n",
    "valor_maximo = np.max(output_array)\n",
    "\n",
    "indice_maximo = np.argmax(output_array)\n",
    "\n",
    "array_cuadrados = np.square(output_array)\n",
    "\n",
    "suma_acumulativa_cuadrados = np.cumsum(array_cuadrados)\n",
    "\n",
    "array_raiz_quinta = np.power(array_cuadrados, 1/5).round(2)\n",
    "\n",
    "print(\"Media: \", media)\n",
    "print(\"Desviación Estándar: \", desviacion_estandar)\n",
    "print(\"Valor Máximo: \", valor_maximo)\n",
    "print(\"Índice del Valor Máximo: \", indice_maximo)\n",
    "print(\"Valores al Cuadrado: \", array_cuadrados)\n",
    "print(\"Array Suma Acumulativa de Valores al Cuadrado: \", suma_acumulativa_cuadrados)\n",
    "print(\"Array Resultado Raíz Quinta: \", array_raiz_quinta)"
   ]
  },
  {
   "cell_type": "markdown",
   "metadata": {},
   "source": [
    "### Ejercicio 2.3"
   ]
  },
  {
   "cell_type": "markdown",
   "metadata": {},
   "source": [
    "Con los arrays que obtuvimos en la sección anterior vamos a hacer:\n",
    "- Calcular el producto escalar (o producto punto) entre los array_output y el array_raiz_quinta.\n",
    "- Crear un vector con los últimos 3 valores del array_input. Crear un segundo vector con los 3 primeros valores del array suma_acumulativa_cuadrados. Calcular el array que daría como resultado hacer el producto vectorial entre ambos."
   ]
  },
  {
   "cell_type": "code",
   "execution_count": 27,
   "metadata": {},
   "outputs": [
    {
     "data": {
      "text/plain": [
       "2744461.93"
      ]
     },
     "execution_count": 27,
     "metadata": {},
     "output_type": "execute_result"
    }
   ],
   "source": [
    "resultado_producto_escalar = np.matmul(output_array, array_raiz_quinta).round(2)\n",
    "resultado_producto_escalar"
   ]
  },
  {
   "cell_type": "code",
   "execution_count": 29,
   "metadata": {},
   "outputs": [
    {
     "data": {
      "text/plain": [
       "array([ 229102, -208604,    4462])"
      ]
     },
     "execution_count": 29,
     "metadata": {},
     "output_type": "execute_result"
    }
   ],
   "source": [
    "vector1 = input_array[-3:]\n",
    "vector2 = suma_acumulativa_cuadrados[:3]\n",
    "resultado_producto_escalar = np.cross(vector1, vector2)\n",
    "resultado_producto_escalar"
   ]
  }
 ],
 "metadata": {
  "kernelspec": {
   "display_name": "Python 3",
   "language": "python",
   "name": "python3"
  },
  "language_info": {
   "codemirror_mode": {
    "name": "ipython",
    "version": 3
   },
   "file_extension": ".py",
   "mimetype": "text/x-python",
   "name": "python",
   "nbconvert_exporter": "python",
   "pygments_lexer": "ipython3",
   "version": "3.10.13"
  }
 },
 "nbformat": 4,
 "nbformat_minor": 2
}
