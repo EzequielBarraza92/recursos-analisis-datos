{
 "cells": [
  {
   "cell_type": "markdown",
   "id": "37b27ace-7621-4c3b-b138-12ddaad581ca",
   "metadata": {},
   "source": [
    "# Python Variables"
   ]
  },
  {
   "cell_type": "markdown",
   "id": "425d481f-86c4-49ff-9095-d7408a33a421",
   "metadata": {},
   "source": [
    "### Integer\n",
    "### Creamos una variable Integer"
   ]
  },
  {
   "cell_type": "code",
   "execution_count": null,
   "id": "16ab3926-7478-4f37-bef3-5354b4aa0bdd",
   "metadata": {},
   "outputs": [],
   "source": [
    "variable_entera = 10"
   ]
  },
  {
   "cell_type": "markdown",
   "id": "6bc48b55-d252-4e4c-97ba-7008a8ac9492",
   "metadata": {},
   "source": [
    "### Impresión de variable usando print()"
   ]
  },
  {
   "cell_type": "code",
   "execution_count": 7,
   "id": "72357827-4631-4312-a3f6-17f46fb64db8",
   "metadata": {},
   "outputs": [
    {
     "name": "stdout",
     "output_type": "stream",
     "text": [
      "10\n"
     ]
    }
   ],
   "source": [
    "print(variable_entera)"
   ]
  },
  {
   "cell_type": "markdown",
   "id": "1c52f491-af6f-4f0b-9f43-6348ca119e8c",
   "metadata": {},
   "source": [
    "### Impresión automática"
   ]
  },
  {
   "cell_type": "code",
   "execution_count": 8,
   "id": "26a26ecc-0640-4b10-a2ed-c07522631613",
   "metadata": {},
   "outputs": [
    {
     "data": {
      "text/plain": [
       "10"
      ]
     },
     "execution_count": 8,
     "metadata": {},
     "output_type": "execute_result"
    }
   ],
   "source": [
    "variable_entera"
   ]
  },
  {
   "cell_type": "markdown",
   "id": "5e2fd92e-885a-4951-bd2e-51b56336e486",
   "metadata": {},
   "source": [
    "### Float"
   ]
  },
  {
   "cell_type": "code",
   "execution_count": 9,
   "id": "b85973ff-014a-4885-973d-9c42fb09cda6",
   "metadata": {},
   "outputs": [],
   "source": [
    "variableDecimal = 2.45"
   ]
  },
  {
   "cell_type": "markdown",
   "id": "d720aee2-8508-43e6-804a-38a1e305f519",
   "metadata": {},
   "source": [
    "Impresión usando print"
   ]
  },
  {
   "cell_type": "code",
   "execution_count": 10,
   "id": "b97b6e0f-1b84-40ec-a8af-9f9fd10a8a48",
   "metadata": {},
   "outputs": [
    {
     "name": "stdout",
     "output_type": "stream",
     "text": [
      "2.45\n"
     ]
    }
   ],
   "source": [
    "print(variableDecimal)"
   ]
  },
  {
   "cell_type": "markdown",
   "id": "99cc4b48-6db6-4179-a2c5-da9972799fe5",
   "metadata": {},
   "source": [
    "Impresión directa"
   ]
  },
  {
   "cell_type": "code",
   "execution_count": 11,
   "id": "5e6593cf-a4be-4d01-bbdf-23aa17e063f4",
   "metadata": {},
   "outputs": [
    {
     "data": {
      "text/plain": [
       "2.45"
      ]
     },
     "execution_count": 11,
     "metadata": {},
     "output_type": "execute_result"
    }
   ],
   "source": [
    "variableDecimal"
   ]
  },
  {
   "cell_type": "markdown",
   "id": "ee5a5262-04d0-4424-83e1-15154782392d",
   "metadata": {},
   "source": [
    "### String"
   ]
  },
  {
   "cell_type": "code",
   "execution_count": 12,
   "id": "c18c9549-2f9f-4bf1-8f97-d6be3b534495",
   "metadata": {},
   "outputs": [
    {
     "data": {
      "text/plain": [
       "'Soy un string'"
      ]
     },
     "execution_count": 12,
     "metadata": {},
     "output_type": "execute_result"
    }
   ],
   "source": [
    "VariableTexto = \"Soy un string\"\n",
    "VariableTexto"
   ]
  },
  {
   "cell_type": "markdown",
   "id": "ad19a8ae-8433-476e-811f-e10a9a2ac515",
   "metadata": {},
   "source": [
    "### Print()"
   ]
  },
  {
   "cell_type": "code",
   "execution_count": 14,
   "id": "ae619074-a7d5-483c-b934-49edfdeccb9f",
   "metadata": {},
   "outputs": [
    {
     "name": "stdout",
     "output_type": "stream",
     "text": [
      "Hola clase\n"
     ]
    }
   ],
   "source": [
    "print(\"Hola clase\")"
   ]
  },
  {
   "cell_type": "markdown",
   "id": "7a1f39d6-c2a5-44e6-a63e-f9f15913661e",
   "metadata": {},
   "source": [
    "### Pro tip"
   ]
  },
  {
   "cell_type": "code",
   "execution_count": 15,
   "id": "dc45a612-11f8-4a30-8b32-d123238299a6",
   "metadata": {},
   "outputs": [],
   "source": [
    "#Creación de varias variables a la vez \n",
    "variable_A, variable_B, variable_C = \"variable_A\", 22, 80.32"
   ]
  },
  {
   "cell_type": "code",
   "execution_count": 17,
   "id": "3a107ef3-3641-4b19-8b59-e2ae6d6d953a",
   "metadata": {},
   "outputs": [
    {
     "name": "stdout",
     "output_type": "stream",
     "text": [
      "variable_A\n",
      "22\n",
      "80.32\n"
     ]
    }
   ],
   "source": [
    "#Mostrar todas esas variables con print()\n",
    "print(variable_A)\n",
    "print(variable_B)\n",
    "print(variable_C)"
   ]
  },
  {
   "cell_type": "code",
   "execution_count": 18,
   "id": "bca8870c-2c3b-4409-a942-43798390d78c",
   "metadata": {},
   "outputs": [
    {
     "data": {
      "text/plain": [
       "('variable_A', 22, 80.32)"
      ]
     },
     "execution_count": 18,
     "metadata": {},
     "output_type": "execute_result"
    }
   ],
   "source": [
    "#impresión aplicando el feature de los notebook\n",
    "variable_A, variable_B, variable_C"
   ]
  },
  {
   "cell_type": "markdown",
   "id": "68fb0d1c-567f-49b0-bd96-53503487b8d0",
   "metadata": {},
   "source": [
    "### Booleanos"
   ]
  },
  {
   "cell_type": "code",
   "execution_count": 19,
   "id": "d180302b-98db-4c2e-b496-a360bb1b18f0",
   "metadata": {},
   "outputs": [],
   "source": [
    "#Definir una variable booleana True y una False\n",
    "esto_es_python = True\n",
    "esto_es_excel = False "
   ]
  },
  {
   "cell_type": "code",
   "execution_count": 20,
   "id": "5945f732-6f9a-441f-929a-fc6825597111",
   "metadata": {},
   "outputs": [
    {
     "name": "stdout",
     "output_type": "stream",
     "text": [
      "¿Esto es Python?: True\n",
      "¿Esto es Excel?: False\n"
     ]
    }
   ],
   "source": [
    "#Impresión y agregar un mensaje\n",
    "print(\"¿Esto es Python?:\", esto_es_python)\n",
    "print(\"¿Esto es Excel?:\", esto_es_excel)"
   ]
  },
  {
   "cell_type": "markdown",
   "id": "55e02c21-e518-4171-bba0-5c7a9b842866",
   "metadata": {},
   "source": [
    "### Tipo de datos"
   ]
  },
  {
   "cell_type": "code",
   "execution_count": 21,
   "id": "cd82fe67-6a04-49e6-a80f-5d24877d4375",
   "metadata": {},
   "outputs": [
    {
     "data": {
      "text/plain": [
       "int"
      ]
     },
     "execution_count": 21,
     "metadata": {},
     "output_type": "execute_result"
    }
   ],
   "source": [
    "type(variable_entera)"
   ]
  },
  {
   "cell_type": "code",
   "execution_count": 22,
   "id": "f9302113-6e6f-4875-98c3-9f563d2473b3",
   "metadata": {},
   "outputs": [
    {
     "data": {
      "text/plain": [
       "float"
      ]
     },
     "execution_count": 22,
     "metadata": {},
     "output_type": "execute_result"
    }
   ],
   "source": [
    "type(variableDecimal)"
   ]
  },
  {
   "cell_type": "code",
   "execution_count": 23,
   "id": "fdd0e4ac-a2b3-4244-997f-f47cd7b2ac87",
   "metadata": {},
   "outputs": [
    {
     "data": {
      "text/plain": [
       "str"
      ]
     },
     "execution_count": 23,
     "metadata": {},
     "output_type": "execute_result"
    }
   ],
   "source": [
    "type(VariableTexto)"
   ]
  },
  {
   "cell_type": "code",
   "execution_count": 24,
   "id": "0e2b32c7-75b8-4423-bc9e-b199edc52411",
   "metadata": {},
   "outputs": [
    {
     "data": {
      "text/plain": [
       "bool"
      ]
     },
     "execution_count": 24,
     "metadata": {},
     "output_type": "execute_result"
    }
   ],
   "source": [
    "type(esto_es_python)"
   ]
  },
  {
   "cell_type": "markdown",
   "id": "2b3d757e-7104-42c0-b6ee-b4779836945c",
   "metadata": {},
   "source": [
    "### CAST"
   ]
  },
  {
   "cell_type": "code",
   "execution_count": 25,
   "id": "58a8831d-938d-4452-ac8b-c57b02c473ba",
   "metadata": {},
   "outputs": [
    {
     "data": {
      "text/plain": [
       "(1, int)"
      ]
     },
     "execution_count": 25,
     "metadata": {},
     "output_type": "execute_result"
    }
   ],
   "source": [
    "numero_uno_entero = int(1) #La variable va a ser del tipo integer\n",
    "numero_uno_entero, type(numero_uno_entero) #Veo el dato y el tipo de dato"
   ]
  },
  {
   "cell_type": "code",
   "execution_count": 27,
   "id": "287482d5-69b6-42c0-892d-fdd697f737e4",
   "metadata": {},
   "outputs": [
    {
     "data": {
      "text/plain": [
       "(3, int)"
      ]
     },
     "execution_count": 27,
     "metadata": {},
     "output_type": "execute_result"
    }
   ],
   "source": [
    "numero_tres_entero = int(3.45) #La variable va a ser del tipo integer\n",
    "numero_tres_entero, type(numero_tres_entero) #Veo el dato y el tipo de dato"
   ]
  },
  {
   "cell_type": "code",
   "execution_count": 29,
   "id": "3e81168e-9091-4fc0-8dea-f3dcc808b62e",
   "metadata": {},
   "outputs": [
    {
     "data": {
      "text/plain": [
       "(2.45, 2, int)"
      ]
     },
     "execution_count": 29,
     "metadata": {},
     "output_type": "execute_result"
    }
   ],
   "source": [
    "cast_variableDecimal = int(variableDecimal)\n",
    "variableDecimal, cast_variableDecimal, type(cast_variableDecimal)"
   ]
  },
  {
   "cell_type": "code",
   "execution_count": 30,
   "id": "ce6efa99-e1c6-4443-a00a-b4c7cd1d633f",
   "metadata": {},
   "outputs": [],
   "source": [
    "numero_diez_string =\"10\"\n",
    "cast_numero_diez_string = int(numero_diez_string)"
   ]
  },
  {
   "cell_type": "code",
   "execution_count": 32,
   "id": "f948831d-cabe-4482-a575-b89338d1aace",
   "metadata": {},
   "outputs": [
    {
     "data": {
      "text/plain": [
       "('10', str, 10, int)"
      ]
     },
     "execution_count": 32,
     "metadata": {},
     "output_type": "execute_result"
    }
   ],
   "source": [
    "numero_diez_string, type(numero_diez_string), cast_numero_diez_string, type(cast_numero_diez_string)"
   ]
  },
  {
   "cell_type": "code",
   "execution_count": 33,
   "id": "9364041e-7447-40e1-8247-3ca14a2c966f",
   "metadata": {},
   "outputs": [
    {
     "data": {
      "text/plain": [
       "(1.0, float)"
      ]
     },
     "execution_count": 33,
     "metadata": {},
     "output_type": "execute_result"
    }
   ],
   "source": [
    "numero_uno_decimal = float(1)\n",
    "numero_uno_decimal, type(numero_uno_decimal)"
   ]
  },
  {
   "cell_type": "code",
   "execution_count": 34,
   "id": "1aae5891-e62b-43a4-83ff-95287c8fe659",
   "metadata": {},
   "outputs": [
    {
     "data": {
      "text/plain": [
       "(10, 10.0, float)"
      ]
     },
     "execution_count": 34,
     "metadata": {},
     "output_type": "execute_result"
    }
   ],
   "source": [
    "cast_variable_entera = float(variable_entera)\n",
    "variable_entera, cast_variable_entera, type(cast_variable_entera)"
   ]
  },
  {
   "cell_type": "code",
   "execution_count": 36,
   "id": "6b01a07a-c05d-45fb-ae47-263d3dddada4",
   "metadata": {},
   "outputs": [],
   "source": [
    "numero_pi_string = \"3.14\"\n",
    "cast_numero_pi_string = float(numero_pi_string)"
   ]
  },
  {
   "cell_type": "code",
   "execution_count": 37,
   "id": "f752bdab-0f88-4263-a7eb-b52bd0835809",
   "metadata": {},
   "outputs": [
    {
     "data": {
      "text/plain": [
       "('3.14', str, 3.14, float)"
      ]
     },
     "execution_count": 37,
     "metadata": {},
     "output_type": "execute_result"
    }
   ],
   "source": [
    "numero_pi_string, type(numero_pi_string), cast_numero_pi_string, type(cast_numero_pi_string)"
   ]
  },
  {
   "cell_type": "code",
   "execution_count": 39,
   "id": "8f9ff1ee-21b5-4240-bc17-c0e69741e8f8",
   "metadata": {},
   "outputs": [
    {
     "data": {
      "text/plain": [
       "('arg78', str)"
      ]
     },
     "execution_count": 39,
     "metadata": {},
     "output_type": "execute_result"
    }
   ],
   "source": [
    "mundial_arg_string = str(\"arg78\")\n",
    "mundial_arg_string, type(mundial_arg_string)"
   ]
  },
  {
   "cell_type": "code",
   "execution_count": 40,
   "id": "62406253-c48e-4a74-b25a-7485704ce0cb",
   "metadata": {},
   "outputs": [],
   "source": [
    "variable_anio_actual = 2024\n",
    "cast_variable_anio_actual = str(variable_anio_actual)"
   ]
  },
  {
   "cell_type": "code",
   "execution_count": 41,
   "id": "76d6d28a-4cff-4ad5-90fd-e4bc3249474f",
   "metadata": {},
   "outputs": [
    {
     "data": {
      "text/plain": [
       "(2024, int, '2024', str)"
      ]
     },
     "execution_count": 41,
     "metadata": {},
     "output_type": "execute_result"
    }
   ],
   "source": [
    "variable_anio_actual, type(variable_anio_actual), cast_variable_anio_actual, type(cast_variable_anio_actual)"
   ]
  },
  {
   "cell_type": "code",
   "execution_count": 42,
   "id": "2574455f-e80c-438c-b44f-521e5bcf13e9",
   "metadata": {},
   "outputs": [],
   "source": [
    "numero_pi = 3.14\n",
    "cast_numero_pi = str(numero_pi)"
   ]
  },
  {
   "cell_type": "code",
   "execution_count": 43,
   "id": "af43502a-a148-44fd-86fc-6f867446315f",
   "metadata": {},
   "outputs": [
    {
     "data": {
      "text/plain": [
       "(3.14, float, '3.14', str)"
      ]
     },
     "execution_count": 43,
     "metadata": {},
     "output_type": "execute_result"
    }
   ],
   "source": [
    "numero_pi, type(numero_pi), cast_numero_pi, type(cast_numero_pi)"
   ]
  },
  {
   "cell_type": "code",
   "execution_count": 44,
   "id": "90030e0f-cdcd-44d9-a640-3828517f0b7f",
   "metadata": {},
   "outputs": [],
   "source": [
    "bool_curso_data_analitics = True\n",
    "cast_bool_curso_data_analitics = str(bool_curso_data_analitics)"
   ]
  },
  {
   "cell_type": "code",
   "execution_count": 45,
   "id": "f8052192-308f-48a2-8ba1-55c742868e1b",
   "metadata": {},
   "outputs": [
    {
     "data": {
      "text/plain": [
       "(True, bool, 'True', str)"
      ]
     },
     "execution_count": 45,
     "metadata": {},
     "output_type": "execute_result"
    }
   ],
   "source": [
    "bool_curso_data_analitics, type(bool_curso_data_analitics), cast_bool_curso_data_analitics, type(cast_bool_curso_data_analitics)"
   ]
  },
  {
   "cell_type": "markdown",
   "id": "7d9e4633-7d2d-4d68-8ded-e1fa330d9803",
   "metadata": {},
   "source": [
    "## Operadores "
   ]
  },
  {
   "cell_type": "markdown",
   "id": "d1a17557-4d09-47d7-9244-a79e02285b87",
   "metadata": {},
   "source": [
    ". Aritméticos: Suma (+), Resta (-), Multiplicación (*), División (/), Exponente (**), Módulo (%) y División Entera (//)"
   ]
  },
  {
   "cell_type": "markdown",
   "id": "2c8c07ed-5c72-489c-870f-3db88733ae65",
   "metadata": {},
   "source": [
    ". Comparación: Igual que (==), Diferente que (!=), Mayor que (>), Menor que (<), Mayor o igual (>=) y Menor o igual (<=)"
   ]
  },
  {
   "cell_type": "markdown",
   "id": "1ef22010-185c-4d83-a03c-6f41da858f54",
   "metadata": {},
   "source": [
    "Lógicos: AND, OR, NO"
   ]
  },
  {
   "cell_type": "markdown",
   "id": "7fa18ca8-ec3e-43d0-8cf4-c046d0f00e32",
   "metadata": {},
   "source": [
    "Especiales: IS, IS NOT, IN, NOT"
   ]
  },
  {
   "cell_type": "markdown",
   "id": "939b225c-55df-48c8-b341-4da0d64b2e15",
   "metadata": {},
   "source": [
    "Asignación: Igual (=), Incremento (+=) y Decremento (-=)"
   ]
  },
  {
   "cell_type": "code",
   "execution_count": 1,
   "id": "c943a582-d676-4b86-946a-eca8f82c3e70",
   "metadata": {},
   "outputs": [
    {
     "data": {
      "text/plain": [
       "(24, 24, 24)"
      ]
     },
     "execution_count": 1,
     "metadata": {},
     "output_type": "execute_result"
    }
   ],
   "source": [
    "#Suma entre valores directamente o entre variables y números\n",
    "numero_veinte = 20\n",
    "numero_cuatro = 4\n",
    "\n",
    "20 + 4, numero_veinte + 4, numero_veinte + numero_cuatro"
   ]
  },
  {
   "cell_type": "code",
   "execution_count": 3,
   "id": "32ffd526-5e85-4067-a328-250cb6575b17",
   "metadata": {},
   "outputs": [
    {
     "data": {
      "text/plain": [
       "(99, 99, 99)"
      ]
     },
     "execution_count": 3,
     "metadata": {},
     "output_type": "execute_result"
    }
   ],
   "source": [
    "#Resta emtre valores directamente o entre variables y números\n",
    "numero_cien = 100\n",
    "numero_uno = 1\n",
    "\n",
    "100 - 1, numero_cien - 1, numero_cien - numero_uno "
   ]
  },
  {
   "cell_type": "code",
   "execution_count": 4,
   "id": "ec35ae89-8931-4813-9462-47dfa88672f3",
   "metadata": {},
   "outputs": [
    {
     "data": {
      "text/plain": [
       "(-99, -99, -99)"
      ]
     },
     "execution_count": 4,
     "metadata": {},
     "output_type": "execute_result"
    }
   ],
   "source": [
    "#En las restas podemos obtener números negativos\n",
    "\n",
    "1 - 100, 1 - numero_cien, numero_uno - numero_cien"
   ]
  },
  {
   "cell_type": "code",
   "execution_count": 5,
   "id": "3a1203d6-9c1c-4607-99b0-724f46883375",
   "metadata": {},
   "outputs": [
    {
     "data": {
      "text/plain": [
       "(42.72, 42.72, 42.72, float)"
      ]
     },
     "execution_count": 5,
     "metadata": {},
     "output_type": "execute_result"
    }
   ],
   "source": [
    "#Operar decimales con enteros\n",
    "numero_cuarenta_entero = 40\n",
    "numero_e = 2.72\n",
    "\n",
    "40 + 2.72, numero_cuarenta_entero + 2.72, numero_cuarenta_entero + numero_e, type(numero_cuarenta_entero + numero_e)"
   ]
  },
  {
   "cell_type": "code",
   "execution_count": 7,
   "id": "fd24162a-e7d0-41ec-aa9d-222d94466ebb",
   "metadata": {},
   "outputs": [
    {
     "data": {
      "text/plain": [
       "50.24"
      ]
     },
     "execution_count": 7,
     "metadata": {},
     "output_type": "execute_result"
    }
   ],
   "source": [
    "#También tenemos multiplicaciones \n",
    "radio = 8 #Radio Circunferencia\n",
    "numero_pi = 3.14\n",
    "perimetro = 2*numero_pi*radio #Calcular perímetro\n",
    "\n",
    "perimetro #Imprimo valor"
   ]
  },
  {
   "cell_type": "code",
   "execution_count": 8,
   "id": "d42f86e7-4d75-4906-96d8-b830a924f72c",
   "metadata": {},
   "outputs": [
    {
     "data": {
      "text/plain": [
       "10.0"
      ]
     },
     "execution_count": 8,
     "metadata": {},
     "output_type": "execute_result"
    }
   ],
   "source": [
    "#División simple\n",
    "diametro = 20 #Defino diámetro\n",
    "\n",
    "radio = diametro/2 #Calcular el radio\n",
    "radio\n"
   ]
  },
  {
   "cell_type": "code",
   "execution_count": 9,
   "id": "f7696bda-c2e1-4192-be50-aa84a97728a1",
   "metadata": {},
   "outputs": [
    {
     "data": {
      "text/plain": [
       "138.0344"
      ]
     },
     "execution_count": 9,
     "metadata": {},
     "output_type": "execute_result"
    }
   ],
   "source": [
    "#Con el exponente puedo calcular el área de un círculo\n",
    "radio = 14\n",
    "\n",
    "area = radio * (numero_pi**2)\n",
    "area"
   ]
  },
  {
   "cell_type": "code",
   "execution_count": 10,
   "id": "b87734dc-84ed-48f0-af18-c5ee9f65e5c0",
   "metadata": {},
   "outputs": [
    {
     "name": "stdout",
     "output_type": "stream",
     "text": [
      "1\n"
     ]
    }
   ],
   "source": [
    "#El módulo o resto puede ser útil\n",
    "x = 5\n",
    "y = 2\n",
    "\n",
    "print(x % y)"
   ]
  },
  {
   "cell_type": "code",
   "execution_count": 11,
   "id": "833f050d-1b73-4f57-bcd6-5691f536a990",
   "metadata": {},
   "outputs": [
    {
     "name": "stdout",
     "output_type": "stream",
     "text": [
      "División entera: 7\n",
      "Resto:2 1\n"
     ]
    }
   ],
   "source": [
    "#Con // puedo calcular una división entera (redondeada hacia abajo)\n",
    "\n",
    "x = 15\n",
    "y = 2\n",
    "\n",
    "print(\"División entera:\", x // y)\n",
    "print(\"Resto:2\", x % y)"
   ]
  },
  {
   "cell_type": "code",
   "execution_count": 12,
   "id": "3f05494f-f985-4e02-ba90-76f7cf918a1c",
   "metadata": {},
   "outputs": [
    {
     "data": {
      "text/plain": [
       "False"
      ]
     },
     "execution_count": 12,
     "metadata": {},
     "output_type": "execute_result"
    }
   ],
   "source": [
    "#Con comparaciones puedo ver relaciones entre términos\n",
    "variable_pais_minuscula = \"argentina\"\n",
    "variable_pais_mayuscula = \"ARGENTINA\"\n",
    "\n",
    "variable_pais_mayuscula == variable_pais_minuscula"
   ]
  },
  {
   "cell_type": "code",
   "execution_count": 13,
   "id": "b18bf036-cbb8-4d66-81ee-ef77e2c70fcd",
   "metadata": {},
   "outputs": [
    {
     "data": {
      "text/plain": [
       "True"
      ]
     },
     "execution_count": 13,
     "metadata": {},
     "output_type": "execute_result"
    }
   ],
   "source": [
    "#Puede ser entre números\n",
    "ventas_totales = 243090\n",
    "ventas_esperadas = 243080\n",
    "\n",
    "ventas_totales >= ventas_esperadas"
   ]
  },
  {
   "cell_type": "code",
   "execution_count": 14,
   "id": "3c40285e-a6a9-4d7f-b303-eee18b84ad91",
   "metadata": {},
   "outputs": [],
   "source": [
    "#Puedo incrementar valores o disminuirlos con cada ejecución\n",
    "valor_creciente, valor_decreciente = 0, 0 #Defino mis puntos de inicio"
   ]
  },
  {
   "cell_type": "code",
   "execution_count": 22,
   "id": "26c9c6a4-a74d-49e6-a1c3-433b6c439a1d",
   "metadata": {},
   "outputs": [
    {
     "data": {
      "text/plain": [
       "(5, -5)"
      ]
     },
     "execution_count": 22,
     "metadata": {},
     "output_type": "execute_result"
    }
   ],
   "source": [
    "#Incremente con cada ejecución\n",
    "\n",
    "valor_creciente += 1\n",
    "valor_decreciente -= 1\n",
    "\n",
    "valor_creciente, valor_decreciente"
   ]
  },
  {
   "cell_type": "code",
   "execution_count": 23,
   "id": "c057e251-7f98-4041-ad00-4012591a4354",
   "metadata": {},
   "outputs": [],
   "source": [
    "#Puedo incrementar 2 a dos en 2 también\n",
    "numeros_pares, cantidad_ejecuciones = 0, 0 #Defino los puntos de inicio"
   ]
  },
  {
   "cell_type": "code",
   "execution_count": 30,
   "id": "efb9113b-1a9d-4b47-9f59-0abdf8dfe4b7",
   "metadata": {},
   "outputs": [
    {
     "name": "stdout",
     "output_type": "stream",
     "text": [
      "número: 14\n",
      "veces ejecutado: 7\n"
     ]
    }
   ],
   "source": [
    "numeros_pares += 2\n",
    "cantidad_ejecuciones += 1\n",
    "\n",
    "print(\"número:\", numeros_pares)\n",
    "print(\"veces ejecutado:\", cantidad_ejecuciones)"
   ]
  },
  {
   "cell_type": "code",
   "execution_count": null,
   "id": "9678ac88-4e0e-4bee-9d08-c9ef83e8e332",
   "metadata": {},
   "outputs": [],
   "source": []
  }
 ],
 "metadata": {
  "kernelspec": {
   "display_name": "Python 3 (ipykernel)",
   "language": "python",
   "name": "python3"
  },
  "language_info": {
   "codemirror_mode": {
    "name": "ipython",
    "version": 3
   },
   "file_extension": ".py",
   "mimetype": "text/x-python",
   "name": "python",
   "nbconvert_exporter": "python",
   "pygments_lexer": "ipython3",
   "version": "3.11.7"
  }
 },
 "nbformat": 4,
 "nbformat_minor": 5
}
