{
 "cells": [
  {
   "cell_type": "markdown",
   "id": "b4983bfe-518a-4469-9b69-66cd924bd855",
   "metadata": {},
   "source": [
    "# Clases "
   ]
  },
  {
   "cell_type": "markdown",
   "id": "ef180bc2-d5c5-4af4-b6ba-abf809cc6be8",
   "metadata": {},
   "source": [
    "Una clase es una estructura fundamental para la programación orientada a objetos (POO).\n",
    "\n",
    "Una clase actúa como un molde o plantilla que define las características y comportamientos de un tipo de objeto.\n",
    "Cuando definimos una clase tenemos que:\n",
    "- Especificar sus atributos (variables asociadas a la clase)\n",
    "- Definir métodos (funciones asociadas a la clase)\n",
    "\n",
    "Estas dos cosas nos servirán para utilizar nuestra clase con cierto propósito."
   ]
  },
  {
   "cell_type": "markdown",
   "id": "e3855ac6-9688-405b-8c72-0e36a994d288",
   "metadata": {},
   "source": [
    "### Ejercicio 1.0 "
   ]
  },
  {
   "cell_type": "markdown",
   "id": "37af2fda-e4c3-4a17-a97f-9366298c644c",
   "metadata": {},
   "source": [
    "En nuestro primer ejemplo veremos una clase simplificada usando la estructura mínima y además se muestra como acceder a sus valores. Vamos a usar:\n",
    "### class < NombreClase >:"
   ]
  },
  {
   "cell_type": "markdown",
   "id": "eefe584c-c97e-4e5c-b876-a5065593a8fb",
   "metadata": {},
   "source": [
    "Nota: Los nombres de las clases lo usaremos en mayúsculas"
   ]
  },
  {
   "cell_type": "markdown",
   "id": "8bfe7566-dd03-4f66-b833-379a1524b70e",
   "metadata": {},
   "source": [
    "Vamos a crear una clase llamada Número con un valor numérico adentro."
   ]
  },
  {
   "cell_type": "code",
   "execution_count": 1,
   "id": "a7db5bcb-174a-4e60-8671-10a17a939b20",
   "metadata": {},
   "outputs": [],
   "source": [
    "class Numero: #Defino mi clase \n",
    "    valor = 5 #Defino los valores que toma"
   ]
  },
  {
   "cell_type": "code",
   "execution_count": 2,
   "id": "3167f441-49f8-4363-b0de-a3a8b7fcbe36",
   "metadata": {},
   "outputs": [
    {
     "data": {
      "text/plain": [
       "5"
      ]
     },
     "execution_count": 2,
     "metadata": {},
     "output_type": "execute_result"
    }
   ],
   "source": [
    "Numero.valor #Puedo acceder a info (valor) alojada en mi clase Numero asi"
   ]
  },
  {
   "cell_type": "code",
   "execution_count": 3,
   "id": "57f1af62-6048-4771-8b45-675f06737808",
   "metadata": {},
   "outputs": [],
   "source": [
    "Numero.valor = 3 #Si accedo al atributo de la clase podría alterarlo"
   ]
  },
  {
   "cell_type": "code",
   "execution_count": 4,
   "id": "66752226-34fd-4df2-a88b-ee98bbb5dd31",
   "metadata": {},
   "outputs": [
    {
     "data": {
      "text/plain": [
       "3"
      ]
     },
     "execution_count": 4,
     "metadata": {},
     "output_type": "execute_result"
    }
   ],
   "source": [
    "Numero.valor #vemos como este valor no está protegido de ninguna forma a los cambios"
   ]
  },
  {
   "cell_type": "markdown",
   "id": "81f4effd-d729-4e70-9c07-e8506e96c266",
   "metadata": {},
   "source": [
    "### Ejercicio 1.1"
   ]
  },
  {
   "cell_type": "markdown",
   "id": "655093d9-ab78-4855-a624-a75bea0364f1",
   "metadata": {},
   "source": [
    "No es muy útil crear clases así, ya que una vez definida la clase no se pueden crear nuevas clases usando ese prototipo. Además de que los atributos serían vulnerables a sufrir cambios."
   ]
  },
  {
   "cell_type": "markdown",
   "id": "2b112247-81aa-4b22-806e-f9b9f03fed5d",
   "metadata": {},
   "source": [
    "Es por ello que se utiliza una función llamada init(), la cual va adentro de nuestra clase. Esta función viene incluida adentro de nuestra clase y siempre se ejecuta cuando la clase es iniciada."
   ]
  },
  {
   "cell_type": "markdown",
   "id": "6fc97afb-a2f2-4210-8bc8-54231d273f2c",
   "metadata": {},
   "source": [
    "La función init() nos permite asignar valores atribuidos y realizar operaciones apenas se inicializa nuestra clase. "
   ]
  },
  {
   "cell_type": "markdown",
   "id": "70633ea5-a9aa-458b-bb47-5a0045734c77",
   "metadata": {},
   "source": [
    "Además self es una convención que se utiliza dentro de los métodos de una clase para hacer referencia a la instancia actual de la clase. Es un parámetro implícito que debe ser el primer parámetro de cualquier método de instancia (métodos dentro de una clase)."
   ]
  },
  {
   "cell_type": "markdown",
   "id": "46546b35-ba43-480e-8f16-c46ac26cd9f0",
   "metadata": {},
   "source": [
    "Veremos un ejemplo con una clase Persona con nombre y edad como atributos."
   ]
  },
  {
   "cell_type": "code",
   "execution_count": 5,
   "id": "5b6799f4-e0a0-4c54-893a-f4c65b92079d",
   "metadata": {},
   "outputs": [],
   "source": [
    "class Persona: #Definimos nuestra clase\n",
    "    def __init__(self, nombre, edad): #Usamos el método __init__\n",
    "        self.nombre = nombre #Asignamos el parámetro nombre de nuestra función al atributo en la clase\n",
    "        self.edad = edad #Asignamos el parámetro edad de nuestra función al atributo en la clase "
   ]
  },
  {
   "cell_type": "code",
   "execution_count": 6,
   "id": "72dc381e-fb1c-4564-a721-8781c794f337",
   "metadata": {},
   "outputs": [
    {
     "data": {
      "text/plain": [
       "('Andres', 25)"
      ]
     },
     "execution_count": 6,
     "metadata": {},
     "output_type": "execute_result"
    }
   ],
   "source": [
    "persona1 = Persona(\"Andres\", 25) #Creo una instancia de mi clase \n",
    "persona1.nombre, persona1.edad #Puedo acceder a sus atributos "
   ]
  },
  {
   "cell_type": "code",
   "execution_count": 7,
   "id": "a8d421a1-7c47-4081-aed1-b1589002fe29",
   "metadata": {},
   "outputs": [
    {
     "data": {
      "text/plain": [
       "('Maria', 23)"
      ]
     },
     "execution_count": 7,
     "metadata": {},
     "output_type": "execute_result"
    }
   ],
   "source": [
    "persona2 = Persona(\"Maria\", 23) #Reutilizo mi clase como si fuera un molde\n",
    "persona2.nombre, persona2.edad"
   ]
  },
  {
   "cell_type": "markdown",
   "id": "e40d4352-840c-4bc1-9399-1cf6316fa390",
   "metadata": {},
   "source": [
    "### Ejercicio 1.2"
   ]
  },
  {
   "cell_type": "markdown",
   "id": "a74dc301-aec8-4c71-8966-03d7a39b7b51",
   "metadata": {},
   "source": [
    "También hay otra función especial: str() que nos sirve para especificar cómo queremos que se vea nuestra clase al imprimirla."
   ]
  },
  {
   "cell_type": "markdown",
   "id": "0a88674f-fe95-4e0c-b0b9-0f2fc595a3a5",
   "metadata": {},
   "source": [
    "Vamos a hacer un ejemplo creando una clase ColorSinStr y otra ColorConStr"
   ]
  },
  {
   "cell_type": "markdown",
   "id": "2337bc8e-9ff5-4cfc-b013-6060712f5378",
   "metadata": {},
   "source": [
    "Nota: Veremos como self permite usar los atributos de nuestra clase en cualquier parte de las funciones que esta tiene. "
   ]
  },
  {
   "cell_type": "code",
   "execution_count": 8,
   "id": "a611cec7-7eda-4903-914a-49f5273d0459",
   "metadata": {},
   "outputs": [],
   "source": [
    "class ColorSinStr:\n",
    "    def __init__(self, color, valor_hexa):\n",
    "        self.color = color\n",
    "        self.valor_hexa = valor_hexa"
   ]
  },
  {
   "cell_type": "code",
   "execution_count": 9,
   "id": "dc417ba5-d215-4d39-96fb-d30ed622eb7e",
   "metadata": {},
   "outputs": [],
   "source": [
    "class ColorConStr:\n",
    "    def __init__(self, color, valor_hexa):\n",
    "        self.color = color\n",
    "        self.valor_hexa = valor_hexa\n",
    "\n",
    "    def __str__(self):\n",
    "        return f\"El color elegido es {self.color} y su valor hexadecimal es {self.valor_hexa}\""
   ]
  },
  {
   "cell_type": "markdown",
   "id": "41943160-d634-42e3-afac-5b3bb8a491c2",
   "metadata": {},
   "source": [
    "Crearemos una instancia de nuestra clase ColorSinStr"
   ]
  },
  {
   "cell_type": "code",
   "execution_count": 10,
   "id": "31dca9ee-3368-4bf3-8380-313c30702235",
   "metadata": {},
   "outputs": [
    {
     "data": {
      "text/plain": [
       "('Rojo', '#FF0000')"
      ]
     },
     "execution_count": 10,
     "metadata": {},
     "output_type": "execute_result"
    }
   ],
   "source": [
    "color_rojo_sin_str = ColorSinStr(\"Rojo\", \"#FF0000\") #Definimos nuestro objeto\n",
    "color_rojo_sin_str.color, color_rojo_sin_str.valor_hexa #Vemos que sus atributos funcionan perfectamente"
   ]
  },
  {
   "cell_type": "code",
   "execution_count": 11,
   "id": "98dfecfd-1b27-42e5-9c31-343f0bef6c90",
   "metadata": {},
   "outputs": [
    {
     "name": "stdout",
     "output_type": "stream",
     "text": [
      "<__main__.ColorSinStr object at 0x000002A6B9BF7050>\n"
     ]
    }
   ],
   "source": [
    "print(color_rojo_sin_str) #Comprobemos que pasa al imprimir el objecto color_rojo_sin_str"
   ]
  },
  {
   "cell_type": "markdown",
   "id": "a4fec522-562d-4b05-8abb-56b891a5612c",
   "metadata": {},
   "source": [
    "Ahora repetimos usando nuestra clase ColorConStr"
   ]
  },
  {
   "cell_type": "code",
   "execution_count": 12,
   "id": "92b65e83-2c3d-4f7a-9507-f864f6ba5756",
   "metadata": {},
   "outputs": [
    {
     "data": {
      "text/plain": [
       "('Rojo', '#FF0000')"
      ]
     },
     "execution_count": 12,
     "metadata": {},
     "output_type": "execute_result"
    }
   ],
   "source": [
    "color_rojo_con_str = ColorConStr(\"Rojo\", \"#FF0000\") #Definimos nuestro objeto\n",
    "color_rojo_con_str.color, color_rojo_con_str.valor_hexa #Vemos que sus atributos funcionan perfectamente"
   ]
  },
  {
   "cell_type": "code",
   "execution_count": 13,
   "id": "134202f9-1003-4a8c-a1f2-6213e0076e66",
   "metadata": {},
   "outputs": [
    {
     "name": "stdout",
     "output_type": "stream",
     "text": [
      "El color elegido es Rojo y su valor hexadecimal es #FF0000\n"
     ]
    }
   ],
   "source": [
    "print(color_rojo_con_str) #Comprobemos como ahora al imprimir color_rojo_con_str esta sigue \"mágicamente\" la forma que le dimos en __str__ "
   ]
  },
  {
   "cell_type": "markdown",
   "id": "0337040c-f2ce-445d-bf1b-d2421a7cfb5b",
   "metadata": {},
   "source": [
    "### Ejercicio 1.3"
   ]
  },
  {
   "cell_type": "markdown",
   "id": "64fa9c94-4bf5-4b38-8644-3e3ac30e829d",
   "metadata": {},
   "source": [
    "Si nosotros definimos los valores por default dentro de nuestra función init() estos serán aplicados a la clase en caso de no ser alterados."
   ]
  },
  {
   "cell_type": "markdown",
   "id": "387cf650-1d89-4d1c-8906-fb837f68fece",
   "metadata": {},
   "source": [
    "Lo vamos a ver con este ejemplo de una case llamada AlumnoAlkemy que tenga los atributos nombre, lenguaje_programacion y activo."
   ]
  },
  {
   "cell_type": "code",
   "execution_count": 14,
   "id": "bc66e761-a52f-4620-b00c-a9f42e761151",
   "metadata": {},
   "outputs": [],
   "source": [
    "class AlumnoAlkemy:\n",
    "    def __init__(self, nombre, lenguaje_programacion = \"Python\", activo = True):\n",
    "        self.nombre = nombre\n",
    "        self.lenguaje_programacion = lenguaje_programacion\n",
    "        self.activo = activo \n",
    "    def __str__(self):\n",
    "        return f\"Alumno: {self.nombre} \\nActivo: {self.activo} \\nEstudia: {self.lenguaje_programacion}\""
   ]
  },
  {
   "cell_type": "code",
   "execution_count": 16,
   "id": "326be50d-a3ed-422e-8898-07f5da1939d2",
   "metadata": {},
   "outputs": [
    {
     "name": "stdout",
     "output_type": "stream",
     "text": [
      "Alumno: Facundo \n",
      "Activo: False \n",
      "Estudia: Java\n"
     ]
    }
   ],
   "source": [
    "alumno1 = AlumnoAlkemy(\"Facundo\", \"Java\", False)\n",
    "print(alumno1)"
   ]
  },
  {
   "cell_type": "code",
   "execution_count": 17,
   "id": "0c09ded7-59ed-4320-9561-f195f1bef168",
   "metadata": {},
   "outputs": [
    {
     "name": "stdout",
     "output_type": "stream",
     "text": [
      "Alumno: Silvia \n",
      "Activo: True \n",
      "Estudia: Python\n"
     ]
    }
   ],
   "source": [
    "alumno2 = AlumnoAlkemy(\"Silvia\")\n",
    "print(alumno2)"
   ]
  },
  {
   "cell_type": "markdown",
   "id": "010bcb76-938a-4f5d-8892-aa179b247a71",
   "metadata": {},
   "source": [
    "### Ejercicio 1.4"
   ]
  },
  {
   "cell_type": "markdown",
   "id": "f98bac90-17d6-4ef3-8e7c-7d709916d3b7",
   "metadata": {},
   "source": [
    "Ya vimos las funciones \"mágicas\" que traen las clases de Python"
   ]
  },
  {
   "cell_type": "markdown",
   "id": "874339a8-07ec-4b49-8d99-f08ab201a750",
   "metadata": {},
   "source": [
    "Realmente nosotros podemos definir nuestras propias funciones dentro de una clase. A estas se las conocen como métodos."
   ]
  },
  {
   "cell_type": "markdown",
   "id": "03e17dc8-4106-49a3-a005-3100a9eb48b0",
   "metadata": {},
   "source": [
    "Crearemos una clase Moto donde sus atributos sean:\n",
    "- Marca\n",
    "- Capacidad del tanque (L)\n",
    "- Rendimiento por cada litro de combustible (Km/L)\n",
    "- Tiempo andado (h)\n",
    "- Velocidad Media (Km/h)"
   ]
  },
  {
   "cell_type": "markdown",
   "id": "fc97dd2d-3624-4e0f-bf35-4278cc2e81ea",
   "metadata": {},
   "source": [
    "Además vamos a crear un método (función) la cual nos calculará la distancia restante que le queda a la moto en base a esta fórmula: \n",
    "\n",
    "Distancia Restante (Km) = (Combustible (L) x Rendimiento (Km/L)) - (Tiempo andado (h) x Velocidad Media (Km / h))"
   ]
  },
  {
   "cell_type": "code",
   "execution_count": 18,
   "id": "a9a8d647-4e0f-46e4-81d0-620eb521d61d",
   "metadata": {},
   "outputs": [],
   "source": [
    "class Moto():\n",
    "    def __init__(self, marca, capacidad_tanque, rendimiento, tiempo_andado, velocidad_media):\n",
    "        self.marca = marca\n",
    "        self.capacidad_tanque = capacidad_tanque\n",
    "        self.rendimiento = rendimiento\n",
    "        self.tiempo_andado = tiempo_andado\n",
    "        self.velocidad_media = velocidad_media\n",
    "        \n",
    "    def __str__(self): \n",
    "        return f\"La moto {self.marca} lleva una velocidad media de {self.velocidad_media} k/h y hace {self.tiempo_andado} hs que lleva andando\"\n",
    "\n",
    "    def distanciaRestante(self): #Creo mi función distanciaRestante\n",
    "        return (self.capacidad_tanque * self.rendimiento) - (self.tiempo_andado * self.velocidad_media) #Retorno el valor calculado de mis kms restantes"
   ]
  },
  {
   "cell_type": "code",
   "execution_count": 19,
   "id": "1a062a25-b89f-44bb-acf4-2c7ca2688dbc",
   "metadata": {},
   "outputs": [
    {
     "name": "stdout",
     "output_type": "stream",
     "text": [
      "La moto honda lleva una velocidad media de 30 k/h y hace 3 hs que lleva andando\n"
     ]
    }
   ],
   "source": [
    "moto1 = Moto(\"honda\", 20, 5, 3, 30)\n",
    "print(moto1)"
   ]
  },
  {
   "cell_type": "code",
   "execution_count": 20,
   "id": "70d9d843-ac5a-4063-bc8c-d4e8854c60b2",
   "metadata": {},
   "outputs": [
    {
     "data": {
      "text/plain": [
       "10"
      ]
     },
     "execution_count": 20,
     "metadata": {},
     "output_type": "execute_result"
    }
   ],
   "source": [
    "distancia_restante_moto1 = moto1.distanciaRestante()\n",
    "distancia_restante_moto1"
   ]
  },
  {
   "cell_type": "markdown",
   "id": "ad4a907d-a149-43af-a2e5-2bb9eddd5cf4",
   "metadata": {},
   "source": [
    "### Ejercicio 1.5"
   ]
  },
  {
   "cell_type": "markdown",
   "id": "470a132b-e6fb-4646-a39c-70c5ed573d4e",
   "metadata": {},
   "source": [
    "Vamos a practicar con otro ejercicio similar"
   ]
  },
  {
   "cell_type": "markdown",
   "id": "3e435b57-7838-49ab-86df-713d206a6c2c",
   "metadata": {},
   "source": [
    "Vamos a crear una clase llamada Vehiculo que represente un vehículo con atributos como marca, modelo, color y velocidad. Implementar métodos para acelear, girar, frenar y estacionar el vehículo."
   ]
  },
  {
   "cell_type": "markdown",
   "id": "8d4d421a-9d06-4e14-920d-9b511cf1501b",
   "metadata": {},
   "source": [
    "Hay que seguir estos pasos\n",
    "- Define la clase Vehiculo con un constructor init.\n",
    "- Definimos como queremos que se muestre nuestro print.\n",
    "- implementar métodos acelerar, girar, frenar y estacionar. (En caso de frenar hay que tener en cuenta si el vehiculo se mueve o no)."
   ]
  },
  {
   "cell_type": "markdown",
   "id": "4f70cddb-c7aa-47d9-b928-b0947c420a4f",
   "metadata": {},
   "source": [
    "Crearemos dos instancias de Vehiculo con diferentes características. Utilizaremos los métodos de cada instancia para simular acciones de manejo."
   ]
  },
  {
   "cell_type": "code",
   "execution_count": 22,
   "id": "576f04e0-f7b1-44fa-9c14-12fc628d39c6",
   "metadata": {},
   "outputs": [],
   "source": [
    "class Vehiculo:\n",
    "    def __init__(self, marca, modelo, color = \"negro\", velocidad = 0):\n",
    "        self.marca = marca\n",
    "        self.modelo = modelo\n",
    "        self.color = color\n",
    "        self.velocidad = velocidad\n",
    "\n",
    "    def __str__(self):\n",
    "        return f\"Marca: {self.marca} \\nModelo: {self.modelo} \\nColor: {self.color}\"\n",
    "\n",
    "    def acelerar(self, incremento):\n",
    "        self.velocidad += incremento\n",
    "        print(f\"El vehículo {self.marca} {self.modelo} acelera a {self.velocidad} km/h\")\n",
    "\n",
    "    def girar(self, direccion):\n",
    "        print(f\"El vehículo {self.marca} {self.modelo} gira hacia {direccion}.\")\n",
    "\n",
    "    def frenar(self, decremento):\n",
    "        if self.velocidad - decremento > 0:\n",
    "            self.velocidad -= decremento\n",
    "            print(f\"El vehículo {self.marca} {self.modelo} frena a {self.velocidad} km/h\")\n",
    "        else:\n",
    "            print(\"El vehículo ya está detenido.\")\n",
    "\n",
    "    def estacionar(self):\n",
    "        print(f\"El vehículo {self.marca} {self.modelo} está estacionado.\")\n"
   ]
  },
  {
   "cell_type": "code",
   "execution_count": 23,
   "id": "625a66cd-37c9-4f34-beed-878e0bdd29b1",
   "metadata": {},
   "outputs": [
    {
     "name": "stdout",
     "output_type": "stream",
     "text": [
      "Marca: Toyota \n",
      "Modelo: Corolla \n",
      "Color: rojo\n",
      "El vehículo Toyota Corolla acelera a 50 km/h\n",
      "El vehículo Toyota Corolla gira hacia izquierda.\n",
      "El vehículo Toyota Corolla frena a 30 km/h\n",
      "El vehículo Toyota Corolla está estacionado.\n"
     ]
    }
   ],
   "source": [
    "vehiculo1 = Vehiculo(\"Toyota\", \"Corolla\", \"rojo\")\n",
    "print(vehiculo1)\n",
    "vehiculo1.acelerar(50)\n",
    "vehiculo1.girar(\"izquierda\")\n",
    "vehiculo1.frenar(20)\n",
    "vehiculo1.estacionar()"
   ]
  },
  {
   "cell_type": "code",
   "execution_count": 24,
   "id": "583321a3-a680-406f-b267-eacbf33cb8e8",
   "metadata": {},
   "outputs": [
    {
     "name": "stdout",
     "output_type": "stream",
     "text": [
      "Marca: Ford \n",
      "Modelo: Fiesta \n",
      "Color: azul\n",
      "El vehículo Ford Fiesta acelera a 60 km/h\n",
      "El vehículo Ford Fiesta gira hacia derecha.\n",
      "El vehículo ya está detenido.\n"
     ]
    }
   ],
   "source": [
    "vehiculo2 = Vehiculo(\"Ford\", \"Fiesta\", \"azul\", 30)\n",
    "print(vehiculo2)\n",
    "vehiculo2.acelerar(30)\n",
    "vehiculo2.girar(\"derecha\")\n",
    "vehiculo2.frenar(60)"
   ]
  },
  {
   "cell_type": "markdown",
   "id": "f4dee5a9-5a07-4229-8abe-1b3e50bfb191",
   "metadata": {},
   "source": [
    "### Ejercicio 1.6"
   ]
  },
  {
   "cell_type": "markdown",
   "id": "eddae14e-cab3-40c7-896f-96a028c63488",
   "metadata": {},
   "source": [
    "En caso de que querramos que los atributos de nuestra clase no puedan ser ni accedidos ni modificados una vez que nuestro objeto sea creado debemos aplicar los principios del encapsulamiento. Los cuales simplemente requieren usar __ adelante de los valores de nuestros atributos en la función init()"
   ]
  },
  {
   "cell_type": "markdown",
   "id": "a07b023e-34d9-4944-aeeb-998272db7e38",
   "metadata": {},
   "source": [
    "Crearemos una clase Empleado, el cual siga los principios de encapsulamiento para sus atributos nombre, apellido, puesto y activo. Recordemos que podemos crear métodos en caso de querer mostrar los atributos uno a uno o directamente con str."
   ]
  },
  {
   "cell_type": "code",
   "execution_count": 25,
   "id": "15e8293c-b61d-4909-a7ee-1eab66dcea9b",
   "metadata": {},
   "outputs": [],
   "source": [
    "class Empleado():\n",
    "    def __init__(self, nombre, apellido, puesto, activo = True):\n",
    "        self.__nombre = nombre\n",
    "        self.__apellido = apellido\n",
    "        self.__puesto = puesto\n",
    "        self.activo = activo\n",
    "\n",
    "    def __str__(self):\n",
    "        return f\"Nombre {self.__nombre} \\nApellido: {self.__apellido} \\nPuesto: {self.__puesto} \\nActivo: {self.activo}\"\n",
    "\n",
    "    def showNombre(self):\n",
    "        print(self.__nombre)\n",
    "\n",
    "    def showApellido(self):\n",
    "        print(self.__apellido)\n",
    "\n",
    "    def showPuesto(self):\n",
    "        print(self.__puesto)"
   ]
  },
  {
   "cell_type": "code",
   "execution_count": 26,
   "id": "41f3b5c4-a97c-40c1-8dd3-94273e7ab374",
   "metadata": {},
   "outputs": [
    {
     "name": "stdout",
     "output_type": "stream",
     "text": [
      "Nombre Andres \n",
      "Apellido: Muñoz \n",
      "Puesto: profesor \n",
      "Activo: True\n"
     ]
    }
   ],
   "source": [
    "empleado1 = Empleado(\"Andres\", \"Muñoz\", \"profesor\") #Creamos el objeto \n",
    "print(empleado1) #Usamos __str__ para mostrar todos los valores"
   ]
  },
  {
   "cell_type": "markdown",
   "id": "64b6c969-c9d0-469e-832d-7a6581e49760",
   "metadata": {},
   "source": [
    "Si quisieramos acceder directamente o ver los atributos nombre, apellido o puesto no podríamos. Solo podemos con activo."
   ]
  },
  {
   "cell_type": "code",
   "execution_count": 27,
   "id": "ad08bee3-acff-4b99-909f-39982ac36a45",
   "metadata": {},
   "outputs": [
    {
     "ename": "AttributeError",
     "evalue": "'Empleado' object has no attribute 'nombre'",
     "output_type": "error",
     "traceback": [
      "\u001b[1;31m---------------------------------------------------------------------------\u001b[0m",
      "\u001b[1;31mAttributeError\u001b[0m                            Traceback (most recent call last)",
      "Cell \u001b[1;32mIn[27], line 1\u001b[0m\n\u001b[1;32m----> 1\u001b[0m empleado1\u001b[38;5;241m.\u001b[39mnombre\n",
      "\u001b[1;31mAttributeError\u001b[0m: 'Empleado' object has no attribute 'nombre'"
     ]
    }
   ],
   "source": [
    "empleado1.nombre #No podemos acceder a nombre"
   ]
  },
  {
   "cell_type": "code",
   "execution_count": 28,
   "id": "7dde81ad-871d-4780-b294-110095fb9fa4",
   "metadata": {},
   "outputs": [
    {
     "ename": "AttributeError",
     "evalue": "'Empleado' object has no attribute 'apellido'",
     "output_type": "error",
     "traceback": [
      "\u001b[1;31m---------------------------------------------------------------------------\u001b[0m",
      "\u001b[1;31mAttributeError\u001b[0m                            Traceback (most recent call last)",
      "Cell \u001b[1;32mIn[28], line 1\u001b[0m\n\u001b[1;32m----> 1\u001b[0m empleado1\u001b[38;5;241m.\u001b[39mapellido\n",
      "\u001b[1;31mAttributeError\u001b[0m: 'Empleado' object has no attribute 'apellido'"
     ]
    }
   ],
   "source": [
    "empleado1.apellido #No podemos acceder a apellido"
   ]
  },
  {
   "cell_type": "code",
   "execution_count": 29,
   "id": "0241bb39-8db7-4c59-a5c9-4cd89dbd0ded",
   "metadata": {},
   "outputs": [
    {
     "ename": "NameError",
     "evalue": "name 'empleado' is not defined",
     "output_type": "error",
     "traceback": [
      "\u001b[1;31m---------------------------------------------------------------------------\u001b[0m",
      "\u001b[1;31mNameError\u001b[0m                                 Traceback (most recent call last)",
      "Cell \u001b[1;32mIn[29], line 1\u001b[0m\n\u001b[1;32m----> 1\u001b[0m empleado\u001b[38;5;241m.\u001b[39mpuesto\n",
      "\u001b[1;31mNameError\u001b[0m: name 'empleado' is not defined"
     ]
    }
   ],
   "source": [
    "empleado.puesto #No podemos acceder a puesto"
   ]
  },
  {
   "cell_type": "code",
   "execution_count": 30,
   "id": "ebf56cfc-41c3-46ae-8db0-299d35cd95d4",
   "metadata": {},
   "outputs": [
    {
     "data": {
      "text/plain": [
       "True"
      ]
     },
     "execution_count": 30,
     "metadata": {},
     "output_type": "execute_result"
    }
   ],
   "source": [
    "empleado1.activo #Podemos ver activo"
   ]
  },
  {
   "cell_type": "markdown",
   "id": "e6f7aa3b-ff3f-441b-a24e-d883184fd16c",
   "metadata": {},
   "source": [
    "Tenemos que usar nuestras funciones creadas"
   ]
  },
  {
   "cell_type": "code",
   "execution_count": 31,
   "id": "458f3bdd-eb92-40cd-8a02-00b1f62e7bde",
   "metadata": {},
   "outputs": [
    {
     "name": "stdout",
     "output_type": "stream",
     "text": [
      "Andres\n",
      "Muñoz\n",
      "profesor\n"
     ]
    }
   ],
   "source": [
    "empleado1.showNombre()\n",
    "empleado1.showApellido()\n",
    "empleado1.showPuesto()"
   ]
  },
  {
   "cell_type": "markdown",
   "id": "9b0fd70d-93ad-41e5-9468-90966408b4fe",
   "metadata": {},
   "source": [
    "### Ejercicio 1.7"
   ]
  },
  {
   "cell_type": "markdown",
   "id": "ea1cd520-b566-4320-a0ef-c1eaeece03c1",
   "metadata": {},
   "source": [
    "En Python se puede usar la herencia entre clases, la cual nos permite crear clases a partir de otras clases, heredando sus métodos y atributos, pudiendo sobreescribirlos."
   ]
  },
  {
   "cell_type": "markdown",
   "id": "eee0ecfa-528b-4ebc-a6ec-eb0ef4a78ad3",
   "metadata": {},
   "source": [
    "Crearemos una clase padre llamada Animal con atributos:\n",
    "- Clase\n",
    "- Especie\n",
    "- Tipo"
   ]
  },
  {
   "cell_type": "markdown",
   "id": "a290098d-980a-46b4-b9fd-70d49eb9fcf0",
   "metadata": {},
   "source": [
    "Una clase hija llamada Perro, la cual también tenga los atributos:\n",
    "- Nombre"
   ]
  },
  {
   "cell_type": "markdown",
   "id": "ba75293d-aeb0-4a2a-854f-a700cd8eeac5",
   "metadata": {},
   "source": [
    "Y un método: \n",
    "- Dar la pata"
   ]
  },
  {
   "cell_type": "code",
   "execution_count": 32,
   "id": "9f48698c-2182-47ba-86ee-dff1448e7ff1",
   "metadata": {},
   "outputs": [],
   "source": [
    "class Animal:\n",
    "    def __init__(self, clase, especie, tipo):\n",
    "        self.clase = clase\n",
    "        self.especie = especie\n",
    "        self.tipo = tipo\n",
    "    def __str__(self):\n",
    "        return f\"Clase: {self.clase}, Especie: {self.especie}, Tipo: {self.tipo}\""
   ]
  },
  {
   "cell_type": "code",
   "execution_count": 33,
   "id": "8913d64c-3e7d-4ce4-94f1-bab043067406",
   "metadata": {},
   "outputs": [
    {
     "name": "stdout",
     "output_type": "stream",
     "text": [
      "Clase: Mamífero, Especie: Roedor, Tipo: Salvaje\n"
     ]
    }
   ],
   "source": [
    "raton = Animal(\"Mamífero\", \"Roedor\", \"Salvaje\") #Creamos un objeto a partir de la clase Animal\n",
    "print(raton)"
   ]
  },
  {
   "cell_type": "code",
   "execution_count": 35,
   "id": "9c5dcc58-3398-4613-af5e-08cd447c908f",
   "metadata": {},
   "outputs": [],
   "source": [
    "class Perro(Animal):\n",
    "    def __init__(self, clase, especie, tipo, nombre):\n",
    "        super().__init__(clase, especie, tipo)\n",
    "        self.nombre = nombre\n",
    "\n",
    "    def __str__(self):\n",
    "        return f\"Nombre: {self.nombre}, Clase: {self.clase}, Especie: {self.especie}, Tipo: {self.tipo}\"\n",
    "\n",
    "    def dar_la_pata(self):\n",
    "        return f\"{self.nombre} da la pata.\""
   ]
  },
  {
   "cell_type": "code",
   "execution_count": 36,
   "id": "72d56e8d-7145-4e0a-b046-b40c4f619e6b",
   "metadata": {},
   "outputs": [
    {
     "name": "stdout",
     "output_type": "stream",
     "text": [
      "Nombre: Fatiga, Clase: Mamífero, Especie: Canino, Tipo: Doméstico\n"
     ]
    }
   ],
   "source": [
    "perro = Perro(\"Mamífero\", \"Canino\", \"Doméstico\", \"Fatiga\")\n",
    "print(perro)"
   ]
  },
  {
   "cell_type": "code",
   "execution_count": 37,
   "id": "996bef5d-aa9b-46cc-9eef-c13fefc6dba1",
   "metadata": {},
   "outputs": [],
   "source": [
    "class Gallina(Animal):\n",
    "    def __init__(self, clase, especie, tipo, huevo = False):\n",
    "        super().__init__(clase, especie, tipo)\n",
    "        self.huevo = huevo\n",
    "\n",
    "    def __str__(self):\n",
    "        return f\"Clase: {self.clase}, Especie: {self.especie}, Tipo: {self.tipo}, ¿Puso un huevo hoy?: {self.huevo}\"\n",
    "\n",
    "    def tortilla(self):\n",
    "        if self.huevo:\n",
    "            print(\"Ya puso un huevo, puede hacer una tortilla\")\n",
    "        else:\n",
    "            print(\"Aún no puso un huevo\")"
   ]
  },
  {
   "cell_type": "code",
   "execution_count": 38,
   "id": "f6414d6d-e33e-4fc7-9579-241eb876b577",
   "metadata": {},
   "outputs": [
    {
     "name": "stdout",
     "output_type": "stream",
     "text": [
      "Clase: Ave, Especie: Galline, Tipo: Granja, ¿Puso un huevo hoy?: False\n",
      "Aún no puso un huevo\n"
     ]
    }
   ],
   "source": [
    "gallina = Gallina(\"Ave\", \"Galline\", \"Granja\", False)\n",
    "print(gallina)\n",
    "gallina.tortilla()"
   ]
  },
  {
   "cell_type": "markdown",
   "id": "31d7aa7a-c4af-44d0-8e83-ebae1389b135",
   "metadata": {},
   "source": [
    "### Ejercicio 1.8"
   ]
  },
  {
   "cell_type": "markdown",
   "id": "03217dea-b5de-4112-986b-689c472d4d43",
   "metadata": {},
   "source": [
    "El polimorfimo en Python permite que objetos de diferentes clases respondan al mismo método o función de manera diferente. "
   ]
  },
  {
   "cell_type": "markdown",
   "id": "54bc0662-81ad-4c8b-b976-abdfeb5a54ec",
   "metadata": {},
   "source": [
    "Podemos usar un método con el mismo nombre en diferentes clases y cada una lo implementará de manera específica según sus necesidad."
   ]
  },
  {
   "cell_type": "markdown",
   "id": "c2adb8c1-41fc-4b9b-855d-3a6056cff262",
   "metadata": {},
   "source": [
    "Veamos un ejemplo usando figuras geométricas."
   ]
  },
  {
   "cell_type": "code",
   "execution_count": 39,
   "id": "d1669caf-218a-4c9f-9bd0-7559fe86550e",
   "metadata": {},
   "outputs": [],
   "source": [
    "class Rectangulo:\n",
    "    def __init__(self, base, altura):\n",
    "        self.base = base\n",
    "        self.altura = altura\n",
    "\n",
    "    def calcular_area(self):\n",
    "        return self.base * self.altura"
   ]
  },
  {
   "cell_type": "code",
   "execution_count": 40,
   "id": "1a10bb02-241a-4415-b1c1-3ea0f94b1c69",
   "metadata": {},
   "outputs": [],
   "source": [
    "class Triangulo:\n",
    "    def __init__(self, base, altura):\n",
    "        self.base = base\n",
    "        self.altura = altura\n",
    "\n",
    "    def calcular_area(self):\n",
    "        return 0.5 * self.base * self.altura"
   ]
  },
  {
   "cell_type": "code",
   "execution_count": 41,
   "id": "703235b3-e0fd-404c-86e4-4f49b5879c1c",
   "metadata": {},
   "outputs": [],
   "source": [
    "class Circulo:\n",
    "    def __init__(self, radio):\n",
    "        self.radio = radio\n",
    "\n",
    "    def calcular_area(self):\n",
    "        return 3.14 * self.radio ** 2"
   ]
  },
  {
   "cell_type": "code",
   "execution_count": 42,
   "id": "b635b006-13ac-4144-b6c4-0b050a2f0ce4",
   "metadata": {},
   "outputs": [],
   "source": [
    "def imprimir_area(forma):\n",
    "    print(f\"El área de la forma geométrica es: {forma.calcular_area()}\")"
   ]
  },
  {
   "cell_type": "code",
   "execution_count": 43,
   "id": "fa98ad05-9f8e-4e7c-9371-1ba92fe3eb61",
   "metadata": {},
   "outputs": [
    {
     "name": "stdout",
     "output_type": "stream",
     "text": [
      "El área de la forma geométrica es: 50\n",
      "El área de la forma geométrica es: 24.0\n",
      "El área de la forma geométrica es: 50.24\n"
     ]
    }
   ],
   "source": [
    "rectangulo = Rectangulo(5, 10)\n",
    "triangulo = Triangulo(6, 8)\n",
    "circulo = Circulo(4)\n",
    "\n",
    "imprimir_area(rectangulo)\n",
    "imprimir_area(triangulo)\n",
    "imprimir_area(circulo)"
   ]
  },
  {
   "cell_type": "markdown",
   "id": "9669be7c-3795-4561-a27f-db0bec01189e",
   "metadata": {},
   "source": [
    "### Ejercicio 1.9"
   ]
  },
  {
   "cell_type": "markdown",
   "id": "c5314c61-7c13-4b63-94a4-e56204e5d781",
   "metadata": {},
   "source": [
    "Crearemos un código correspondiente a la consigna del ejercicio propuesto en la ppt de la clase del día."
   ]
  },
  {
   "cell_type": "markdown",
   "id": "86b043d2-fbdb-49be-89e5-d1210713e696",
   "metadata": {},
   "source": [
    "Nota: getter y setter es una convención utilizada para decir que son los atributos que permiten:\n",
    "- getter -> retornar el valor de un atributo\n",
    "- setter -> editar el valor de un atributo"
   ]
  },
  {
   "cell_type": "code",
   "execution_count": 1,
   "id": "75ce0836-2629-44b4-b8b4-4175ef8ddd27",
   "metadata": {},
   "outputs": [],
   "source": [
    "class MaterialBibliografico: #Creamos la clase padre de todos con sus atributos\n",
    "    def __init__(self, titulo, autor, anio_publicacion):\n",
    "        self.__titulo = titulo\n",
    "        self.__autor = autor \n",
    "        self.__anio_publicacion = anio_publicacion\n",
    "\n",
    "    #Métodos getter y setter\n",
    "    def get_titulo(self):\n",
    "        return self.__titulo\n",
    "\n",
    "    def set_titulo(self, titulo):\n",
    "        self.__titulo = titulo\n",
    "\n",
    "    def get_autor(self):\n",
    "        return self.__autor\n",
    "\n",
    "    def set_autor(self, autor):\n",
    "        self.__autor = autor\n",
    "\n",
    "    def get_anio_publicacion(self):\n",
    "        return self.__anio_publicacion\n",
    "\n",
    "    def set_anio_publicacion(self, anio_publicacion):\n",
    "        self.__anio_publicacion = anio_publicacion\n"
   ]
  },
  {
   "cell_type": "code",
   "execution_count": 2,
   "id": "40faedb1-2f41-4c54-8c50-21f2d379061b",
   "metadata": {},
   "outputs": [],
   "source": [
    "class Libro(MaterialBibliografico): #Creamos una clase específica para libros\n",
    "    def __init__(self, titulo, autor, anio_publicacion, isbn):\n",
    "        super().__init__(titulo, autor, anio_publicacion)\n",
    "        self.__isbn = isbn #ISBN (International Standard Book Number)\n",
    "\n",
    "    #Métodos getter y setter para atributos específicos \n",
    "    def get_isbn(self):\n",
    "        return self.__isbn\n",
    "\n",
    "    def set_isbn(self, isbn):\n",
    "        self.__isbn = isbn"
   ]
  },
  {
   "cell_type": "code",
   "execution_count": 3,
   "id": "7c151af6-30c9-4f45-91e2-09bd1c8cced7",
   "metadata": {},
   "outputs": [],
   "source": [
    "class Revista(MaterialBibliografico): #Creamos una clase específica para Revistas\n",
    "    def __init__(self, titulo, autor, anio_publicacion, categoria):\n",
    "        super().__init__(titulo, autor, anio_publicacion)\n",
    "        self.__categoria = categoria\n",
    "\n",
    "    #Métodos getter y setter para atributos específicos \n",
    "    def get_categoria(self):\n",
    "        return self.__categoria\n",
    "\n",
    "    def set_categoria(self, categoria):\n",
    "        self.__categoria = categoria"
   ]
  },
  {
   "cell_type": "code",
   "execution_count": 11,
   "id": "4fdb35a7-84fa-4956-a5ca-ac22381a84fc",
   "metadata": {},
   "outputs": [],
   "source": [
    "class DVD(MaterialBibliografico): #Creamos una clase específica para DVDs\n",
    "    def __init__(self, titulo, autor, anio_publicacion, blu_ray = False):\n",
    "        super().__init__(titulo, autor, anio_publicacion)\n",
    "        self.__blu_ray = blu_ray\n",
    "\n",
    "    #Métodos getter y setter para atributos específicos \n",
    "    def get_blu_ray(self):\n",
    "        return self.__blu_ray\n",
    "\n",
    "    def set_blu_ray(self, blu_ray):\n",
    "        self.__blu_ray = blu_ray"
   ]
  },
  {
   "cell_type": "code",
   "execution_count": 12,
   "id": "a10d202b-a73b-410b-8111-f377057ea9cd",
   "metadata": {},
   "outputs": [],
   "source": [
    "class BibliotecaItem: #Creamos nuestra biblioteca\n",
    "    def __init__(self, material_bibliografico):\n",
    "        self.material_bibliografico = material_bibliografico"
   ]
  },
  {
   "cell_type": "code",
   "execution_count": 13,
   "id": "2bfd2237-8066-4674-af83-1cd9f4cf6ed9",
   "metadata": {},
   "outputs": [],
   "source": [
    "#Crear objetos de Libro, Revista y DVD\n",
    "libro1 = Libro(\"El código Da Vinci\", \"Dan Brown\", 2003, \"9780307474278\")\n",
    "revista1 = Revista(\"Hola\", \"La Nación\", 2024, \"Moda\")\n",
    "DVD1 = DVD(\"Shrek\", \"Andrew Adamson\", 2021, True)"
   ]
  },
  {
   "cell_type": "code",
   "execution_count": 14,
   "id": "3357debc-d657-4b38-b82c-6183830248d4",
   "metadata": {},
   "outputs": [],
   "source": [
    "# Agregar los objetos a una lista de BibliotecaItem\n",
    "biblioteca = [\n",
    "    BibliotecaItem(libro1),\n",
    "    BibliotecaItem(revista1),\n",
    "    BibliotecaItem(DVD1)\n",
    "]"
   ]
  },
  {
   "cell_type": "code",
   "execution_count": 15,
   "id": "41f81fd5-9fce-40c1-b61f-6e790767f885",
   "metadata": {},
   "outputs": [
    {
     "name": "stdout",
     "output_type": "stream",
     "text": [
      "Título: El código Da Vinci, Autor: Dan Brown, Año de Publicación: 2003\n",
      "Título: Hola, Autor: La Nación, Año de Publicación: 2024\n",
      "Título: Shrek, Autor: Andrew Adamson, Año de Publicación: 2021\n"
     ]
    }
   ],
   "source": [
    "for item in biblioteca:\n",
    "    material = item.material_bibliografico\n",
    "    print(f\"Título: {material.get_titulo()}, Autor: {material.get_autor()}, Año de Publicación: {material.get_anio_publicacion()}\")"
   ]
  },
  {
   "cell_type": "code",
   "execution_count": null,
   "id": "0f103474-d2be-47b1-9480-a61f0f8c112e",
   "metadata": {},
   "outputs": [],
   "source": []
  }
 ],
 "metadata": {
  "kernelspec": {
   "display_name": "Python 3 (ipykernel)",
   "language": "python",
   "name": "python3"
  },
  "language_info": {
   "codemirror_mode": {
    "name": "ipython",
    "version": 3
   },
   "file_extension": ".py",
   "mimetype": "text/x-python",
   "name": "python",
   "nbconvert_exporter": "python",
   "pygments_lexer": "ipython3",
   "version": "3.11.7"
  }
 },
 "nbformat": 4,
 "nbformat_minor": 5
}
