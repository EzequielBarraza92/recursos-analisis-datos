{
 "cells": [
  {
   "cell_type": "markdown",
   "id": "a767a0a9-aa91-4175-8e72-71ea83d9da1c",
   "metadata": {},
   "source": [
    "# Introducción al trabajo con módulos"
   ]
  },
  {
   "cell_type": "markdown",
   "id": "19f01638-9b35-41a1-b4d0-5e4d5c769d44",
   "metadata": {},
   "source": [
    "Los módulos en Python son como cajas de herramientas que contienen conjuntos de funciones y variables que pueden ser utilizadas para realizar tareas específicas."
   ]
  },
  {
   "cell_type": "markdown",
   "id": "e942402f-10df-40a8-ba23-2f7f28d348ad",
   "metadata": {},
   "source": [
    "Estos compartimentos organizados guardan diferentes herramientas para hacer diferentes trabajos."
   ]
  },
  {
   "cell_type": "markdown",
   "id": "1bfed525-1eeb-49bb-8347-41999d119a43",
   "metadata": {},
   "source": [
    "Se puede usar estos módulos simplemente llamándolos en tu programa cuando los necesites, y así aprovechar todas las funcionalidades que ofrecen sin tener que volver a escribir todo el código desde cero. "
   ]
  },
  {
   "cell_type": "markdown",
   "id": "86aee4af-85e9-419b-bd5c-549473656ba8",
   "metadata": {},
   "source": [
    "Para importar cualquier módulo es muy simple:\n",
    "\n",
    "import < nombre_modulo >"
   ]
  },
  {
   "cell_type": "markdown",
   "id": "405ecd3c-2cb7-40b9-aefd-4ef8832a91bb",
   "metadata": {},
   "source": [
    "Podemos asignarle un alias al importarlo:\n",
    "\n",
    "import < nombre_modulo > as < alias >"
   ]
  },
  {
   "cell_type": "markdown",
   "id": "eac3b595-13e0-4085-ba08-fb439902a023",
   "metadata": {},
   "source": [
    "O si vamos a utilizar solo una parte de todo el módulo y no queremos sobrecargar la memoria con cosas innecesarias podemos importar un paquete en particular:\n",
    "\n",
    "from < nombre_modulo > import < nombre_paquete > as < alias > (opcional)"
   ]
  },
  {
   "cell_type": "markdown",
   "id": "e350d857-0e74-4d75-8daa-c992ab1773ce",
   "metadata": {},
   "source": [
    "## Instalar módulos"
   ]
  },
  {
   "cell_type": "markdown",
   "id": "34f5c87e-83ec-4f3f-83e9-fd375ba0df51",
   "metadata": {},
   "source": [
    "A la hora de trabajar con módulos es posible que no los tengamos instaladas ya que muchos son creados por la comunidad o simplemente no están incluidos con los archivos base de Python.\n",
    "\n",
    "Para ello podemos usar pip:\n",
    "- En la terminal(local): pip install < nombre_modulo >\n",
    "- En colab ejecutar en una celda: !pip install < nombre_modulo >"
   ]
  },
  {
   "cell_type": "markdown",
   "id": "37500c5d-6359-4d35-adf0-6f0e855ec6b4",
   "metadata": {},
   "source": [
    "## Math"
   ]
  },
  {
   "cell_type": "markdown",
   "id": "51deda5d-ac82-49c7-9f52-e3a0098095db",
   "metadata": {},
   "source": [
    "El módulo math en Python se utiliza para realizar operaciones matemáticas más avanzadas que las disponibles en el conjunto de funciones y permite utilizar constantes matemáticas básicas para manejar problemas más complejos que requieren operaciones matemáticas avanzadas.\n",
    "\n",
    "Incluy funciones para:\n",
    "- Realizar cálculos trigonométricos\n",
    "- Operaciones de álgebra linear\n",
    "- Funciones exponenciales y logarítmicas"
   ]
  },
  {
   "cell_type": "markdown",
   "id": "b041e76a-f821-4883-af0e-8c2a259232f8",
   "metadata": {},
   "source": [
    "### Ejercicio 1.0"
   ]
  },
  {
   "cell_type": "markdown",
   "id": "3a5a1246-6b01-4a59-9842-3215e0bc5c4e",
   "metadata": {},
   "source": [
    "Importar el módulo math"
   ]
  },
  {
   "cell_type": "code",
   "execution_count": 1,
   "id": "b46dd0dd-205a-4183-a6d4-3b13a3e92169",
   "metadata": {},
   "outputs": [],
   "source": [
    "import math"
   ]
  },
  {
   "cell_type": "markdown",
   "id": "ab2fbbe0-b145-4b1b-bdbe-60018713f915",
   "metadata": {},
   "source": [
    "### Ejercicio 1.1"
   ]
  },
  {
   "cell_type": "markdown",
   "id": "6fedd370-e87a-4499-9237-7365c21855a7",
   "metadata": {},
   "source": [
    "Calculadora de Área de un Círculo"
   ]
  },
  {
   "cell_type": "code",
   "execution_count": 2,
   "id": "298e0d22-d87f-41c8-b25d-77559f915116",
   "metadata": {},
   "outputs": [
    {
     "name": "stdin",
     "output_type": "stream",
     "text": [
      "Ingrese el radio del círculo:  5\n"
     ]
    },
    {
     "name": "stdout",
     "output_type": "stream",
     "text": [
      "El área del círculo es:  78.53981633974483\n"
     ]
    }
   ],
   "source": [
    "radio = float(input(\"Ingrese el radio del círculo: \"))\n",
    "area = math.pi * radio ** 2\n",
    "print(\"El área del círculo es: \", area)"
   ]
  },
  {
   "cell_type": "markdown",
   "id": "f0571166-b3e5-4153-9c2b-0ccbed0ab1ab",
   "metadata": {},
   "source": [
    "### Ejercicio 1.2 "
   ]
  },
  {
   "cell_type": "markdown",
   "id": "8f2b23ac-acd1-4d4b-acc7-62797394301b",
   "metadata": {},
   "source": [
    "Calculadora de Hipotenusa "
   ]
  },
  {
   "cell_type": "code",
   "execution_count": 3,
   "id": "0d6a9808-a063-47fd-b5bb-d54d667a0d85",
   "metadata": {},
   "outputs": [
    {
     "name": "stdin",
     "output_type": "stream",
     "text": [
      "Ingrese la longitud del primer cateto:  3\n",
      "Ingrese la longitud del segundo cateto:  4\n"
     ]
    },
    {
     "name": "stdout",
     "output_type": "stream",
     "text": [
      "La longitud de la hipotenusa es:  5.0\n"
     ]
    }
   ],
   "source": [
    "cateto1 = float(input(\"Ingrese la longitud del primer cateto: \"))\n",
    "cateto2 = float(input(\"Ingrese la longitud del segundo cateto: \"))\n",
    "hipotenusa = math.sqrt(cateto1 ** 2 + cateto2 ** 2)\n",
    "print(\"La longitud de la hipotenusa es: \", hipotenusa)"
   ]
  },
  {
   "cell_type": "markdown",
   "id": "5cde57b2-a743-47a5-b559-142f00684afc",
   "metadata": {},
   "source": [
    "### Ejercicio 1.3"
   ]
  },
  {
   "cell_type": "markdown",
   "id": "559195e7-1ee6-4321-be12-6bb865094d23",
   "metadata": {},
   "source": [
    "Calculadora seno, coseno y tangente"
   ]
  },
  {
   "cell_type": "code",
   "execution_count": 4,
   "id": "549fa542-6e84-47c8-b50a-3a5e31ab92f3",
   "metadata": {},
   "outputs": [
    {
     "name": "stdin",
     "output_type": "stream",
     "text": [
      "Ingrese el ángulo en grados:  20\n"
     ]
    },
    {
     "name": "stdout",
     "output_type": "stream",
     "text": [
      "Seno:  0.3420201433256687\n",
      "Coseno:  0.9396926207859084\n",
      "Tangente:  0.36397023426620234\n"
     ]
    }
   ],
   "source": [
    "angulo_grados = float(input(\"Ingrese el ángulo en grados: \"))\n",
    "angulo_radianes = math.radians(angulo_grados)\n",
    "\n",
    "seno = math.sin(angulo_radianes)\n",
    "coseno = math.cos(angulo_radianes)\n",
    "tangente = math. tan(angulo_radianes)\n",
    "\n",
    "print(\"Seno: \", seno)\n",
    "print(\"Coseno: \", coseno)\n",
    "print(\"Tangente: \", tangente)"
   ]
  },
  {
   "cell_type": "markdown",
   "id": "84e56e37-4e8b-4203-97aa-e177a8ae0ce1",
   "metadata": {},
   "source": [
    "### Ejercicio 1.4"
   ]
  },
  {
   "cell_type": "markdown",
   "id": "3490f45e-e04c-45aa-96f5-6eafd60ade45",
   "metadata": {},
   "source": [
    "Cálculo de potencias"
   ]
  },
  {
   "cell_type": "code",
   "execution_count": 5,
   "id": "07dea2df-baa3-4ca8-9259-57f9c78003b7",
   "metadata": {},
   "outputs": [
    {
     "name": "stdin",
     "output_type": "stream",
     "text": [
      "Ingrese la base:  3\n",
      "Ingrese el exponente:  -6\n"
     ]
    },
    {
     "name": "stdout",
     "output_type": "stream",
     "text": [
      "El resultado de  3.0  elevado a la  -6.0  es  0.0013717421124828531\n"
     ]
    }
   ],
   "source": [
    "base = float(input(\"Ingrese la base: \"))\n",
    "exponente =float(input(\"Ingrese el exponente: \"))\n",
    "resultado = math.pow(base, exponente)\n",
    "print(\"El resultado de \", base, \" elevado a la \", exponente, \" es \", resultado)"
   ]
  },
  {
   "cell_type": "markdown",
   "id": "5e2121eb-11b4-4df2-997e-30925f7cb842",
   "metadata": {},
   "source": [
    "### Ejercicio 1.5 "
   ]
  },
  {
   "cell_type": "markdown",
   "id": "48749b1b-fa05-422a-935b-3ea984d97338",
   "metadata": {},
   "source": [
    "Área de un triángulo (fórmula de Herón)"
   ]
  },
  {
   "cell_type": "code",
   "execution_count": 7,
   "id": "03a81a64-7bdc-4269-989e-c5ca58340d90",
   "metadata": {},
   "outputs": [
    {
     "name": "stdout",
     "output_type": "stream",
     "text": [
      "El área del triángulo es:  14.696938456699069\n"
     ]
    }
   ],
   "source": [
    "lado1 = 5\n",
    "lado2 = 6\n",
    "lado3 = 7\n",
    "\n",
    "s = (lado1 + lado2 + lado3) / 2\n",
    "\n",
    "area = math.sqrt(s*(s - lado1) * (s - lado2) * (s - lado3))\n",
    "print(\"El área del triángulo es: \", area)"
   ]
  },
  {
   "cell_type": "markdown",
   "id": "4344a432-ccef-41a5-bd72-3905777bb6ff",
   "metadata": {},
   "source": [
    "### Ejercicio 1.6"
   ]
  },
  {
   "cell_type": "markdown",
   "id": "229e2ea0-cbf1-48cf-8c01-e73bedfc5d15",
   "metadata": {},
   "source": [
    "Suma de una serie infinita (π/4 = 1 - 1/3 + 1/5 - 1/7 + 1/9 - ...) "
   ]
  },
  {
   "cell_type": "code",
   "execution_count": 8,
   "id": "555470ef-20f0-43e6-b013-db48155cb9e6",
   "metadata": {},
   "outputs": [
    {
     "name": "stdout",
     "output_type": "stream",
     "text": [
      "El valor de π aproximado es:  3.140592653839794\n"
     ]
    }
   ],
   "source": [
    "suma = 0 \n",
    "terminos = 1000\n",
    "\n",
    "for i in range(terminos):\n",
    "    suma += (-1) ** i / (2 * i + 1)\n",
    "\n",
    "pi = 4 * suma\n",
    "print(\"El valor de π aproximado es: \", pi)"
   ]
  },
  {
   "cell_type": "markdown",
   "id": "afd15bdf-c788-4f8b-9be9-f42ebacef7d2",
   "metadata": {},
   "source": [
    "## NumPy"
   ]
  },
  {
   "cell_type": "markdown",
   "id": "d01afe77-e5d2-425a-b25f-c414e5fc5c59",
   "metadata": {},
   "source": [
    "NumPy es una biblioteca de Python que ayuda a trabajar con matrices y arreglos multidimensionales.\n",
    "\n",
    "Con Numpy se puede realizar:\n",
    "- Multiplicación de matrices/arreglos\n",
    "- Inversión de matrices/arreglos\n",
    "- Cálculo de funciones trigonométricas\n",
    "- Procesamiento de datos\n",
    "- Manipulación de matrices grandes de manera rápida y eficiente."
   ]
  },
  {
   "cell_type": "markdown",
   "id": "fd7b5f8f-1d21-47bf-9d2f-7d442223c478",
   "metadata": {},
   "source": [
    "En resumen NumPy se usa para trabajar con datos numéricos en Python."
   ]
  },
  {
   "cell_type": "markdown",
   "id": "94cf045c-7e92-4a1a-ae1d-3704dbab1637",
   "metadata": {},
   "source": [
    "### Ejercicio 2.0"
   ]
  },
  {
   "cell_type": "markdown",
   "id": "a431035f-62e8-4b24-ab31-857d0f84c276",
   "metadata": {},
   "source": [
    "Importar NumPy pero usando el alias np"
   ]
  },
  {
   "cell_type": "code",
   "execution_count": 9,
   "id": "07937911-faf8-42a2-8823-c979ad211a21",
   "metadata": {},
   "outputs": [],
   "source": [
    "import numpy as np"
   ]
  },
  {
   "cell_type": "markdown",
   "id": "ec1971f7-8f51-4b9b-a175-cdebeed84cce",
   "metadata": {},
   "source": [
    "### Ejercicio 2.1"
   ]
  },
  {
   "cell_type": "markdown",
   "id": "025c8eb6-6f13-466a-a20e-a70f1047f5af",
   "metadata": {},
   "source": [
    "Veremos las operaciones básicas con arrays"
   ]
  },
  {
   "cell_type": "code",
   "execution_count": 11,
   "id": "46f568e4-5f61-44c0-a5b4-390f7dc58fd7",
   "metadata": {},
   "outputs": [
    {
     "name": "stdout",
     "output_type": "stream",
     "text": [
      "Suma:  [ 7  9 11 13 15]\n",
      "Resta:  [-5 -5 -5 -5 -5]\n",
      "Multiplicación:  [ 6 14 24 36 50]\n",
      "División:  [0.16666667 0.28571429 0.375      0.44444444 0.5       ]\n"
     ]
    }
   ],
   "source": [
    "array1 = np.array([1, 2, 3, 4, 5])\n",
    "array2 = np.array([6, 7, 8, 9, 10])\n",
    "\n",
    "suma = array1 + array2\n",
    "resta = array1 - array2\n",
    "multiplicacion = array1 * array2\n",
    "division = array1 / array2\n",
    "\n",
    "print(\"Suma: \", suma)\n",
    "print(\"Resta: \", resta)\n",
    "print(\"Multiplicación: \", multiplicacion)\n",
    "print(\"División: \", division)"
   ]
  },
  {
   "cell_type": "markdown",
   "id": "48be9c34-5f58-4581-bc0a-6b10ba62dac4",
   "metadata": {},
   "source": [
    "### Ejercicio 2.2"
   ]
  },
  {
   "cell_type": "markdown",
   "id": "014b3b08-3e69-4491-8f33-00425d9c84ae",
   "metadata": {},
   "source": [
    "Con NumPy es muy fácil crear matrices, por ejemplo la matriz de Identidad"
   ]
  },
  {
   "cell_type": "code",
   "execution_count": 12,
   "id": "dde93b4d-da9a-41e1-97ff-8f86d842c7cb",
   "metadata": {},
   "outputs": [
    {
     "name": "stdout",
     "output_type": "stream",
     "text": [
      "Matriz de identidad 5x5: \n",
      "[[1. 0. 0. 0. 0.]\n",
      " [0. 1. 0. 0. 0.]\n",
      " [0. 0. 1. 0. 0.]\n",
      " [0. 0. 0. 1. 0.]\n",
      " [0. 0. 0. 0. 1.]]\n"
     ]
    }
   ],
   "source": [
    "matriz_identidad = np.eye(5)\n",
    "print(\"Matriz de identidad 5x5: \")\n",
    "print(matriz_identidad)"
   ]
  },
  {
   "cell_type": "markdown",
   "id": "948215a7-c186-4310-90a0-14648b1e2f5c",
   "metadata": {},
   "source": [
    "### Ejercicio 2.3"
   ]
  },
  {
   "cell_type": "markdown",
   "id": "6176197a-8508-4337-b6cd-326b985388c8",
   "metadata": {},
   "source": [
    "Si trabajamos con vectores podemos calcular el producto escalar de estos"
   ]
  },
  {
   "cell_type": "code",
   "execution_count": 13,
   "id": "cf7abbdc-c55a-4431-bde6-84e624453a8a",
   "metadata": {},
   "outputs": [
    {
     "name": "stdout",
     "output_type": "stream",
     "text": [
      "Producto escalar:  32\n"
     ]
    }
   ],
   "source": [
    "vector1 = np.array([1, 2, 3])\n",
    "vector2 = np.array([4, 5, 6])\n",
    "\n",
    "producto_escalar = np.dot(vector1, vector2)\n",
    "print(\"Producto escalar: \", producto_escalar)"
   ]
  },
  {
   "cell_type": "markdown",
   "id": "cd9c6458-6f80-4fc7-94f8-3594f61c30e4",
   "metadata": {},
   "source": [
    "### Ejercicio 2.4"
   ]
  },
  {
   "cell_type": "markdown",
   "id": "edbc9b37-8902-40b2-a161-b4fcb5a7d5a2",
   "metadata": {},
   "source": [
    "Otra operación muy común es calcular el vector norma."
   ]
  },
  {
   "cell_type": "code",
   "execution_count": 14,
   "id": "686518be-4389-4daa-8b09-66de17e390cd",
   "metadata": {},
   "outputs": [
    {
     "name": "stdout",
     "output_type": "stream",
     "text": [
      "Norma del vector:  5.0\n"
     ]
    }
   ],
   "source": [
    "vector = np.array([3, 4])\n",
    "norma = np.linalg.norm(vector)\n",
    "print(\"Norma del vector: \", norma)"
   ]
  },
  {
   "cell_type": "markdown",
   "id": "5567304b-bbed-4a74-9d0d-157a18f232f5",
   "metadata": {},
   "source": [
    "### Ejercicio 2.5"
   ]
  },
  {
   "cell_type": "markdown",
   "id": "46830e71-1d41-40d3-a4a1-70188e735a50",
   "metadata": {},
   "source": [
    "De forma similar es posible realizar operaciones entre matrices usando NumPy."
   ]
  },
  {
   "cell_type": "code",
   "execution_count": 15,
   "id": "74c892da-b8c2-432a-81dc-38ef8a77b079",
   "metadata": {},
   "outputs": [
    {
     "name": "stdout",
     "output_type": "stream",
     "text": [
      "Producto matricial: \n",
      "[[19 22]\n",
      " [43 50]]\n",
      "Transpuesta de la matriz: \n",
      "[[1 3]\n",
      " [2 4]]\n",
      "Determinante de la matriz: \n",
      "-2.0000000000000004\n"
     ]
    }
   ],
   "source": [
    "matriz1 = np.array([[1, 2], [3, 4]])\n",
    "matriz2 = np.array([[5, 6], [7, 8]])\n",
    "\n",
    "producto_matricial = np.matmul(matriz1, matriz2)\n",
    "transpuesta = np.transpose(matriz1)\n",
    "determinante = np.linalg.det(matriz1)\n",
    "\n",
    "print(\"Producto matricial: \")\n",
    "print(producto_matricial)\n",
    "print(\"Transpuesta de la matriz: \")\n",
    "print(transpuesta)\n",
    "print(\"Determinante de la matriz: \")\n",
    "print(determinante)"
   ]
  },
  {
   "cell_type": "markdown",
   "id": "f1b7e5e5-c692-4bca-b03e-e75878344050",
   "metadata": {},
   "source": [
    "### Ejercicio 2.6"
   ]
  },
  {
   "cell_type": "markdown",
   "id": "26b0af32-f978-4b05-aa40-3eda307dac80",
   "metadata": {},
   "source": [
    "NumPy tiene una función específica para resolver ecuaciones lineales."
   ]
  },
  {
   "cell_type": "code",
   "execution_count": 16,
   "id": "ebc55476-a58d-4147-a684-f01fd2cec117",
   "metadata": {},
   "outputs": [
    {
     "name": "stdout",
     "output_type": "stream",
     "text": [
      "Solución del sistema de ecuaciones: \n",
      "x =  0.7857142857142857\n",
      "y =  1.1428571428571428\n"
     ]
    }
   ],
   "source": [
    "coeficientes = np.array([[2, 3], [4, -1]])\n",
    "constantes = np.array([5, 2])\n",
    "\n",
    "solucion = np.linalg.solve(coeficientes, constantes)\n",
    "print(\"Solución del sistema de ecuaciones: \")\n",
    "print(\"x = \", solucion[0])\n",
    "print(\"y = \", solucion[1])"
   ]
  },
  {
   "cell_type": "code",
   "execution_count": null,
   "id": "1bc1ef69-4253-418b-bc0b-f2fdcc9a9217",
   "metadata": {},
   "outputs": [],
   "source": []
  }
 ],
 "metadata": {
  "kernelspec": {
   "display_name": "Python 3 (ipykernel)",
   "language": "python",
   "name": "python3"
  },
  "language_info": {
   "codemirror_mode": {
    "name": "ipython",
    "version": 3
   },
   "file_extension": ".py",
   "mimetype": "text/x-python",
   "name": "python",
   "nbconvert_exporter": "python",
   "pygments_lexer": "ipython3",
   "version": "3.11.7"
  }
 },
 "nbformat": 4,
 "nbformat_minor": 5
}
